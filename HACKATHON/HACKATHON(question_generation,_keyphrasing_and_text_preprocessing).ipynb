{
 "nbformat": 4,
 "nbformat_minor": 0,
 "metadata": {
  "colab": {
   "provenance": [],
   "collapsed_sections": []
  },
  "kernelspec": {
   "name": "python3",
   "display_name": "Python 3"
  },
  "language_info": {
   "name": "python"
  },
  "accelerator": "GPU"
 },
 "cells": [
  {
   "cell_type": "markdown",
   "source": [
    "**Installing Libraries**"
   ],
   "metadata": {
    "id": "HN2CIciHha2U",
    "pycharm": {
     "name": "#%% md\n"
    }
   }
  },
  {
   "cell_type": "code",
   "source": [
    "# !pip install pipelines"
   ],
   "metadata": {
    "id": "Z8auZgrwh_O-",
    "pycharm": {
     "name": "#%%\n"
    }
   },
   "execution_count": 92,
   "outputs": []
  },
  {
   "cell_type": "code",
   "source": [
    "!pip install -U transformers==3.0.0\n",
    "!python -m nltk.downloader punkt\n",
    "!git clone https://github.com/patil-suraj/question_generation.git\n"
   ],
   "metadata": {
    "colab": {
     "base_uri": "https://localhost:8080/"
    },
    "id": "svcPrOjznXcP",
    "outputId": "131b3ffc-b146-4452-cc01-19230d6694b8",
    "pycharm": {
     "name": "#%%\n"
    }
   },
   "execution_count": 93,
   "outputs": [
    {
     "output_type": "stream",
     "name": "stdout",
     "text": [
      "Looking in indexes: https://pypi.org/simple, https://us-python.pkg.dev/colab-wheels/public/simple/\n",
      "Collecting transformers==3.0.0\n",
      "  Using cached transformers-3.0.0-py3-none-any.whl (754 kB)\n",
      "Collecting tokenizers==0.8.0-rc4\n",
      "  Using cached tokenizers-0.8.0rc4-cp37-cp37m-manylinux1_x86_64.whl (3.0 MB)\n",
      "Requirement already satisfied: numpy in /usr/local/lib/python3.7/dist-packages (from transformers==3.0.0) (1.21.6)\n",
      "Requirement already satisfied: requests in /usr/local/lib/python3.7/dist-packages (from transformers==3.0.0) (2.28.1)\n",
      "Requirement already satisfied: filelock in /usr/local/lib/python3.7/dist-packages (from transformers==3.0.0) (3.8.0)\n",
      "Requirement already satisfied: tqdm>=4.27 in /usr/local/lib/python3.7/dist-packages (from transformers==3.0.0) (4.64.1)\n",
      "Requirement already satisfied: sacremoses in /usr/local/lib/python3.7/dist-packages (from transformers==3.0.0) (0.0.53)\n",
      "Requirement already satisfied: packaging in /usr/local/lib/python3.7/dist-packages (from transformers==3.0.0) (21.3)\n",
      "Requirement already satisfied: sentencepiece in /usr/local/lib/python3.7/dist-packages (from transformers==3.0.0) (0.1.95)\n",
      "Requirement already satisfied: regex!=2019.12.17 in /usr/local/lib/python3.7/dist-packages (from transformers==3.0.0) (2022.6.2)\n",
      "Requirement already satisfied: pyparsing!=3.0.5,>=2.0.2 in /usr/local/lib/python3.7/dist-packages (from packaging->transformers==3.0.0) (3.0.9)\n",
      "Requirement already satisfied: charset-normalizer<3,>=2 in /usr/local/lib/python3.7/dist-packages (from requests->transformers==3.0.0) (2.1.1)\n",
      "Requirement already satisfied: idna<4,>=2.5 in /usr/local/lib/python3.7/dist-packages (from requests->transformers==3.0.0) (2.10)\n",
      "Requirement already satisfied: urllib3<1.27,>=1.21.1 in /usr/local/lib/python3.7/dist-packages (from requests->transformers==3.0.0) (1.26.12)\n",
      "Requirement already satisfied: certifi>=2017.4.17 in /usr/local/lib/python3.7/dist-packages (from requests->transformers==3.0.0) (2022.9.24)\n",
      "Requirement already satisfied: six in /usr/local/lib/python3.7/dist-packages (from sacremoses->transformers==3.0.0) (1.15.0)\n",
      "Requirement already satisfied: click in /usr/local/lib/python3.7/dist-packages (from sacremoses->transformers==3.0.0) (7.1.2)\n",
      "Requirement already satisfied: joblib in /usr/local/lib/python3.7/dist-packages (from sacremoses->transformers==3.0.0) (1.2.0)\n",
      "Installing collected packages: tokenizers, transformers\n",
      "  Attempting uninstall: tokenizers\n",
      "    Found existing installation: tokenizers 0.12.1\n",
      "    Uninstalling tokenizers-0.12.1:\n",
      "      Successfully uninstalled tokenizers-0.12.1\n",
      "  Attempting uninstall: transformers\n",
      "    Found existing installation: transformers 4.22.2\n",
      "    Uninstalling transformers-4.22.2:\n",
      "      Successfully uninstalled transformers-4.22.2\n",
      "\u001B[31mERROR: pip's dependency resolver does not currently take into account all the packages that are installed. This behaviour is the source of the following dependency conflicts.\n",
      "sentence-transformers 2.2.2 requires transformers<5.0.0,>=4.6.0, but you have transformers 3.0.0 which is incompatible.\n",
      "flair 0.11.3 requires transformers>=4.0.0, but you have transformers 3.0.0 which is incompatible.\n",
      "farm-haystack 1.10.0rc0 requires transformers==4.21.2, but you have transformers 3.0.0 which is incompatible.\u001B[0m\u001B[31m\n",
      "\u001B[0mSuccessfully installed tokenizers-0.8.0rc4 transformers-3.0.0\n",
      "\u001B[33mWARNING: Running pip as the 'root' user can result in broken permissions and conflicting behaviour with the system package manager. It is recommended to use a virtual environment instead: https://pip.pypa.io/warnings/venv\u001B[0m\u001B[33m\n",
      "\u001B[0m/usr/lib/python3.7/runpy.py:125: RuntimeWarning: 'nltk.downloader' found in sys.modules after import of package 'nltk', but prior to execution of 'nltk.downloader'; this may result in unpredictable behaviour\n",
      "  warn(RuntimeWarning(msg))\n",
      "[nltk_data] Downloading package punkt to /root/nltk_data...\n",
      "[nltk_data]   Package punkt is already up-to-date!\n",
      "Cloning into 'question_generation'...\n",
      "remote: Enumerating objects: 268, done.\u001B[K\n",
      "remote: Total 268 (delta 0), reused 0 (delta 0), pack-reused 268\u001B[K\n",
      "Receiving objects: 100% (268/268), 299.04 KiB | 1.29 MiB/s, done.\n",
      "Resolving deltas: 100% (140/140), done.\n"
     ]
    }
   ]
  },
  {
   "cell_type": "code",
   "execution_count": 94,
   "metadata": {
    "colab": {
     "base_uri": "https://localhost:8080/"
    },
    "id": "Bq7ToJDHyarr",
    "outputId": "079e158a-d5c0-4a81-a8c5-a430b86b9382",
    "pycharm": {
     "name": "#%%\n"
    }
   },
   "outputs": [
    {
     "output_type": "stream",
     "name": "stdout",
     "text": [
      "Looking in indexes: https://pypi.org/simple, https://us-python.pkg.dev/colab-wheels/public/simple/\n",
      "Requirement already satisfied: contractions in /usr/local/lib/python3.7/dist-packages (0.1.72)\n",
      "Requirement already satisfied: textsearch>=0.0.21 in /usr/local/lib/python3.7/dist-packages (from contractions) (0.0.24)\n",
      "Requirement already satisfied: anyascii in /usr/local/lib/python3.7/dist-packages (from textsearch>=0.0.21->contractions) (0.3.1)\n",
      "Requirement already satisfied: pyahocorasick in /usr/local/lib/python3.7/dist-packages (from textsearch>=0.0.21->contractions) (1.4.4)\n",
      "\u001B[33mWARNING: Running pip as the 'root' user can result in broken permissions and conflicting behaviour with the system package manager. It is recommended to use a virtual environment instead: https://pip.pypa.io/warnings/venv\u001B[0m\u001B[33m\n",
      "\u001B[0mLooking in indexes: https://pypi.org/simple, https://us-python.pkg.dev/colab-wheels/public/simple/\n",
      "Requirement already satisfied: rake-nltk in /usr/local/lib/python3.7/dist-packages (1.0.6)\n",
      "Requirement already satisfied: nltk<4.0.0,>=3.6.2 in /usr/local/lib/python3.7/dist-packages (from rake-nltk) (3.7)\n",
      "Requirement already satisfied: joblib in /usr/local/lib/python3.7/dist-packages (from nltk<4.0.0,>=3.6.2->rake-nltk) (1.2.0)\n",
      "Requirement already satisfied: regex>=2021.8.3 in /usr/local/lib/python3.7/dist-packages (from nltk<4.0.0,>=3.6.2->rake-nltk) (2022.6.2)\n",
      "Requirement already satisfied: click in /usr/local/lib/python3.7/dist-packages (from nltk<4.0.0,>=3.6.2->rake-nltk) (7.1.2)\n",
      "Requirement already satisfied: tqdm in /usr/local/lib/python3.7/dist-packages (from nltk<4.0.0,>=3.6.2->rake-nltk) (4.64.1)\n",
      "\u001B[33mWARNING: Running pip as the 'root' user can result in broken permissions and conflicting behaviour with the system package manager. It is recommended to use a virtual environment instead: https://pip.pypa.io/warnings/venv\u001B[0m\u001B[33m\n",
      "\u001B[0mLooking in indexes: https://pypi.org/simple, https://us-python.pkg.dev/colab-wheels/public/simple/\n",
      "Collecting git+https://github.com/boudinfl/pke.git\n",
      "  Cloning https://github.com/boudinfl/pke.git to /tmp/pip-req-build-ygbjx4ow\n",
      "  Running command git clone --filter=blob:none --quiet https://github.com/boudinfl/pke.git /tmp/pip-req-build-ygbjx4ow\n",
      "  Resolved https://github.com/boudinfl/pke.git to commit 5af1f817e0211c33ac3f90e1e86bb5c1283448e8\n",
      "  Preparing metadata (setup.py) ... \u001B[?25l\u001B[?25hdone\n",
      "Requirement already satisfied: nltk in /usr/local/lib/python3.7/dist-packages (from pke==2.0.0) (3.7)\n",
      "Requirement already satisfied: networkx in /usr/local/lib/python3.7/dist-packages (from pke==2.0.0) (2.6.3)\n",
      "Requirement already satisfied: numpy in /usr/local/lib/python3.7/dist-packages (from pke==2.0.0) (1.21.6)\n",
      "Requirement already satisfied: scipy in /usr/local/lib/python3.7/dist-packages (from pke==2.0.0) (1.7.3)\n",
      "Requirement already satisfied: sklearn in /usr/local/lib/python3.7/dist-packages (from pke==2.0.0) (0.0)\n",
      "Requirement already satisfied: unidecode in /usr/local/lib/python3.7/dist-packages (from pke==2.0.0) (1.3.6)\n",
      "Requirement already satisfied: future in /usr/local/lib/python3.7/dist-packages (from pke==2.0.0) (0.16.0)\n",
      "Requirement already satisfied: joblib in /usr/local/lib/python3.7/dist-packages (from pke==2.0.0) (1.2.0)\n",
      "Requirement already satisfied: spacy>=3.2.3 in /usr/local/lib/python3.7/dist-packages (from pke==2.0.0) (3.4.1)\n",
      "Requirement already satisfied: spacy-loggers<2.0.0,>=1.0.0 in /usr/local/lib/python3.7/dist-packages (from spacy>=3.2.3->pke==2.0.0) (1.0.3)\n",
      "Requirement already satisfied: setuptools in /usr/local/lib/python3.7/dist-packages (from spacy>=3.2.3->pke==2.0.0) (57.4.0)\n",
      "Requirement already satisfied: spacy-legacy<3.1.0,>=3.0.9 in /usr/local/lib/python3.7/dist-packages (from spacy>=3.2.3->pke==2.0.0) (3.0.10)\n",
      "Requirement already satisfied: cymem<2.1.0,>=2.0.2 in /usr/local/lib/python3.7/dist-packages (from spacy>=3.2.3->pke==2.0.0) (2.0.6)\n",
      "Requirement already satisfied: typer<0.5.0,>=0.3.0 in /usr/local/lib/python3.7/dist-packages (from spacy>=3.2.3->pke==2.0.0) (0.4.2)\n",
      "Requirement already satisfied: langcodes<4.0.0,>=3.2.0 in /usr/local/lib/python3.7/dist-packages (from spacy>=3.2.3->pke==2.0.0) (3.3.0)\n",
      "Requirement already satisfied: pathy>=0.3.5 in /usr/local/lib/python3.7/dist-packages (from spacy>=3.2.3->pke==2.0.0) (0.6.2)\n",
      "Requirement already satisfied: preshed<3.1.0,>=3.0.2 in /usr/local/lib/python3.7/dist-packages (from spacy>=3.2.3->pke==2.0.0) (3.0.7)\n",
      "Requirement already satisfied: packaging>=20.0 in /usr/local/lib/python3.7/dist-packages (from spacy>=3.2.3->pke==2.0.0) (21.3)\n",
      "Requirement already satisfied: jinja2 in /usr/local/lib/python3.7/dist-packages (from spacy>=3.2.3->pke==2.0.0) (2.11.3)\n",
      "Requirement already satisfied: thinc<8.2.0,>=8.1.0 in /usr/local/lib/python3.7/dist-packages (from spacy>=3.2.3->pke==2.0.0) (8.1.2)\n",
      "Requirement already satisfied: requests<3.0.0,>=2.13.0 in /usr/local/lib/python3.7/dist-packages (from spacy>=3.2.3->pke==2.0.0) (2.28.1)\n",
      "Requirement already satisfied: srsly<3.0.0,>=2.4.3 in /usr/local/lib/python3.7/dist-packages (from spacy>=3.2.3->pke==2.0.0) (2.4.4)\n",
      "Requirement already satisfied: catalogue<2.1.0,>=2.0.6 in /usr/local/lib/python3.7/dist-packages (from spacy>=3.2.3->pke==2.0.0) (2.0.8)\n",
      "Requirement already satisfied: tqdm<5.0.0,>=4.38.0 in /usr/local/lib/python3.7/dist-packages (from spacy>=3.2.3->pke==2.0.0) (4.64.1)\n",
      "Requirement already satisfied: pydantic!=1.8,!=1.8.1,<1.10.0,>=1.7.4 in /usr/local/lib/python3.7/dist-packages (from spacy>=3.2.3->pke==2.0.0) (1.9.2)\n",
      "Requirement already satisfied: typing-extensions<4.2.0,>=3.7.4 in /usr/local/lib/python3.7/dist-packages (from spacy>=3.2.3->pke==2.0.0) (4.1.1)\n",
      "Requirement already satisfied: murmurhash<1.1.0,>=0.28.0 in /usr/local/lib/python3.7/dist-packages (from spacy>=3.2.3->pke==2.0.0) (1.0.8)\n",
      "Requirement already satisfied: wasabi<1.1.0,>=0.9.1 in /usr/local/lib/python3.7/dist-packages (from spacy>=3.2.3->pke==2.0.0) (0.10.1)\n",
      "Requirement already satisfied: regex>=2021.8.3 in /usr/local/lib/python3.7/dist-packages (from nltk->pke==2.0.0) (2022.6.2)\n",
      "Requirement already satisfied: click in /usr/local/lib/python3.7/dist-packages (from nltk->pke==2.0.0) (7.1.2)\n",
      "Requirement already satisfied: scikit-learn in /usr/local/lib/python3.7/dist-packages (from sklearn->pke==2.0.0) (1.0.2)\n",
      "Requirement already satisfied: zipp>=0.5 in /usr/local/lib/python3.7/dist-packages (from catalogue<2.1.0,>=2.0.6->spacy>=3.2.3->pke==2.0.0) (3.8.1)\n",
      "Requirement already satisfied: pyparsing!=3.0.5,>=2.0.2 in /usr/local/lib/python3.7/dist-packages (from packaging>=20.0->spacy>=3.2.3->pke==2.0.0) (3.0.9)\n",
      "Requirement already satisfied: smart-open<6.0.0,>=5.2.1 in /usr/local/lib/python3.7/dist-packages (from pathy>=0.3.5->spacy>=3.2.3->pke==2.0.0) (5.2.1)\n",
      "Requirement already satisfied: idna<4,>=2.5 in /usr/local/lib/python3.7/dist-packages (from requests<3.0.0,>=2.13.0->spacy>=3.2.3->pke==2.0.0) (2.10)\n",
      "Requirement already satisfied: urllib3<1.27,>=1.21.1 in /usr/local/lib/python3.7/dist-packages (from requests<3.0.0,>=2.13.0->spacy>=3.2.3->pke==2.0.0) (1.26.12)\n",
      "Requirement already satisfied: charset-normalizer<3,>=2 in /usr/local/lib/python3.7/dist-packages (from requests<3.0.0,>=2.13.0->spacy>=3.2.3->pke==2.0.0) (2.1.1)\n",
      "Requirement already satisfied: certifi>=2017.4.17 in /usr/local/lib/python3.7/dist-packages (from requests<3.0.0,>=2.13.0->spacy>=3.2.3->pke==2.0.0) (2022.9.24)\n",
      "Requirement already satisfied: confection<1.0.0,>=0.0.1 in /usr/local/lib/python3.7/dist-packages (from thinc<8.2.0,>=8.1.0->spacy>=3.2.3->pke==2.0.0) (0.0.2)\n",
      "Requirement already satisfied: blis<0.8.0,>=0.7.8 in /usr/local/lib/python3.7/dist-packages (from thinc<8.2.0,>=8.1.0->spacy>=3.2.3->pke==2.0.0) (0.7.8)\n",
      "Requirement already satisfied: MarkupSafe>=0.23 in /usr/local/lib/python3.7/dist-packages (from jinja2->spacy>=3.2.3->pke==2.0.0) (2.0.1)\n",
      "Requirement already satisfied: threadpoolctl>=2.0.0 in /usr/local/lib/python3.7/dist-packages (from scikit-learn->sklearn->pke==2.0.0) (3.1.0)\n",
      "\u001B[33mWARNING: Running pip as the 'root' user can result in broken permissions and conflicting behaviour with the system package manager. It is recommended to use a virtual environment instead: https://pip.pypa.io/warnings/venv\u001B[0m\u001B[33m\n",
      "\u001B[0mLooking in indexes: https://pypi.org/simple, https://us-python.pkg.dev/colab-wheels/public/simple/\n",
      "Collecting git+https://github.com/LIAAD/yake\n",
      "  Cloning https://github.com/LIAAD/yake to /tmp/pip-req-build-inskeybo\n",
      "  Running command git clone --filter=blob:none --quiet https://github.com/LIAAD/yake /tmp/pip-req-build-inskeybo\n",
      "  Resolved https://github.com/LIAAD/yake to commit 6a37efc67912195aebed562cd943bca8acc48f64\n",
      "  Preparing metadata (setup.py) ... \u001B[?25l\u001B[?25hdone\n",
      "Requirement already satisfied: tabulate in /usr/local/lib/python3.7/dist-packages (from yake==0.4.8) (0.8.10)\n",
      "Requirement already satisfied: click>=6.0 in /usr/local/lib/python3.7/dist-packages (from yake==0.4.8) (7.1.2)\n",
      "Requirement already satisfied: numpy in /usr/local/lib/python3.7/dist-packages (from yake==0.4.8) (1.21.6)\n",
      "Requirement already satisfied: segtok in /usr/local/lib/python3.7/dist-packages (from yake==0.4.8) (1.5.11)\n",
      "Requirement already satisfied: networkx in /usr/local/lib/python3.7/dist-packages (from yake==0.4.8) (2.6.3)\n",
      "Requirement already satisfied: jellyfish in /usr/local/lib/python3.7/dist-packages (from yake==0.4.8) (0.9.0)\n",
      "Requirement already satisfied: regex in /usr/local/lib/python3.7/dist-packages (from segtok->yake==0.4.8) (2022.6.2)\n",
      "\u001B[33mWARNING: Running pip as the 'root' user can result in broken permissions and conflicting behaviour with the system package manager. It is recommended to use a virtual environment instead: https://pip.pypa.io/warnings/venv\u001B[0m\u001B[33m\n",
      "\u001B[0mLooking in indexes: https://pypi.org/simple, https://us-python.pkg.dev/colab-wheels/public/simple/\n",
      "Requirement already satisfied: keybert in /usr/local/lib/python3.7/dist-packages (0.6.0)\n",
      "Requirement already satisfied: rich>=10.4.0 in /usr/local/lib/python3.7/dist-packages (from keybert) (12.6.0)\n",
      "Requirement already satisfied: sentence-transformers>=0.3.8 in /usr/local/lib/python3.7/dist-packages (from keybert) (2.2.2)\n",
      "Requirement already satisfied: scikit-learn>=0.22.2 in /usr/local/lib/python3.7/dist-packages (from keybert) (1.0.2)\n",
      "Requirement already satisfied: numpy>=1.18.5 in /usr/local/lib/python3.7/dist-packages (from keybert) (1.21.6)\n",
      "Requirement already satisfied: typing-extensions<5.0,>=4.0.0 in /usr/local/lib/python3.7/dist-packages (from rich>=10.4.0->keybert) (4.1.1)\n",
      "Requirement already satisfied: pygments<3.0.0,>=2.6.0 in /usr/local/lib/python3.7/dist-packages (from rich>=10.4.0->keybert) (2.6.1)\n",
      "Requirement already satisfied: commonmark<0.10.0,>=0.9.0 in /usr/local/lib/python3.7/dist-packages (from rich>=10.4.0->keybert) (0.9.1)\n",
      "Requirement already satisfied: joblib>=0.11 in /usr/local/lib/python3.7/dist-packages (from scikit-learn>=0.22.2->keybert) (1.2.0)\n",
      "Requirement already satisfied: scipy>=1.1.0 in /usr/local/lib/python3.7/dist-packages (from scikit-learn>=0.22.2->keybert) (1.7.3)\n",
      "Requirement already satisfied: threadpoolctl>=2.0.0 in /usr/local/lib/python3.7/dist-packages (from scikit-learn>=0.22.2->keybert) (3.1.0)\n",
      "Requirement already satisfied: tqdm in /usr/local/lib/python3.7/dist-packages (from sentence-transformers>=0.3.8->keybert) (4.64.1)\n",
      "Requirement already satisfied: torchvision in /usr/local/lib/python3.7/dist-packages (from sentence-transformers>=0.3.8->keybert) (0.13.1+cu113)\n",
      "Requirement already satisfied: sentencepiece in /usr/local/lib/python3.7/dist-packages (from sentence-transformers>=0.3.8->keybert) (0.1.95)\n",
      "Requirement already satisfied: torch>=1.6.0 in /usr/local/lib/python3.7/dist-packages (from sentence-transformers>=0.3.8->keybert) (1.12.1+cu113)\n",
      "Collecting transformers<5.0.0,>=4.6.0\n",
      "  Using cached transformers-4.22.2-py3-none-any.whl (4.9 MB)\n",
      "Requirement already satisfied: nltk in /usr/local/lib/python3.7/dist-packages (from sentence-transformers>=0.3.8->keybert) (3.7)\n",
      "Requirement already satisfied: huggingface-hub>=0.4.0 in /usr/local/lib/python3.7/dist-packages (from sentence-transformers>=0.3.8->keybert) (0.10.0)\n",
      "Requirement already satisfied: requests in /usr/local/lib/python3.7/dist-packages (from huggingface-hub>=0.4.0->sentence-transformers>=0.3.8->keybert) (2.28.1)\n",
      "Requirement already satisfied: importlib-metadata in /usr/local/lib/python3.7/dist-packages (from huggingface-hub>=0.4.0->sentence-transformers>=0.3.8->keybert) (4.13.0)\n",
      "Requirement already satisfied: filelock in /usr/local/lib/python3.7/dist-packages (from huggingface-hub>=0.4.0->sentence-transformers>=0.3.8->keybert) (3.8.0)\n",
      "Requirement already satisfied: pyyaml>=5.1 in /usr/local/lib/python3.7/dist-packages (from huggingface-hub>=0.4.0->sentence-transformers>=0.3.8->keybert) (6.0)\n",
      "Requirement already satisfied: packaging>=20.9 in /usr/local/lib/python3.7/dist-packages (from huggingface-hub>=0.4.0->sentence-transformers>=0.3.8->keybert) (21.3)\n",
      "Requirement already satisfied: regex!=2019.12.17 in /usr/local/lib/python3.7/dist-packages (from transformers<5.0.0,>=4.6.0->sentence-transformers>=0.3.8->keybert) (2022.6.2)\n",
      "Collecting tokenizers!=0.11.3,<0.13,>=0.11.1\n",
      "  Using cached tokenizers-0.12.1-cp37-cp37m-manylinux_2_12_x86_64.manylinux2010_x86_64.whl (6.6 MB)\n",
      "Requirement already satisfied: click in /usr/local/lib/python3.7/dist-packages (from nltk->sentence-transformers>=0.3.8->keybert) (7.1.2)\n",
      "Requirement already satisfied: pillow!=8.3.*,>=5.3.0 in /usr/local/lib/python3.7/dist-packages (from torchvision->sentence-transformers>=0.3.8->keybert) (7.1.2)\n",
      "Requirement already satisfied: pyparsing!=3.0.5,>=2.0.2 in /usr/local/lib/python3.7/dist-packages (from packaging>=20.9->huggingface-hub>=0.4.0->sentence-transformers>=0.3.8->keybert) (3.0.9)\n",
      "Requirement already satisfied: zipp>=0.5 in /usr/local/lib/python3.7/dist-packages (from importlib-metadata->huggingface-hub>=0.4.0->sentence-transformers>=0.3.8->keybert) (3.8.1)\n",
      "Requirement already satisfied: idna<4,>=2.5 in /usr/local/lib/python3.7/dist-packages (from requests->huggingface-hub>=0.4.0->sentence-transformers>=0.3.8->keybert) (2.10)\n",
      "Requirement already satisfied: urllib3<1.27,>=1.21.1 in /usr/local/lib/python3.7/dist-packages (from requests->huggingface-hub>=0.4.0->sentence-transformers>=0.3.8->keybert) (1.26.12)\n",
      "Requirement already satisfied: certifi>=2017.4.17 in /usr/local/lib/python3.7/dist-packages (from requests->huggingface-hub>=0.4.0->sentence-transformers>=0.3.8->keybert) (2022.9.24)\n",
      "Requirement already satisfied: charset-normalizer<3,>=2 in /usr/local/lib/python3.7/dist-packages (from requests->huggingface-hub>=0.4.0->sentence-transformers>=0.3.8->keybert) (2.1.1)\n",
      "Installing collected packages: tokenizers, transformers\n",
      "  Attempting uninstall: tokenizers\n",
      "    Found existing installation: tokenizers 0.8.0rc4\n",
      "    Uninstalling tokenizers-0.8.0rc4:\n",
      "      Successfully uninstalled tokenizers-0.8.0rc4\n",
      "  Attempting uninstall: transformers\n",
      "    Found existing installation: transformers 3.0.0\n",
      "    Uninstalling transformers-3.0.0:\n",
      "      Successfully uninstalled transformers-3.0.0\n",
      "\u001B[31mERROR: pip's dependency resolver does not currently take into account all the packages that are installed. This behaviour is the source of the following dependency conflicts.\n",
      "farm-haystack 1.10.0rc0 requires transformers==4.21.2, but you have transformers 4.22.2 which is incompatible.\u001B[0m\u001B[31m\n",
      "\u001B[0mSuccessfully installed tokenizers-0.12.1 transformers-4.22.2\n",
      "\u001B[33mWARNING: Running pip as the 'root' user can result in broken permissions and conflicting behaviour with the system package manager. It is recommended to use a virtual environment instead: https://pip.pypa.io/warnings/venv\u001B[0m\u001B[33m\n",
      "\u001B[0mLooking in indexes: https://pypi.org/simple, https://us-python.pkg.dev/colab-wheels/public/simple/\n",
      "Requirement already satisfied: keybert[flair] in /usr/local/lib/python3.7/dist-packages (0.6.0)\n",
      "Requirement already satisfied: scikit-learn>=0.22.2 in /usr/local/lib/python3.7/dist-packages (from keybert[flair]) (1.0.2)\n",
      "Requirement already satisfied: rich>=10.4.0 in /usr/local/lib/python3.7/dist-packages (from keybert[flair]) (12.6.0)\n",
      "Requirement already satisfied: sentence-transformers>=0.3.8 in /usr/local/lib/python3.7/dist-packages (from keybert[flair]) (2.2.2)\n",
      "Requirement already satisfied: numpy>=1.18.5 in /usr/local/lib/python3.7/dist-packages (from keybert[flair]) (1.21.6)\n",
      "Requirement already satisfied: torch>=1.4.0 in /usr/local/lib/python3.7/dist-packages (from keybert[flair]) (1.12.1+cu113)\n",
      "Requirement already satisfied: transformers>=3.5.1 in /usr/local/lib/python3.7/dist-packages (from keybert[flair]) (4.22.2)\n",
      "Requirement already satisfied: flair>=0.7 in /usr/local/lib/python3.7/dist-packages (from keybert[flair]) (0.11.3)\n",
      "Requirement already satisfied: pptree in /usr/local/lib/python3.7/dist-packages (from flair>=0.7->keybert[flair]) (3.1)\n",
      "Requirement already satisfied: janome in /usr/local/lib/python3.7/dist-packages (from flair>=0.7->keybert[flair]) (0.4.2)\n",
      "Requirement already satisfied: gdown==4.4.0 in /usr/local/lib/python3.7/dist-packages (from flair>=0.7->keybert[flair]) (4.4.0)\n",
      "Requirement already satisfied: konoha<5.0.0,>=4.0.0 in /usr/local/lib/python3.7/dist-packages (from flair>=0.7->keybert[flair]) (4.6.5)\n",
      "Requirement already satisfied: deprecated>=1.2.4 in /usr/local/lib/python3.7/dist-packages (from flair>=0.7->keybert[flair]) (1.2.13)\n",
      "Requirement already satisfied: conllu>=4.0 in /usr/local/lib/python3.7/dist-packages (from flair>=0.7->keybert[flair]) (4.5.2)\n",
      "Requirement already satisfied: mpld3==0.3 in /usr/local/lib/python3.7/dist-packages (from flair>=0.7->keybert[flair]) (0.3)\n",
      "Requirement already satisfied: bpemb>=0.3.2 in /usr/local/lib/python3.7/dist-packages (from flair>=0.7->keybert[flair]) (0.3.4)\n",
      "Requirement already satisfied: gensim>=3.4.0 in /usr/local/lib/python3.7/dist-packages (from flair>=0.7->keybert[flair]) (3.6.0)\n",
      "Requirement already satisfied: python-dateutil>=2.6.1 in /usr/local/lib/python3.7/dist-packages (from flair>=0.7->keybert[flair]) (2.8.2)\n",
      "Requirement already satisfied: tqdm>=4.26.0 in /usr/local/lib/python3.7/dist-packages (from flair>=0.7->keybert[flair]) (4.64.1)\n",
      "Requirement already satisfied: langdetect in /usr/local/lib/python3.7/dist-packages (from flair>=0.7->keybert[flair]) (1.0.9)\n",
      "Requirement already satisfied: sentencepiece==0.1.95 in /usr/local/lib/python3.7/dist-packages (from flair>=0.7->keybert[flair]) (0.1.95)\n",
      "Requirement already satisfied: huggingface-hub in /usr/local/lib/python3.7/dist-packages (from flair>=0.7->keybert[flair]) (0.10.0)\n",
      "Requirement already satisfied: segtok>=1.5.7 in /usr/local/lib/python3.7/dist-packages (from flair>=0.7->keybert[flair]) (1.5.11)\n",
      "Requirement already satisfied: hyperopt>=0.2.7 in /usr/local/lib/python3.7/dist-packages (from flair>=0.7->keybert[flair]) (0.2.7)\n",
      "Requirement already satisfied: ftfy in /usr/local/lib/python3.7/dist-packages (from flair>=0.7->keybert[flair]) (6.1.1)\n",
      "Requirement already satisfied: more-itertools in /usr/local/lib/python3.7/dist-packages (from flair>=0.7->keybert[flair]) (8.14.0)\n",
      "Requirement already satisfied: lxml in /usr/local/lib/python3.7/dist-packages (from flair>=0.7->keybert[flair]) (4.9.1)\n",
      "Requirement already satisfied: tabulate in /usr/local/lib/python3.7/dist-packages (from flair>=0.7->keybert[flair]) (0.8.10)\n",
      "Requirement already satisfied: wikipedia-api in /usr/local/lib/python3.7/dist-packages (from flair>=0.7->keybert[flair]) (0.5.4)\n",
      "Requirement already satisfied: matplotlib>=2.2.3 in /usr/local/lib/python3.7/dist-packages (from flair>=0.7->keybert[flair]) (3.2.2)\n",
      "Requirement already satisfied: sqlitedict>=1.6.0 in /usr/local/lib/python3.7/dist-packages (from flair>=0.7->keybert[flair]) (2.0.0)\n",
      "Requirement already satisfied: regex in /usr/local/lib/python3.7/dist-packages (from flair>=0.7->keybert[flair]) (2022.6.2)\n",
      "Requirement already satisfied: beautifulsoup4 in /usr/local/lib/python3.7/dist-packages (from gdown==4.4.0->flair>=0.7->keybert[flair]) (4.6.3)\n",
      "Requirement already satisfied: six in /usr/local/lib/python3.7/dist-packages (from gdown==4.4.0->flair>=0.7->keybert[flair]) (1.15.0)\n",
      "Requirement already satisfied: requests[socks] in /usr/local/lib/python3.7/dist-packages (from gdown==4.4.0->flair>=0.7->keybert[flair]) (2.28.1)\n",
      "Requirement already satisfied: filelock in /usr/local/lib/python3.7/dist-packages (from gdown==4.4.0->flair>=0.7->keybert[flair]) (3.8.0)\n",
      "Requirement already satisfied: typing-extensions<5.0,>=4.0.0 in /usr/local/lib/python3.7/dist-packages (from rich>=10.4.0->keybert[flair]) (4.1.1)\n",
      "Requirement already satisfied: commonmark<0.10.0,>=0.9.0 in /usr/local/lib/python3.7/dist-packages (from rich>=10.4.0->keybert[flair]) (0.9.1)\n",
      "Requirement already satisfied: pygments<3.0.0,>=2.6.0 in /usr/local/lib/python3.7/dist-packages (from rich>=10.4.0->keybert[flair]) (2.6.1)\n",
      "Requirement already satisfied: threadpoolctl>=2.0.0 in /usr/local/lib/python3.7/dist-packages (from scikit-learn>=0.22.2->keybert[flair]) (3.1.0)\n",
      "Requirement already satisfied: joblib>=0.11 in /usr/local/lib/python3.7/dist-packages (from scikit-learn>=0.22.2->keybert[flair]) (1.2.0)\n",
      "Requirement already satisfied: scipy>=1.1.0 in /usr/local/lib/python3.7/dist-packages (from scikit-learn>=0.22.2->keybert[flair]) (1.7.3)\n",
      "Requirement already satisfied: torchvision in /usr/local/lib/python3.7/dist-packages (from sentence-transformers>=0.3.8->keybert[flair]) (0.13.1+cu113)\n",
      "Requirement already satisfied: nltk in /usr/local/lib/python3.7/dist-packages (from sentence-transformers>=0.3.8->keybert[flair]) (3.7)\n",
      "Requirement already satisfied: pyyaml>=5.1 in /usr/local/lib/python3.7/dist-packages (from transformers>=3.5.1->keybert[flair]) (6.0)\n",
      "Requirement already satisfied: importlib-metadata in /usr/local/lib/python3.7/dist-packages (from transformers>=3.5.1->keybert[flair]) (4.13.0)\n",
      "Requirement already satisfied: tokenizers!=0.11.3,<0.13,>=0.11.1 in /usr/local/lib/python3.7/dist-packages (from transformers>=3.5.1->keybert[flair]) (0.12.1)\n",
      "Requirement already satisfied: packaging>=20.0 in /usr/local/lib/python3.7/dist-packages (from transformers>=3.5.1->keybert[flair]) (21.3)\n",
      "Requirement already satisfied: wrapt<2,>=1.10 in /usr/local/lib/python3.7/dist-packages (from deprecated>=1.2.4->flair>=0.7->keybert[flair]) (1.14.1)\n",
      "Requirement already satisfied: smart-open>=1.2.1 in /usr/local/lib/python3.7/dist-packages (from gensim>=3.4.0->flair>=0.7->keybert[flair]) (5.2.1)\n",
      "Requirement already satisfied: py4j in /usr/local/lib/python3.7/dist-packages (from hyperopt>=0.2.7->flair>=0.7->keybert[flair]) (0.10.9.7)\n",
      "Requirement already satisfied: future in /usr/local/lib/python3.7/dist-packages (from hyperopt>=0.2.7->flair>=0.7->keybert[flair]) (0.16.0)\n",
      "Requirement already satisfied: networkx>=2.2 in /usr/local/lib/python3.7/dist-packages (from hyperopt>=0.2.7->flair>=0.7->keybert[flair]) (2.6.3)\n",
      "Requirement already satisfied: cloudpickle in /usr/local/lib/python3.7/dist-packages (from hyperopt>=0.2.7->flair>=0.7->keybert[flair]) (1.5.0)\n",
      "Requirement already satisfied: overrides<4.0.0,>=3.0.0 in /usr/local/lib/python3.7/dist-packages (from konoha<5.0.0,>=4.0.0->flair>=0.7->keybert[flair]) (3.1.0)\n",
      "Collecting importlib-metadata\n",
      "  Using cached importlib_metadata-3.10.1-py3-none-any.whl (14 kB)\n",
      "Requirement already satisfied: zipp>=0.5 in /usr/local/lib/python3.7/dist-packages (from importlib-metadata->transformers>=3.5.1->keybert[flair]) (3.8.1)\n",
      "Requirement already satisfied: cycler>=0.10 in /usr/local/lib/python3.7/dist-packages (from matplotlib>=2.2.3->flair>=0.7->keybert[flair]) (0.11.0)\n",
      "Requirement already satisfied: pyparsing!=2.0.4,!=2.1.2,!=2.1.6,>=2.0.1 in /usr/local/lib/python3.7/dist-packages (from matplotlib>=2.2.3->flair>=0.7->keybert[flair]) (3.0.9)\n",
      "Requirement already satisfied: kiwisolver>=1.0.1 in /usr/local/lib/python3.7/dist-packages (from matplotlib>=2.2.3->flair>=0.7->keybert[flair]) (1.4.4)\n",
      "Requirement already satisfied: idna<4,>=2.5 in /usr/local/lib/python3.7/dist-packages (from requests[socks]->gdown==4.4.0->flair>=0.7->keybert[flair]) (2.10)\n",
      "Requirement already satisfied: urllib3<1.27,>=1.21.1 in /usr/local/lib/python3.7/dist-packages (from requests[socks]->gdown==4.4.0->flair>=0.7->keybert[flair]) (1.26.12)\n",
      "Requirement already satisfied: certifi>=2017.4.17 in /usr/local/lib/python3.7/dist-packages (from requests[socks]->gdown==4.4.0->flair>=0.7->keybert[flair]) (2022.9.24)\n",
      "Requirement already satisfied: charset-normalizer<3,>=2 in /usr/local/lib/python3.7/dist-packages (from requests[socks]->gdown==4.4.0->flair>=0.7->keybert[flair]) (2.1.1)\n",
      "Requirement already satisfied: wcwidth>=0.2.5 in /usr/local/lib/python3.7/dist-packages (from ftfy->flair>=0.7->keybert[flair]) (0.2.5)\n",
      "Requirement already satisfied: click in /usr/local/lib/python3.7/dist-packages (from nltk->sentence-transformers>=0.3.8->keybert[flair]) (7.1.2)\n",
      "Requirement already satisfied: pillow!=8.3.*,>=5.3.0 in /usr/local/lib/python3.7/dist-packages (from torchvision->sentence-transformers>=0.3.8->keybert[flair]) (7.1.2)\n",
      "Requirement already satisfied: PySocks!=1.5.7,>=1.5.6 in /usr/local/lib/python3.7/dist-packages (from requests[socks]->gdown==4.4.0->flair>=0.7->keybert[flair]) (1.7.1)\n",
      "Installing collected packages: importlib-metadata\n",
      "  Attempting uninstall: importlib-metadata\n",
      "    Found existing installation: importlib-metadata 4.13.0\n",
      "    Uninstalling importlib-metadata-4.13.0:\n",
      "      Successfully uninstalled importlib-metadata-4.13.0\n",
      "\u001B[31mERROR: pip's dependency resolver does not currently take into account all the packages that are installed. This behaviour is the source of the following dependency conflicts.\n",
      "markdown 3.4.1 requires importlib-metadata>=4.4; python_version < \"3.10\", but you have importlib-metadata 3.10.1 which is incompatible.\n",
      "gym 0.25.2 requires importlib-metadata>=4.8.0; python_version < \"3.10\", but you have importlib-metadata 3.10.1 which is incompatible.\n",
      "farm-haystack 1.10.0rc0 requires transformers==4.21.2, but you have transformers 4.22.2 which is incompatible.\u001B[0m\u001B[31m\n",
      "\u001B[0mSuccessfully installed importlib-metadata-3.10.1\n",
      "\u001B[33mWARNING: Running pip as the 'root' user can result in broken permissions and conflicting behaviour with the system package manager. It is recommended to use a virtual environment instead: https://pip.pypa.io/warnings/venv\u001B[0m\u001B[33m\n",
      "\u001B[0mLooking in indexes: https://pypi.org/simple, https://us-python.pkg.dev/colab-wheels/public/simple/\n",
      "Requirement already satisfied: keybert[gensim] in /usr/local/lib/python3.7/dist-packages (0.6.0)\n",
      "Requirement already satisfied: numpy>=1.18.5 in /usr/local/lib/python3.7/dist-packages (from keybert[gensim]) (1.21.6)\n",
      "Requirement already satisfied: rich>=10.4.0 in /usr/local/lib/python3.7/dist-packages (from keybert[gensim]) (12.6.0)\n",
      "Requirement already satisfied: scikit-learn>=0.22.2 in /usr/local/lib/python3.7/dist-packages (from keybert[gensim]) (1.0.2)\n",
      "Requirement already satisfied: sentence-transformers>=0.3.8 in /usr/local/lib/python3.7/dist-packages (from keybert[gensim]) (2.2.2)\n",
      "Requirement already satisfied: gensim>=3.6.0 in /usr/local/lib/python3.7/dist-packages (from keybert[gensim]) (3.6.0)\n",
      "Requirement already satisfied: smart-open>=1.2.1 in /usr/local/lib/python3.7/dist-packages (from gensim>=3.6.0->keybert[gensim]) (5.2.1)\n",
      "Requirement already satisfied: six>=1.5.0 in /usr/local/lib/python3.7/dist-packages (from gensim>=3.6.0->keybert[gensim]) (1.15.0)\n",
      "Requirement already satisfied: scipy>=0.18.1 in /usr/local/lib/python3.7/dist-packages (from gensim>=3.6.0->keybert[gensim]) (1.7.3)\n",
      "Requirement already satisfied: commonmark<0.10.0,>=0.9.0 in /usr/local/lib/python3.7/dist-packages (from rich>=10.4.0->keybert[gensim]) (0.9.1)\n",
      "Requirement already satisfied: pygments<3.0.0,>=2.6.0 in /usr/local/lib/python3.7/dist-packages (from rich>=10.4.0->keybert[gensim]) (2.6.1)\n",
      "Requirement already satisfied: typing-extensions<5.0,>=4.0.0 in /usr/local/lib/python3.7/dist-packages (from rich>=10.4.0->keybert[gensim]) (4.1.1)\n",
      "Requirement already satisfied: joblib>=0.11 in /usr/local/lib/python3.7/dist-packages (from scikit-learn>=0.22.2->keybert[gensim]) (1.2.0)\n",
      "Requirement already satisfied: threadpoolctl>=2.0.0 in /usr/local/lib/python3.7/dist-packages (from scikit-learn>=0.22.2->keybert[gensim]) (3.1.0)\n",
      "Requirement already satisfied: nltk in /usr/local/lib/python3.7/dist-packages (from sentence-transformers>=0.3.8->keybert[gensim]) (3.7)\n",
      "Requirement already satisfied: torchvision in /usr/local/lib/python3.7/dist-packages (from sentence-transformers>=0.3.8->keybert[gensim]) (0.13.1+cu113)\n",
      "Requirement already satisfied: sentencepiece in /usr/local/lib/python3.7/dist-packages (from sentence-transformers>=0.3.8->keybert[gensim]) (0.1.95)\n",
      "Requirement already satisfied: huggingface-hub>=0.4.0 in /usr/local/lib/python3.7/dist-packages (from sentence-transformers>=0.3.8->keybert[gensim]) (0.10.0)\n",
      "Requirement already satisfied: tqdm in /usr/local/lib/python3.7/dist-packages (from sentence-transformers>=0.3.8->keybert[gensim]) (4.64.1)\n",
      "Requirement already satisfied: torch>=1.6.0 in /usr/local/lib/python3.7/dist-packages (from sentence-transformers>=0.3.8->keybert[gensim]) (1.12.1+cu113)\n",
      "Requirement already satisfied: transformers<5.0.0,>=4.6.0 in /usr/local/lib/python3.7/dist-packages (from sentence-transformers>=0.3.8->keybert[gensim]) (4.22.2)\n",
      "Requirement already satisfied: filelock in /usr/local/lib/python3.7/dist-packages (from huggingface-hub>=0.4.0->sentence-transformers>=0.3.8->keybert[gensim]) (3.8.0)\n",
      "Requirement already satisfied: requests in /usr/local/lib/python3.7/dist-packages (from huggingface-hub>=0.4.0->sentence-transformers>=0.3.8->keybert[gensim]) (2.28.1)\n",
      "Requirement already satisfied: importlib-metadata in /usr/local/lib/python3.7/dist-packages (from huggingface-hub>=0.4.0->sentence-transformers>=0.3.8->keybert[gensim]) (3.10.1)\n",
      "Requirement already satisfied: packaging>=20.9 in /usr/local/lib/python3.7/dist-packages (from huggingface-hub>=0.4.0->sentence-transformers>=0.3.8->keybert[gensim]) (21.3)\n",
      "Requirement already satisfied: pyyaml>=5.1 in /usr/local/lib/python3.7/dist-packages (from huggingface-hub>=0.4.0->sentence-transformers>=0.3.8->keybert[gensim]) (6.0)\n",
      "Requirement already satisfied: regex!=2019.12.17 in /usr/local/lib/python3.7/dist-packages (from transformers<5.0.0,>=4.6.0->sentence-transformers>=0.3.8->keybert[gensim]) (2022.6.2)\n",
      "Requirement already satisfied: tokenizers!=0.11.3,<0.13,>=0.11.1 in /usr/local/lib/python3.7/dist-packages (from transformers<5.0.0,>=4.6.0->sentence-transformers>=0.3.8->keybert[gensim]) (0.12.1)\n",
      "Requirement already satisfied: click in /usr/local/lib/python3.7/dist-packages (from nltk->sentence-transformers>=0.3.8->keybert[gensim]) (7.1.2)\n",
      "Requirement already satisfied: pillow!=8.3.*,>=5.3.0 in /usr/local/lib/python3.7/dist-packages (from torchvision->sentence-transformers>=0.3.8->keybert[gensim]) (7.1.2)\n",
      "Requirement already satisfied: pyparsing!=3.0.5,>=2.0.2 in /usr/local/lib/python3.7/dist-packages (from packaging>=20.9->huggingface-hub>=0.4.0->sentence-transformers>=0.3.8->keybert[gensim]) (3.0.9)\n",
      "Requirement already satisfied: zipp>=0.5 in /usr/local/lib/python3.7/dist-packages (from importlib-metadata->huggingface-hub>=0.4.0->sentence-transformers>=0.3.8->keybert[gensim]) (3.8.1)\n",
      "Requirement already satisfied: certifi>=2017.4.17 in /usr/local/lib/python3.7/dist-packages (from requests->huggingface-hub>=0.4.0->sentence-transformers>=0.3.8->keybert[gensim]) (2022.9.24)\n",
      "Requirement already satisfied: charset-normalizer<3,>=2 in /usr/local/lib/python3.7/dist-packages (from requests->huggingface-hub>=0.4.0->sentence-transformers>=0.3.8->keybert[gensim]) (2.1.1)\n",
      "Requirement already satisfied: urllib3<1.27,>=1.21.1 in /usr/local/lib/python3.7/dist-packages (from requests->huggingface-hub>=0.4.0->sentence-transformers>=0.3.8->keybert[gensim]) (1.26.12)\n",
      "Requirement already satisfied: idna<4,>=2.5 in /usr/local/lib/python3.7/dist-packages (from requests->huggingface-hub>=0.4.0->sentence-transformers>=0.3.8->keybert[gensim]) (2.10)\n",
      "\u001B[33mWARNING: Running pip as the 'root' user can result in broken permissions and conflicting behaviour with the system package manager. It is recommended to use a virtual environment instead: https://pip.pypa.io/warnings/venv\u001B[0m\u001B[33m\n",
      "\u001B[0mLooking in indexes: https://pypi.org/simple, https://us-python.pkg.dev/colab-wheels/public/simple/\n",
      "Requirement already satisfied: keybert[spacy] in /usr/local/lib/python3.7/dist-packages (0.6.0)\n",
      "Requirement already satisfied: scikit-learn>=0.22.2 in /usr/local/lib/python3.7/dist-packages (from keybert[spacy]) (1.0.2)\n",
      "Requirement already satisfied: numpy>=1.18.5 in /usr/local/lib/python3.7/dist-packages (from keybert[spacy]) (1.21.6)\n",
      "Requirement already satisfied: sentence-transformers>=0.3.8 in /usr/local/lib/python3.7/dist-packages (from keybert[spacy]) (2.2.2)\n",
      "Requirement already satisfied: rich>=10.4.0 in /usr/local/lib/python3.7/dist-packages (from keybert[spacy]) (12.6.0)\n",
      "Requirement already satisfied: spacy>=3.0.1 in /usr/local/lib/python3.7/dist-packages (from keybert[spacy]) (3.4.1)\n",
      "Requirement already satisfied: pygments<3.0.0,>=2.6.0 in /usr/local/lib/python3.7/dist-packages (from rich>=10.4.0->keybert[spacy]) (2.6.1)\n",
      "Requirement already satisfied: typing-extensions<5.0,>=4.0.0 in /usr/local/lib/python3.7/dist-packages (from rich>=10.4.0->keybert[spacy]) (4.1.1)\n",
      "Requirement already satisfied: commonmark<0.10.0,>=0.9.0 in /usr/local/lib/python3.7/dist-packages (from rich>=10.4.0->keybert[spacy]) (0.9.1)\n",
      "Requirement already satisfied: threadpoolctl>=2.0.0 in /usr/local/lib/python3.7/dist-packages (from scikit-learn>=0.22.2->keybert[spacy]) (3.1.0)\n",
      "Requirement already satisfied: joblib>=0.11 in /usr/local/lib/python3.7/dist-packages (from scikit-learn>=0.22.2->keybert[spacy]) (1.2.0)\n",
      "Requirement already satisfied: scipy>=1.1.0 in /usr/local/lib/python3.7/dist-packages (from scikit-learn>=0.22.2->keybert[spacy]) (1.7.3)\n",
      "Requirement already satisfied: transformers<5.0.0,>=4.6.0 in /usr/local/lib/python3.7/dist-packages (from sentence-transformers>=0.3.8->keybert[spacy]) (4.22.2)\n",
      "Requirement already satisfied: nltk in /usr/local/lib/python3.7/dist-packages (from sentence-transformers>=0.3.8->keybert[spacy]) (3.7)\n",
      "Requirement already satisfied: torchvision in /usr/local/lib/python3.7/dist-packages (from sentence-transformers>=0.3.8->keybert[spacy]) (0.13.1+cu113)\n",
      "Requirement already satisfied: sentencepiece in /usr/local/lib/python3.7/dist-packages (from sentence-transformers>=0.3.8->keybert[spacy]) (0.1.95)\n",
      "Requirement already satisfied: torch>=1.6.0 in /usr/local/lib/python3.7/dist-packages (from sentence-transformers>=0.3.8->keybert[spacy]) (1.12.1+cu113)\n",
      "Requirement already satisfied: huggingface-hub>=0.4.0 in /usr/local/lib/python3.7/dist-packages (from sentence-transformers>=0.3.8->keybert[spacy]) (0.10.0)\n",
      "Requirement already satisfied: tqdm in /usr/local/lib/python3.7/dist-packages (from sentence-transformers>=0.3.8->keybert[spacy]) (4.64.1)\n",
      "Requirement already satisfied: spacy-legacy<3.1.0,>=3.0.9 in /usr/local/lib/python3.7/dist-packages (from spacy>=3.0.1->keybert[spacy]) (3.0.10)\n",
      "Requirement already satisfied: pydantic!=1.8,!=1.8.1,<1.10.0,>=1.7.4 in /usr/local/lib/python3.7/dist-packages (from spacy>=3.0.1->keybert[spacy]) (1.9.2)\n",
      "Requirement already satisfied: pathy>=0.3.5 in /usr/local/lib/python3.7/dist-packages (from spacy>=3.0.1->keybert[spacy]) (0.6.2)\n",
      "Requirement already satisfied: spacy-loggers<2.0.0,>=1.0.0 in /usr/local/lib/python3.7/dist-packages (from spacy>=3.0.1->keybert[spacy]) (1.0.3)\n",
      "Requirement already satisfied: cymem<2.1.0,>=2.0.2 in /usr/local/lib/python3.7/dist-packages (from spacy>=3.0.1->keybert[spacy]) (2.0.6)\n",
      "Requirement already satisfied: jinja2 in /usr/local/lib/python3.7/dist-packages (from spacy>=3.0.1->keybert[spacy]) (2.11.3)\n",
      "Requirement already satisfied: srsly<3.0.0,>=2.4.3 in /usr/local/lib/python3.7/dist-packages (from spacy>=3.0.1->keybert[spacy]) (2.4.4)\n",
      "Requirement already satisfied: setuptools in /usr/local/lib/python3.7/dist-packages (from spacy>=3.0.1->keybert[spacy]) (57.4.0)\n",
      "Requirement already satisfied: langcodes<4.0.0,>=3.2.0 in /usr/local/lib/python3.7/dist-packages (from spacy>=3.0.1->keybert[spacy]) (3.3.0)\n",
      "Requirement already satisfied: preshed<3.1.0,>=3.0.2 in /usr/local/lib/python3.7/dist-packages (from spacy>=3.0.1->keybert[spacy]) (3.0.7)\n",
      "Requirement already satisfied: wasabi<1.1.0,>=0.9.1 in /usr/local/lib/python3.7/dist-packages (from spacy>=3.0.1->keybert[spacy]) (0.10.1)\n",
      "Requirement already satisfied: murmurhash<1.1.0,>=0.28.0 in /usr/local/lib/python3.7/dist-packages (from spacy>=3.0.1->keybert[spacy]) (1.0.8)\n",
      "Requirement already satisfied: requests<3.0.0,>=2.13.0 in /usr/local/lib/python3.7/dist-packages (from spacy>=3.0.1->keybert[spacy]) (2.28.1)\n",
      "Requirement already satisfied: packaging>=20.0 in /usr/local/lib/python3.7/dist-packages (from spacy>=3.0.1->keybert[spacy]) (21.3)\n",
      "Requirement already satisfied: typer<0.5.0,>=0.3.0 in /usr/local/lib/python3.7/dist-packages (from spacy>=3.0.1->keybert[spacy]) (0.4.2)\n",
      "Requirement already satisfied: catalogue<2.1.0,>=2.0.6 in /usr/local/lib/python3.7/dist-packages (from spacy>=3.0.1->keybert[spacy]) (2.0.8)\n",
      "Requirement already satisfied: thinc<8.2.0,>=8.1.0 in /usr/local/lib/python3.7/dist-packages (from spacy>=3.0.1->keybert[spacy]) (8.1.2)\n",
      "Requirement already satisfied: zipp>=0.5 in /usr/local/lib/python3.7/dist-packages (from catalogue<2.1.0,>=2.0.6->spacy>=3.0.1->keybert[spacy]) (3.8.1)\n",
      "Requirement already satisfied: pyyaml>=5.1 in /usr/local/lib/python3.7/dist-packages (from huggingface-hub>=0.4.0->sentence-transformers>=0.3.8->keybert[spacy]) (6.0)\n",
      "Requirement already satisfied: filelock in /usr/local/lib/python3.7/dist-packages (from huggingface-hub>=0.4.0->sentence-transformers>=0.3.8->keybert[spacy]) (3.8.0)\n",
      "Requirement already satisfied: importlib-metadata in /usr/local/lib/python3.7/dist-packages (from huggingface-hub>=0.4.0->sentence-transformers>=0.3.8->keybert[spacy]) (3.10.1)\n",
      "Requirement already satisfied: pyparsing!=3.0.5,>=2.0.2 in /usr/local/lib/python3.7/dist-packages (from packaging>=20.0->spacy>=3.0.1->keybert[spacy]) (3.0.9)\n",
      "Requirement already satisfied: smart-open<6.0.0,>=5.2.1 in /usr/local/lib/python3.7/dist-packages (from pathy>=0.3.5->spacy>=3.0.1->keybert[spacy]) (5.2.1)\n",
      "Requirement already satisfied: certifi>=2017.4.17 in /usr/local/lib/python3.7/dist-packages (from requests<3.0.0,>=2.13.0->spacy>=3.0.1->keybert[spacy]) (2022.9.24)\n",
      "Requirement already satisfied: urllib3<1.27,>=1.21.1 in /usr/local/lib/python3.7/dist-packages (from requests<3.0.0,>=2.13.0->spacy>=3.0.1->keybert[spacy]) (1.26.12)\n",
      "Requirement already satisfied: idna<4,>=2.5 in /usr/local/lib/python3.7/dist-packages (from requests<3.0.0,>=2.13.0->spacy>=3.0.1->keybert[spacy]) (2.10)\n",
      "Requirement already satisfied: charset-normalizer<3,>=2 in /usr/local/lib/python3.7/dist-packages (from requests<3.0.0,>=2.13.0->spacy>=3.0.1->keybert[spacy]) (2.1.1)\n",
      "Requirement already satisfied: confection<1.0.0,>=0.0.1 in /usr/local/lib/python3.7/dist-packages (from thinc<8.2.0,>=8.1.0->spacy>=3.0.1->keybert[spacy]) (0.0.2)\n",
      "Requirement already satisfied: blis<0.8.0,>=0.7.8 in /usr/local/lib/python3.7/dist-packages (from thinc<8.2.0,>=8.1.0->spacy>=3.0.1->keybert[spacy]) (0.7.8)\n",
      "Requirement already satisfied: regex!=2019.12.17 in /usr/local/lib/python3.7/dist-packages (from transformers<5.0.0,>=4.6.0->sentence-transformers>=0.3.8->keybert[spacy]) (2022.6.2)\n",
      "Requirement already satisfied: tokenizers!=0.11.3,<0.13,>=0.11.1 in /usr/local/lib/python3.7/dist-packages (from transformers<5.0.0,>=4.6.0->sentence-transformers>=0.3.8->keybert[spacy]) (0.12.1)\n",
      "Requirement already satisfied: click<9.0.0,>=7.1.1 in /usr/local/lib/python3.7/dist-packages (from typer<0.5.0,>=0.3.0->spacy>=3.0.1->keybert[spacy]) (7.1.2)\n",
      "Requirement already satisfied: MarkupSafe>=0.23 in /usr/local/lib/python3.7/dist-packages (from jinja2->spacy>=3.0.1->keybert[spacy]) (2.0.1)\n",
      "Requirement already satisfied: pillow!=8.3.*,>=5.3.0 in /usr/local/lib/python3.7/dist-packages (from torchvision->sentence-transformers>=0.3.8->keybert[spacy]) (7.1.2)\n",
      "\u001B[33mWARNING: Running pip as the 'root' user can result in broken permissions and conflicting behaviour with the system package manager. It is recommended to use a virtual environment instead: https://pip.pypa.io/warnings/venv\u001B[0m\u001B[33m\n",
      "\u001B[0mLooking in indexes: https://pypi.org/simple, https://us-python.pkg.dev/colab-wheels/public/simple/\n",
      "Requirement already satisfied: keybert[use] in /usr/local/lib/python3.7/dist-packages (0.6.0)\n",
      "Requirement already satisfied: numpy>=1.18.5 in /usr/local/lib/python3.7/dist-packages (from keybert[use]) (1.21.6)\n",
      "Requirement already satisfied: sentence-transformers>=0.3.8 in /usr/local/lib/python3.7/dist-packages (from keybert[use]) (2.2.2)\n",
      "Requirement already satisfied: rich>=10.4.0 in /usr/local/lib/python3.7/dist-packages (from keybert[use]) (12.6.0)\n",
      "Requirement already satisfied: scikit-learn>=0.22.2 in /usr/local/lib/python3.7/dist-packages (from keybert[use]) (1.0.2)\n",
      "Requirement already satisfied: tensorflow-hub in /usr/local/lib/python3.7/dist-packages (from keybert[use]) (0.12.0)\n",
      "Requirement already satisfied: tensorflow in /usr/local/lib/python3.7/dist-packages (from keybert[use]) (2.8.2+zzzcolab20220929150707)\n",
      "Requirement already satisfied: tensorflow-text in /usr/local/lib/python3.7/dist-packages (from keybert[use]) (2.8.2)\n",
      "Requirement already satisfied: typing-extensions<5.0,>=4.0.0 in /usr/local/lib/python3.7/dist-packages (from rich>=10.4.0->keybert[use]) (4.1.1)\n",
      "Requirement already satisfied: pygments<3.0.0,>=2.6.0 in /usr/local/lib/python3.7/dist-packages (from rich>=10.4.0->keybert[use]) (2.6.1)\n",
      "Requirement already satisfied: commonmark<0.10.0,>=0.9.0 in /usr/local/lib/python3.7/dist-packages (from rich>=10.4.0->keybert[use]) (0.9.1)\n",
      "Requirement already satisfied: scipy>=1.1.0 in /usr/local/lib/python3.7/dist-packages (from scikit-learn>=0.22.2->keybert[use]) (1.7.3)\n",
      "Requirement already satisfied: joblib>=0.11 in /usr/local/lib/python3.7/dist-packages (from scikit-learn>=0.22.2->keybert[use]) (1.2.0)\n",
      "Requirement already satisfied: threadpoolctl>=2.0.0 in /usr/local/lib/python3.7/dist-packages (from scikit-learn>=0.22.2->keybert[use]) (3.1.0)\n",
      "Requirement already satisfied: nltk in /usr/local/lib/python3.7/dist-packages (from sentence-transformers>=0.3.8->keybert[use]) (3.7)\n",
      "Requirement already satisfied: torch>=1.6.0 in /usr/local/lib/python3.7/dist-packages (from sentence-transformers>=0.3.8->keybert[use]) (1.12.1+cu113)\n",
      "Requirement already satisfied: sentencepiece in /usr/local/lib/python3.7/dist-packages (from sentence-transformers>=0.3.8->keybert[use]) (0.1.95)\n",
      "Requirement already satisfied: huggingface-hub>=0.4.0 in /usr/local/lib/python3.7/dist-packages (from sentence-transformers>=0.3.8->keybert[use]) (0.10.0)\n",
      "Requirement already satisfied: torchvision in /usr/local/lib/python3.7/dist-packages (from sentence-transformers>=0.3.8->keybert[use]) (0.13.1+cu113)\n",
      "Requirement already satisfied: transformers<5.0.0,>=4.6.0 in /usr/local/lib/python3.7/dist-packages (from sentence-transformers>=0.3.8->keybert[use]) (4.22.2)\n",
      "Requirement already satisfied: tqdm in /usr/local/lib/python3.7/dist-packages (from sentence-transformers>=0.3.8->keybert[use]) (4.64.1)\n",
      "Requirement already satisfied: protobuf<3.20,>=3.9.2 in /usr/local/lib/python3.7/dist-packages (from tensorflow->keybert[use]) (3.17.3)\n",
      "Requirement already satisfied: setuptools in /usr/local/lib/python3.7/dist-packages (from tensorflow->keybert[use]) (57.4.0)\n",
      "Requirement already satisfied: keras-preprocessing>=1.1.1 in /usr/local/lib/python3.7/dist-packages (from tensorflow->keybert[use]) (1.1.2)\n",
      "Requirement already satisfied: tensorboard<2.9,>=2.8 in /usr/local/lib/python3.7/dist-packages (from tensorflow->keybert[use]) (2.8.0)\n",
      "Requirement already satisfied: google-pasta>=0.1.1 in /usr/local/lib/python3.7/dist-packages (from tensorflow->keybert[use]) (0.2.0)\n",
      "Requirement already satisfied: keras<2.9,>=2.8.0rc0 in /usr/local/lib/python3.7/dist-packages (from tensorflow->keybert[use]) (2.8.0)\n",
      "Requirement already satisfied: wrapt>=1.11.0 in /usr/local/lib/python3.7/dist-packages (from tensorflow->keybert[use]) (1.14.1)\n",
      "Requirement already satisfied: astunparse>=1.6.0 in /usr/local/lib/python3.7/dist-packages (from tensorflow->keybert[use]) (1.6.3)\n",
      "Requirement already satisfied: flatbuffers>=1.12 in /usr/local/lib/python3.7/dist-packages (from tensorflow->keybert[use]) (22.9.24)\n",
      "Requirement already satisfied: tensorflow-estimator<2.9,>=2.8 in /usr/local/lib/python3.7/dist-packages (from tensorflow->keybert[use]) (2.8.0)\n",
      "Requirement already satisfied: six>=1.12.0 in /usr/local/lib/python3.7/dist-packages (from tensorflow->keybert[use]) (1.15.0)\n",
      "Requirement already satisfied: opt-einsum>=2.3.2 in /usr/local/lib/python3.7/dist-packages (from tensorflow->keybert[use]) (3.3.0)\n",
      "Requirement already satisfied: h5py>=2.9.0 in /usr/local/lib/python3.7/dist-packages (from tensorflow->keybert[use]) (3.1.0)\n",
      "Requirement already satisfied: tensorflow-io-gcs-filesystem>=0.23.1 in /usr/local/lib/python3.7/dist-packages (from tensorflow->keybert[use]) (0.27.0)\n",
      "Requirement already satisfied: absl-py>=0.4.0 in /usr/local/lib/python3.7/dist-packages (from tensorflow->keybert[use]) (1.2.0)\n",
      "Requirement already satisfied: libclang>=9.0.1 in /usr/local/lib/python3.7/dist-packages (from tensorflow->keybert[use]) (14.0.6)\n",
      "Requirement already satisfied: termcolor>=1.1.0 in /usr/local/lib/python3.7/dist-packages (from tensorflow->keybert[use]) (2.0.1)\n",
      "Requirement already satisfied: gast>=0.2.1 in /usr/local/lib/python3.7/dist-packages (from tensorflow->keybert[use]) (0.5.3)\n",
      "Requirement already satisfied: grpcio<2.0,>=1.24.3 in /usr/local/lib/python3.7/dist-packages (from tensorflow->keybert[use]) (1.47.0)\n",
      "Requirement already satisfied: wheel<1.0,>=0.23.0 in /usr/local/lib/python3.7/dist-packages (from astunparse>=1.6.0->tensorflow->keybert[use]) (0.37.1)\n",
      "Requirement already satisfied: cached-property in /usr/local/lib/python3.7/dist-packages (from h5py>=2.9.0->tensorflow->keybert[use]) (1.5.2)\n",
      "Requirement already satisfied: requests in /usr/local/lib/python3.7/dist-packages (from huggingface-hub>=0.4.0->sentence-transformers>=0.3.8->keybert[use]) (2.28.1)\n",
      "Requirement already satisfied: packaging>=20.9 in /usr/local/lib/python3.7/dist-packages (from huggingface-hub>=0.4.0->sentence-transformers>=0.3.8->keybert[use]) (21.3)\n",
      "Requirement already satisfied: pyyaml>=5.1 in /usr/local/lib/python3.7/dist-packages (from huggingface-hub>=0.4.0->sentence-transformers>=0.3.8->keybert[use]) (6.0)\n",
      "Requirement already satisfied: filelock in /usr/local/lib/python3.7/dist-packages (from huggingface-hub>=0.4.0->sentence-transformers>=0.3.8->keybert[use]) (3.8.0)\n",
      "Requirement already satisfied: importlib-metadata in /usr/local/lib/python3.7/dist-packages (from huggingface-hub>=0.4.0->sentence-transformers>=0.3.8->keybert[use]) (3.10.1)\n",
      "Requirement already satisfied: google-auth-oauthlib<0.5,>=0.4.1 in /usr/local/lib/python3.7/dist-packages (from tensorboard<2.9,>=2.8->tensorflow->keybert[use]) (0.4.6)\n",
      "Requirement already satisfied: tensorboard-plugin-wit>=1.6.0 in /usr/local/lib/python3.7/dist-packages (from tensorboard<2.9,>=2.8->tensorflow->keybert[use]) (1.8.1)\n",
      "Requirement already satisfied: markdown>=2.6.8 in /usr/local/lib/python3.7/dist-packages (from tensorboard<2.9,>=2.8->tensorflow->keybert[use]) (3.4.1)\n",
      "Requirement already satisfied: google-auth<3,>=1.6.3 in /usr/local/lib/python3.7/dist-packages (from tensorboard<2.9,>=2.8->tensorflow->keybert[use]) (1.35.0)\n",
      "Requirement already satisfied: tensorboard-data-server<0.7.0,>=0.6.0 in /usr/local/lib/python3.7/dist-packages (from tensorboard<2.9,>=2.8->tensorflow->keybert[use]) (0.6.1)\n",
      "Requirement already satisfied: werkzeug>=0.11.15 in /usr/local/lib/python3.7/dist-packages (from tensorboard<2.9,>=2.8->tensorflow->keybert[use]) (1.0.1)\n",
      "Requirement already satisfied: tokenizers!=0.11.3,<0.13,>=0.11.1 in /usr/local/lib/python3.7/dist-packages (from transformers<5.0.0,>=4.6.0->sentence-transformers>=0.3.8->keybert[use]) (0.12.1)\n",
      "Requirement already satisfied: regex!=2019.12.17 in /usr/local/lib/python3.7/dist-packages (from transformers<5.0.0,>=4.6.0->sentence-transformers>=0.3.8->keybert[use]) (2022.6.2)\n",
      "Requirement already satisfied: click in /usr/local/lib/python3.7/dist-packages (from nltk->sentence-transformers>=0.3.8->keybert[use]) (7.1.2)\n",
      "Requirement already satisfied: pillow!=8.3.*,>=5.3.0 in /usr/local/lib/python3.7/dist-packages (from torchvision->sentence-transformers>=0.3.8->keybert[use]) (7.1.2)\n",
      "Requirement already satisfied: pyasn1-modules>=0.2.1 in /usr/local/lib/python3.7/dist-packages (from google-auth<3,>=1.6.3->tensorboard<2.9,>=2.8->tensorflow->keybert[use]) (0.2.8)\n",
      "Requirement already satisfied: rsa<5,>=3.1.4 in /usr/local/lib/python3.7/dist-packages (from google-auth<3,>=1.6.3->tensorboard<2.9,>=2.8->tensorflow->keybert[use]) (4.9)\n",
      "Requirement already satisfied: cachetools<5.0,>=2.0.0 in /usr/local/lib/python3.7/dist-packages (from google-auth<3,>=1.6.3->tensorboard<2.9,>=2.8->tensorflow->keybert[use]) (4.2.4)\n",
      "Requirement already satisfied: requests-oauthlib>=0.7.0 in /usr/local/lib/python3.7/dist-packages (from google-auth-oauthlib<0.5,>=0.4.1->tensorboard<2.9,>=2.8->tensorflow->keybert[use]) (1.3.1)\n",
      "Collecting importlib-metadata\n",
      "  Using cached importlib_metadata-5.0.0-py3-none-any.whl (21 kB)\n",
      "Requirement already satisfied: zipp>=0.5 in /usr/local/lib/python3.7/dist-packages (from importlib-metadata->huggingface-hub>=0.4.0->sentence-transformers>=0.3.8->keybert[use]) (3.8.1)\n",
      "Requirement already satisfied: pyparsing!=3.0.5,>=2.0.2 in /usr/local/lib/python3.7/dist-packages (from packaging>=20.9->huggingface-hub>=0.4.0->sentence-transformers>=0.3.8->keybert[use]) (3.0.9)\n",
      "Requirement already satisfied: urllib3<1.27,>=1.21.1 in /usr/local/lib/python3.7/dist-packages (from requests->huggingface-hub>=0.4.0->sentence-transformers>=0.3.8->keybert[use]) (1.26.12)\n",
      "Requirement already satisfied: charset-normalizer<3,>=2 in /usr/local/lib/python3.7/dist-packages (from requests->huggingface-hub>=0.4.0->sentence-transformers>=0.3.8->keybert[use]) (2.1.1)\n",
      "Requirement already satisfied: certifi>=2017.4.17 in /usr/local/lib/python3.7/dist-packages (from requests->huggingface-hub>=0.4.0->sentence-transformers>=0.3.8->keybert[use]) (2022.9.24)\n",
      "Requirement already satisfied: idna<4,>=2.5 in /usr/local/lib/python3.7/dist-packages (from requests->huggingface-hub>=0.4.0->sentence-transformers>=0.3.8->keybert[use]) (2.10)\n",
      "Requirement already satisfied: pyasn1<0.5.0,>=0.4.6 in /usr/local/lib/python3.7/dist-packages (from pyasn1-modules>=0.2.1->google-auth<3,>=1.6.3->tensorboard<2.9,>=2.8->tensorflow->keybert[use]) (0.4.8)\n",
      "Requirement already satisfied: oauthlib>=3.0.0 in /usr/local/lib/python3.7/dist-packages (from requests-oauthlib>=0.7.0->google-auth-oauthlib<0.5,>=0.4.1->tensorboard<2.9,>=2.8->tensorflow->keybert[use]) (3.2.1)\n",
      "Installing collected packages: importlib-metadata\n",
      "  Attempting uninstall: importlib-metadata\n",
      "    Found existing installation: importlib-metadata 3.10.1\n",
      "    Uninstalling importlib-metadata-3.10.1:\n",
      "      Successfully uninstalled importlib-metadata-3.10.1\n",
      "\u001B[31mERROR: pip's dependency resolver does not currently take into account all the packages that are installed. This behaviour is the source of the following dependency conflicts.\n",
      "mlflow 1.29.0 requires importlib-metadata!=4.7.0,<5,>=3.7.0, but you have importlib-metadata 5.0.0 which is incompatible.\n",
      "konoha 4.6.5 requires importlib-metadata<4.0.0,>=3.7.0, but you have importlib-metadata 5.0.0 which is incompatible.\n",
      "farm-haystack 1.10.0rc0 requires transformers==4.21.2, but you have transformers 4.22.2 which is incompatible.\u001B[0m\u001B[31m\n",
      "\u001B[0mSuccessfully installed importlib-metadata-5.0.0\n",
      "\u001B[33mWARNING: Running pip as the 'root' user can result in broken permissions and conflicting behaviour with the system package manager. It is recommended to use a virtual environment instead: https://pip.pypa.io/warnings/venv\u001B[0m\u001B[33m\n",
      "\u001B[0mLooking in indexes: https://pypi.org/simple, https://us-python.pkg.dev/colab-wheels/public/simple/\n",
      "Requirement already satisfied: spacy in /usr/local/lib/python3.7/dist-packages (3.4.1)\n",
      "Requirement already satisfied: jinja2 in /usr/local/lib/python3.7/dist-packages (from spacy) (2.11.3)\n",
      "Requirement already satisfied: preshed<3.1.0,>=3.0.2 in /usr/local/lib/python3.7/dist-packages (from spacy) (3.0.7)\n",
      "Requirement already satisfied: catalogue<2.1.0,>=2.0.6 in /usr/local/lib/python3.7/dist-packages (from spacy) (2.0.8)\n",
      "Requirement already satisfied: requests<3.0.0,>=2.13.0 in /usr/local/lib/python3.7/dist-packages (from spacy) (2.28.1)\n",
      "Requirement already satisfied: numpy>=1.15.0 in /usr/local/lib/python3.7/dist-packages (from spacy) (1.21.6)\n",
      "Requirement already satisfied: spacy-legacy<3.1.0,>=3.0.9 in /usr/local/lib/python3.7/dist-packages (from spacy) (3.0.10)\n",
      "Requirement already satisfied: langcodes<4.0.0,>=3.2.0 in /usr/local/lib/python3.7/dist-packages (from spacy) (3.3.0)\n",
      "Requirement already satisfied: pathy>=0.3.5 in /usr/local/lib/python3.7/dist-packages (from spacy) (0.6.2)\n",
      "Requirement already satisfied: murmurhash<1.1.0,>=0.28.0 in /usr/local/lib/python3.7/dist-packages (from spacy) (1.0.8)\n",
      "Requirement already satisfied: spacy-loggers<2.0.0,>=1.0.0 in /usr/local/lib/python3.7/dist-packages (from spacy) (1.0.3)\n",
      "Requirement already satisfied: srsly<3.0.0,>=2.4.3 in /usr/local/lib/python3.7/dist-packages (from spacy) (2.4.4)\n",
      "Requirement already satisfied: typing-extensions<4.2.0,>=3.7.4 in /usr/local/lib/python3.7/dist-packages (from spacy) (4.1.1)\n",
      "Requirement already satisfied: packaging>=20.0 in /usr/local/lib/python3.7/dist-packages (from spacy) (21.3)\n",
      "Requirement already satisfied: cymem<2.1.0,>=2.0.2 in /usr/local/lib/python3.7/dist-packages (from spacy) (2.0.6)\n",
      "Requirement already satisfied: wasabi<1.1.0,>=0.9.1 in /usr/local/lib/python3.7/dist-packages (from spacy) (0.10.1)\n",
      "Requirement already satisfied: tqdm<5.0.0,>=4.38.0 in /usr/local/lib/python3.7/dist-packages (from spacy) (4.64.1)\n",
      "Requirement already satisfied: typer<0.5.0,>=0.3.0 in /usr/local/lib/python3.7/dist-packages (from spacy) (0.4.2)\n",
      "Requirement already satisfied: thinc<8.2.0,>=8.1.0 in /usr/local/lib/python3.7/dist-packages (from spacy) (8.1.2)\n",
      "Requirement already satisfied: setuptools in /usr/local/lib/python3.7/dist-packages (from spacy) (57.4.0)\n",
      "Requirement already satisfied: pydantic!=1.8,!=1.8.1,<1.10.0,>=1.7.4 in /usr/local/lib/python3.7/dist-packages (from spacy) (1.9.2)\n",
      "Requirement already satisfied: zipp>=0.5 in /usr/local/lib/python3.7/dist-packages (from catalogue<2.1.0,>=2.0.6->spacy) (3.8.1)\n",
      "Requirement already satisfied: pyparsing!=3.0.5,>=2.0.2 in /usr/local/lib/python3.7/dist-packages (from packaging>=20.0->spacy) (3.0.9)\n",
      "Requirement already satisfied: smart-open<6.0.0,>=5.2.1 in /usr/local/lib/python3.7/dist-packages (from pathy>=0.3.5->spacy) (5.2.1)\n",
      "Requirement already satisfied: urllib3<1.27,>=1.21.1 in /usr/local/lib/python3.7/dist-packages (from requests<3.0.0,>=2.13.0->spacy) (1.26.12)\n",
      "Requirement already satisfied: charset-normalizer<3,>=2 in /usr/local/lib/python3.7/dist-packages (from requests<3.0.0,>=2.13.0->spacy) (2.1.1)\n",
      "Requirement already satisfied: idna<4,>=2.5 in /usr/local/lib/python3.7/dist-packages (from requests<3.0.0,>=2.13.0->spacy) (2.10)\n",
      "Requirement already satisfied: certifi>=2017.4.17 in /usr/local/lib/python3.7/dist-packages (from requests<3.0.0,>=2.13.0->spacy) (2022.9.24)\n",
      "Requirement already satisfied: confection<1.0.0,>=0.0.1 in /usr/local/lib/python3.7/dist-packages (from thinc<8.2.0,>=8.1.0->spacy) (0.0.2)\n",
      "Requirement already satisfied: blis<0.8.0,>=0.7.8 in /usr/local/lib/python3.7/dist-packages (from thinc<8.2.0,>=8.1.0->spacy) (0.7.8)\n",
      "Requirement already satisfied: click<9.0.0,>=7.1.1 in /usr/local/lib/python3.7/dist-packages (from typer<0.5.0,>=0.3.0->spacy) (7.1.2)\n",
      "Requirement already satisfied: MarkupSafe>=0.23 in /usr/local/lib/python3.7/dist-packages (from jinja2->spacy) (2.0.1)\n",
      "\u001B[33mWARNING: Running pip as the 'root' user can result in broken permissions and conflicting behaviour with the system package manager. It is recommended to use a virtual environment instead: https://pip.pypa.io/warnings/venv\u001B[0m\u001B[33m\n",
      "\u001B[0mLooking in indexes: https://pypi.org/simple, https://us-python.pkg.dev/colab-wheels/public/simple/\n",
      "Requirement already satisfied: flashtext in /usr/local/lib/python3.7/dist-packages (2.7)\n",
      "\u001B[33mWARNING: Running pip as the 'root' user can result in broken permissions and conflicting behaviour with the system package manager. It is recommended to use a virtual environment instead: https://pip.pypa.io/warnings/venv\u001B[0m\u001B[33m\n",
      "\u001B[0m"
     ]
    }
   ],
   "source": [
    "!pip install contractions\n",
    "!pip install rake-nltk\n",
    "!pip install git+https://github.com/boudinfl/pke.git\n",
    "!pip install git+https://github.com/LIAAD/yake\n",
    "!pip install keybert\n",
    "!pip install keybert[flair]\n",
    "!pip install keybert[gensim]\n",
    "!pip install keybert[spacy]\n",
    "!pip install keybert[use]\n",
    "!pip install -U spacy\n",
    "!pip install flashtext"
   ]
  },
  {
   "cell_type": "markdown",
   "source": [
    "**Importing Libraries**"
   ],
   "metadata": {
    "id": "pBM1YGXQhhtH",
    "pycharm": {
     "name": "#%% md\n"
    }
   }
  },
  {
   "cell_type": "code",
   "source": [
    "# !pip install transformers"
   ],
   "metadata": {
    "colab": {
     "base_uri": "https://localhost:8080/"
    },
    "id": "nrn2CmBcLR4i",
    "outputId": "aa88aba2-770f-4877-9a5b-fab553257a03",
    "pycharm": {
     "name": "#%%\n"
    }
   },
   "execution_count": 95,
   "outputs": [
    {
     "output_type": "stream",
     "name": "stdout",
     "text": [
      "Looking in indexes: https://pypi.org/simple, https://us-python.pkg.dev/colab-wheels/public/simple/\n",
      "Requirement already satisfied: transformers in /usr/local/lib/python3.7/dist-packages (4.22.2)\n",
      "Requirement already satisfied: huggingface-hub<1.0,>=0.9.0 in /usr/local/lib/python3.7/dist-packages (from transformers) (0.10.0)\n",
      "Requirement already satisfied: tqdm>=4.27 in /usr/local/lib/python3.7/dist-packages (from transformers) (4.64.1)\n",
      "Requirement already satisfied: regex!=2019.12.17 in /usr/local/lib/python3.7/dist-packages (from transformers) (2022.6.2)\n",
      "Requirement already satisfied: importlib-metadata in /usr/local/lib/python3.7/dist-packages (from transformers) (5.0.0)\n",
      "Requirement already satisfied: pyyaml>=5.1 in /usr/local/lib/python3.7/dist-packages (from transformers) (6.0)\n",
      "Requirement already satisfied: numpy>=1.17 in /usr/local/lib/python3.7/dist-packages (from transformers) (1.21.6)\n",
      "Requirement already satisfied: tokenizers!=0.11.3,<0.13,>=0.11.1 in /usr/local/lib/python3.7/dist-packages (from transformers) (0.12.1)\n",
      "Requirement already satisfied: packaging>=20.0 in /usr/local/lib/python3.7/dist-packages (from transformers) (21.3)\n",
      "Requirement already satisfied: filelock in /usr/local/lib/python3.7/dist-packages (from transformers) (3.8.0)\n",
      "Requirement already satisfied: requests in /usr/local/lib/python3.7/dist-packages (from transformers) (2.28.1)\n",
      "Requirement already satisfied: typing-extensions>=3.7.4.3 in /usr/local/lib/python3.7/dist-packages (from huggingface-hub<1.0,>=0.9.0->transformers) (4.1.1)\n",
      "Requirement already satisfied: pyparsing!=3.0.5,>=2.0.2 in /usr/local/lib/python3.7/dist-packages (from packaging>=20.0->transformers) (3.0.9)\n",
      "Requirement already satisfied: zipp>=0.5 in /usr/local/lib/python3.7/dist-packages (from importlib-metadata->transformers) (3.8.1)\n",
      "Requirement already satisfied: idna<4,>=2.5 in /usr/local/lib/python3.7/dist-packages (from requests->transformers) (2.10)\n",
      "Requirement already satisfied: urllib3<1.27,>=1.21.1 in /usr/local/lib/python3.7/dist-packages (from requests->transformers) (1.26.12)\n",
      "Requirement already satisfied: certifi>=2017.4.17 in /usr/local/lib/python3.7/dist-packages (from requests->transformers) (2022.9.24)\n",
      "Requirement already satisfied: charset-normalizer<3,>=2 in /usr/local/lib/python3.7/dist-packages (from requests->transformers) (2.1.1)\n",
      "\u001B[33mWARNING: Running pip as the 'root' user can result in broken permissions and conflicting behaviour with the system package manager. It is recommended to use a virtual environment instead: https://pip.pypa.io/warnings/venv\u001B[0m\u001B[33m\n",
      "\u001B[0m"
     ]
    }
   ]
  },
  {
   "cell_type": "code",
   "source": [
    "import nltk\n",
    "import pandas as pd\n",
    "import numpy as np\n",
    "import string\n",
    "import re\n",
    "import nltk\n",
    "nltk.download('stopwords')\n",
    "nltk.download('punkt')\n",
    "from nltk.corpus import stopwords\n",
    "from nltk.tokenize import word_tokenize\n",
    "from nltk.stem.porter import PorterStemmer\n",
    "from nltk.tokenize import word_tokenize\n",
    "stemmer = PorterStemmer()\n",
    "import contractions\n",
    "import pke\n",
    "import yake\n",
    "# import transformers\n",
    "from nltk.tokenize import sent_tokenize\n",
    "from flashtext import KeywordProcessor"
   ],
   "metadata": {
    "colab": {
     "base_uri": "https://localhost:8080/"
    },
    "id": "k8iGNU_8dBmM",
    "outputId": "35953a77-42b2-4c14-fa7c-c673f6ef7a84",
    "pycharm": {
     "name": "#%%\n"
    }
   },
   "execution_count": 96,
   "outputs": [
    {
     "output_type": "stream",
     "name": "stderr",
     "text": [
      "[nltk_data] Downloading package stopwords to /root/nltk_data...\n",
      "[nltk_data]   Package stopwords is already up-to-date!\n",
      "[nltk_data] Downloading package punkt to /root/nltk_data...\n",
      "[nltk_data]   Package punkt is already up-to-date!\n"
     ]
    }
   ]
  },
  {
   "cell_type": "code",
   "source": [
    "with open('/content/Egypt_hestory_cleaned.txt','r',  encoding='utf-8') as f:\n",
    "    text = f.read()\n",
    "    \n"
   ],
   "metadata": {
    "id": "pi3U0WEiygoE",
    "pycharm": {
     "name": "#%%\n"
    }
   },
   "execution_count": 97,
   "outputs": []
  },
  {
   "cell_type": "code",
   "source": [
    "print(text)"
   ],
   "metadata": {
    "id": "OhUt3e8wzR3x",
    "colab": {
     "base_uri": "https://localhost:8080/"
    },
    "outputId": "6046fb5e-700d-4dc4-a2e2-f209060153dc",
    "pycharm": {
     "name": "#%%\n"
    }
   },
   "execution_count": 98,
   "outputs": [
    {
     "output_type": "stream",
     "name": "stdout",
     "text": [
      "the history of egypt has been long and wealthy, due to the flow of the nile river with its fertile banks and delta, as well as the accomplishments of egypt's native inhabitants and outside influence. much of egypt's ancient history was a mystery until egyptian hieroglyphs were deciphered with the discovery and help of the rosetta stone. among the seven wonders of the ancient world is the great pyramid of giza. ancient egyptian civilization coalesced around because with the political unification of upper and lower egypt under the first king of the first dynasty, narmer. predominantly native egyptian rule lasted until the conquest by the achaemenid empire in the sixth century because. in because, macedonian ruler alexander the great conquered egypt as he toppled the achaemenids and established the shortlived macedonian empire, which gave rise to the hellenistic ptolemaic kingdom, founded in because by one of alexander's former generals, ptolemy i soter. the ptolemies had to fight native rebellions and were involved in foreign and civil wars that led to the decline of the kingdom and its final annexation by rome. the death of cleopatra ended the nominal independence of egypt, resulting in egypt's becoming one of the provinces of the roman empire. roman rule in egypt including byzantine lasted from because to ad, with a brief interlude of control by the sasanian empire between and , known as sasanian egypt. after the muslim conquest of egypt, parts of egypt became provinces of successive caliphates and other muslim dynasties rashidun caliphate , umayyad caliphate –, abbasid caliphate –, fatimid caliphate –, ayyubid sultanate –, and the mamluk sultanate –. in , ottoman sultan selim i captured cairo, absorbing egypt into the ottoman empire. egypt remained entirely ottoman until , except during french occupation from to . starting in , egypt became a nominally autonomous tributary state called the khedivate of egypt. however, khedivate egypt fell under british control in following the angloegyptian war. after the end of world war i and following the egyptian revolution of , the kingdom of egypt was established. while a de jure independent state, the united kingdom retained control over foreign affairs, defense, and other matters. british occupation lasted until , with the angloegyptian agreement of . the modern republic of egypt was founded in , and with the complete withdrawal of british forces from the suez canal in , president gamal abdel nasser president from to introduced many reforms and created the shortlived united arab republic with syria. his terms also saw the sixday war and the creation of the international nonaligned movement. his successor, anwar sadat president from to changed egypt's trajectory, departing from many of the political, and economic tenets of nasserism, reinstituting a multiparty system and launching the infitah economic policy. he led egypt in the yom kippur war of to regain egypt's sinai peninsula, which israel had occupied since the sixday war of . this later led to the egypt–israel peace treaty. recent egyptian history has been dominated by events following nearly thirty years of rule by the former president hosni mubarak. the egyptian revolution of deposed mubarak and resulted in the first democratically elected president in egyptian history, mohamed morsi. unrest after the revolution and related disputes led to the egyptian coup d'état, morsi's imprisonment and the election of abdel fattah alsisi as president in . there is evidence of petroglyphs along the nile terraces and in desert oases. in the th millennium because, a culture of huntergatherers and fishermen was replaced by a graingrinding culture. climate changes andor overgrazing around because began to desiccate the pastoral lands of egypt, forming the sahara. early tribal peoples migrated to the nile river, where they developed a settled agricultural economy and more centralized society. by about because, a neolithic culture rooted in the nile valley. during the neolithic era, several predynastic cultures developed independently in upper and lower egypt. the badari culture and the successor naqada series are generally regarded as precursors to dynastic egypt. the earliest known lower egyptian site, merimda, predates the badarian by about seven hundred years. contemporaneous lower egyptian communities coexisted with their southern counterparts for more than two thousand years, remaining culturally distinct, but maintaining frequent contact through trade. the earliest known evidence of egyptian hieroglyphic inscriptions appeared during the predynastic period on naqada iii pottery vessels, dated to about because. new kingdom, third intermediate period and late period main articles new kingdom of egypt, third intermediate period of egypt, and late period of ancient egypt the new kingdom c. – because began with the eighteenth dynasty, marking the rise of egypt as an international power that expanded during its greatest extension to an empire from syria to upper nubia. this period is noted for some of the most well known pharaohs, including hatshepsut, thutmose iii, akhenaten and his wife nefertiti, tutankhamun and ramesses ii. the first historically attested expression of monotheism came during this period as atenism, although somewho consider atenism to be a form of monolatry rather than of monotheism. frequent contacts with other nations brought new ideas to the new kingdom. the country was later ruled and invaded by libyans, nubians and assyrians, but native egyptians eventually drove them out and regained control of their country. in the sixth century because, the achaemenid empire conquered egypt. the entire twentyseventh dynasty of egypt, from because to because, save for petubastis iii and possibly psammetichus iv, was an entirely persianruled period, with the achaemenid kings being granted the title of pharaoh. amyrtaeus' successful rebellion ended the first achaemenid rule and inaugurated egypt's last significant phase of independence under native rulers. the thirtieth dynasty was the last native ruling dynasty during the pharaonic epoch. it fell to the persians again in because after the last native pharaoh, king nectanebo ii, was defeated in battle. the thirtyfirst dynasty of egypt, also known as the second egyptian satrapy, was effectively a shortliving province of the achaemenid empire between because to because. after an interval of independence, during which three indigenous dynasties reigned the th, th and th dynasty, artaxerxes iii – because reconquered the nile valley for a brief second period – because, which is called the thirtyfirst dynasty of egypt, thus starting another period of pharaohs of persian origin. a team led by johannes krause managed the first reliable sequencing of the genomes of mummified individuals in . whilst not conclusive, because of the nonexhaustive time frame and restricted location that the mummies represent, their study nevertheless showed that these ancient egyptians closely resembled ancient and modern near eastern populations, especially those in the levant, and had almost no dna from subsaharan africa. what is more, the genetics of the mummies remained remarkably consistent even as different powers—including nubians, greeks, and romans—conquered the empire. the ptolemaic kingdom was a powerful hellenistic state extending from southern syria in the east, to cyrene to the west, and south to the frontier with nubia. alexandria became the capital city and a center of greek culture and trade. to gain recognition by the native egyptian populace, they named themselves as the successors to the pharaohs. the later ptolemies took on egyptian traditions, had themselves portrayed on public monuments in egyptian style and dress, and participated in egyptian religious life. the last ruler from the ptolemaic dynasty was cleopatra, who committed suicide following the burial of her lover mark antony, who had died in her arms from a selfinflicted stab wound after augustus had captured alexandria and her mercenary forces had fled. the ptolemies faced rebellions of native egyptians, often caused by an unwanted regime, and were involved in foreign and civil wars that led to the decline of the kingdom and its annexation by rome. nevertheless, hellenistic culture continued to thrive in egypt well after the muslim conquest. the native egyptiancoptic culture continued to exist as well the coptic language itself was egypt's most widely spoken language until at least the th century. egypt quickly became the empire's breadbasket supplying the greater portion of the empire's grain in addition to flax, papyrus, glass and many other finished goods. the city of alexandria became a key trading outpost for the roman empire by some accounts, the most important for a time. shipping from egypt regularly reached india and ethiopia among other international destinations. it was also a leading perhaps the leading scientific and technological center of the empire. scholars such as ptolemy, hypatia, and heron broke new ground in astronomy, mathematics, and other disciplines. culturally, the city of alexandria at times rivaled rome in its importance. christianity reached egypt relatively early in the evangelist period of the first century traditionally credited to mark the evangelist. alexandria, egypt and antioch, syria quickly became the leading centers of christianity. diocletian's reign marked the transition from the classical roman to the late antiquebyzantine era in egypt, when a great number of egyptian christians were persecuted. the new testament had by then been translated into egyptian. after the council of chalcedon in ad , a distinct egyptian coptic church was firmly established. sasanian egypt known in middle persian sources as agiptus refers to the brief rule of egypt and parts of libya by the sasanian empire, which lasted from to , until the sasanian rebel shahrbaraz made an alliance with the byzantine emperor heraclius and had control over egypt returned to him. the byzantines were able to regain control of the country after a brief persian invasion early in the th century, until –, when egypt was invaded and conquered by the arab islamic empire. the final loss of egypt was of incalculable significance to the byzantine empire, which had relied on egypt for many agricultural and manufactured goods. when they defeated the byzantine armies in egypt, the arabs brought sunni islam to the country. early in this period, egyptians began to blend their new faith with their christian traditions as well as other indigenous beliefs and practices, leading to various sufi orders that have flourished to this day. these earlier rites had survived the period of coptic christianity. muslim rulers nominated by the islamic caliphate remained in control of egypt for the next six centuries, with cairo as the seat of the caliphate under the fatimids. with the end of the kurdish ayyubid dynasty, the mamluks, a turcocircassian military caste, took control about ad . by the late th century, egypt linked the red sea, india, malaya, and east indies. the greek and coptic languages and cultures went into a steep decline in favor of arabic culture though coptic managed to last as a spoken language until the th century and remains a liturgical language today. the mamluks continued to govern the country until the conquest of egypt by the ottoman turks in , after which it became a province of the ottoman empire. the midthcentury black death killed about of the population of egypt. fter the th century, the ottoman invasion pushed the egyptian system into decline. the defensive militarization damaged its civil society and economic institutions. the weakening of the economic system combined with the effects of the plague left egypt vulnerable to foreign invasion. portuguese traders took over their trade. egypt suffered six famines between and . the famine cost it roughly onesixth of its population. the brief french invasion of egypt led by napoleon bonaparte began in . the campaign eventually led to the discovery of the rosetta stone, creating the field of egyptology. despite early victories and an initially successful expedition into syria, napoleon and his armée d'orient were eventually defeated and forced to withdraw, especially after suffering the defeat of the supporting french fleet at the battle of the nile.\n"
     ]
    }
   ]
  },
  {
   "cell_type": "code",
   "source": [
    "def text_lowercase(text):\n",
    "    return text.lower()    \n",
    "text=text_lowercase(text)"
   ],
   "metadata": {
    "id": "Shg6kF0szoVC",
    "pycharm": {
     "name": "#%%\n"
    }
   },
   "execution_count": 99,
   "outputs": []
  },
  {
   "cell_type": "code",
   "source": [
    "text = re.sub(r'[A-Za-z0-9]*@[A-Za-z]*\\.?[A-Za-z0-9]*', \"\", text)\n",
    "text"
   ],
   "metadata": {
    "id": "L1vXP32i11Ms",
    "colab": {
     "base_uri": "https://localhost:8080/",
     "height": 140
    },
    "outputId": "62c07123-74c9-4d0b-daca-6769340b7e68",
    "pycharm": {
     "name": "#%%\n"
    }
   },
   "execution_count": 100,
   "outputs": [
    {
     "output_type": "execute_result",
     "data": {
      "text/plain": [
       "\"the history of egypt has been long and wealthy, due to the flow of the nile river with its fertile banks and delta, as well as the accomplishments of egypt's native inhabitants and outside influence. much of egypt's ancient history was a mystery until egyptian hieroglyphs were deciphered with the discovery and help of the rosetta stone. among the seven wonders of the ancient world is the great pyramid of giza. ancient egyptian civilization coalesced around because with the political unification of upper and lower egypt under the first king of the first dynasty, narmer. predominantly native egyptian rule lasted until the conquest by the achaemenid empire in the sixth century because. in because, macedonian ruler alexander the great conquered egypt as he toppled the achaemenids and established the shortlived macedonian empire, which gave rise to the hellenistic ptolemaic kingdom, founded in because by one of alexander's former generals, ptolemy i soter. the ptolemies had to fight native rebellions and were involved in foreign and civil wars that led to the decline of the kingdom and its final annexation by rome. the death of cleopatra ended the nominal independence of egypt, resulting in egypt's becoming one of the provinces of the roman empire. roman rule in egypt including byzantine lasted from because to ad, with a brief interlude of control by the sasanian empire between and , known as sasanian egypt. after the muslim conquest of egypt, parts of egypt became provinces of successive caliphates and other muslim dynasties rashidun caliphate , umayyad caliphate –, abbasid caliphate –, fatimid caliphate –, ayyubid sultanate –, and the mamluk sultanate –. in , ottoman sultan selim i captured cairo, absorbing egypt into the ottoman empire. egypt remained entirely ottoman until , except during french occupation from to . starting in , egypt became a nominally autonomous tributary state called the khedivate of egypt. however, khedivate egypt fell under british control in following the angloegyptian war. after the end of world war i and following the egyptian revolution of , the kingdom of egypt was established. while a de jure independent state, the united kingdom retained control over foreign affairs, defense, and other matters. british occupation lasted until , with the angloegyptian agreement of . the modern republic of egypt was founded in , and with the complete withdrawal of british forces from the suez canal in , president gamal abdel nasser president from to introduced many reforms and created the shortlived united arab republic with syria. his terms also saw the sixday war and the creation of the international nonaligned movement. his successor, anwar sadat president from to changed egypt's trajectory, departing from many of the political, and economic tenets of nasserism, reinstituting a multiparty system and launching the infitah economic policy. he led egypt in the yom kippur war of to regain egypt's sinai peninsula, which israel had occupied since the sixday war of . this later led to the egypt–israel peace treaty. recent egyptian history has been dominated by events following nearly thirty years of rule by the former president hosni mubarak. the egyptian revolution of deposed mubarak and resulted in the first democratically elected president in egyptian history, mohamed morsi. unrest after the revolution and related disputes led to the egyptian coup d'état, morsi's imprisonment and the election of abdel fattah alsisi as president in . there is evidence of petroglyphs along the nile terraces and in desert oases. in the th millennium because, a culture of huntergatherers and fishermen was replaced by a graingrinding culture. climate changes andor overgrazing around because began to desiccate the pastoral lands of egypt, forming the sahara. early tribal peoples migrated to the nile river, where they developed a settled agricultural economy and more centralized society. by about because, a neolithic culture rooted in the nile valley. during the neolithic era, several predynastic cultures developed independently in upper and lower egypt. the badari culture and the successor naqada series are generally regarded as precursors to dynastic egypt. the earliest known lower egyptian site, merimda, predates the badarian by about seven hundred years. contemporaneous lower egyptian communities coexisted with their southern counterparts for more than two thousand years, remaining culturally distinct, but maintaining frequent contact through trade. the earliest known evidence of egyptian hieroglyphic inscriptions appeared during the predynastic period on naqada iii pottery vessels, dated to about because. new kingdom, third intermediate period and late period main articles new kingdom of egypt, third intermediate period of egypt, and late period of ancient egypt the new kingdom c. – because began with the eighteenth dynasty, marking the rise of egypt as an international power that expanded during its greatest extension to an empire from syria to upper nubia. this period is noted for some of the most well known pharaohs, including hatshepsut, thutmose iii, akhenaten and his wife nefertiti, tutankhamun and ramesses ii. the first historically attested expression of monotheism came during this period as atenism, although somewho consider atenism to be a form of monolatry rather than of monotheism. frequent contacts with other nations brought new ideas to the new kingdom. the country was later ruled and invaded by libyans, nubians and assyrians, but native egyptians eventually drove them out and regained control of their country. in the sixth century because, the achaemenid empire conquered egypt. the entire twentyseventh dynasty of egypt, from because to because, save for petubastis iii and possibly psammetichus iv, was an entirely persianruled period, with the achaemenid kings being granted the title of pharaoh. amyrtaeus' successful rebellion ended the first achaemenid rule and inaugurated egypt's last significant phase of independence under native rulers. the thirtieth dynasty was the last native ruling dynasty during the pharaonic epoch. it fell to the persians again in because after the last native pharaoh, king nectanebo ii, was defeated in battle. the thirtyfirst dynasty of egypt, also known as the second egyptian satrapy, was effectively a shortliving province of the achaemenid empire between because to because. after an interval of independence, during which three indigenous dynasties reigned the th, th and th dynasty, artaxerxes iii – because reconquered the nile valley for a brief second period – because, which is called the thirtyfirst dynasty of egypt, thus starting another period of pharaohs of persian origin. a team led by johannes krause managed the first reliable sequencing of the genomes of mummified individuals in . whilst not conclusive, because of the nonexhaustive time frame and restricted location that the mummies represent, their study nevertheless showed that these ancient egyptians closely resembled ancient and modern near eastern populations, especially those in the levant, and had almost no dna from subsaharan africa. what is more, the genetics of the mummies remained remarkably consistent even as different powers—including nubians, greeks, and romans—conquered the empire. the ptolemaic kingdom was a powerful hellenistic state extending from southern syria in the east, to cyrene to the west, and south to the frontier with nubia. alexandria became the capital city and a center of greek culture and trade. to gain recognition by the native egyptian populace, they named themselves as the successors to the pharaohs. the later ptolemies took on egyptian traditions, had themselves portrayed on public monuments in egyptian style and dress, and participated in egyptian religious life. the last ruler from the ptolemaic dynasty was cleopatra, who committed suicide following the burial of her lover mark antony, who had died in her arms from a selfinflicted stab wound after augustus had captured alexandria and her mercenary forces had fled. the ptolemies faced rebellions of native egyptians, often caused by an unwanted regime, and were involved in foreign and civil wars that led to the decline of the kingdom and its annexation by rome. nevertheless, hellenistic culture continued to thrive in egypt well after the muslim conquest. the native egyptiancoptic culture continued to exist as well the coptic language itself was egypt's most widely spoken language until at least the th century. egypt quickly became the empire's breadbasket supplying the greater portion of the empire's grain in addition to flax, papyrus, glass and many other finished goods. the city of alexandria became a key trading outpost for the roman empire by some accounts, the most important for a time. shipping from egypt regularly reached india and ethiopia among other international destinations. it was also a leading perhaps the leading scientific and technological center of the empire. scholars such as ptolemy, hypatia, and heron broke new ground in astronomy, mathematics, and other disciplines. culturally, the city of alexandria at times rivaled rome in its importance. christianity reached egypt relatively early in the evangelist period of the first century traditionally credited to mark the evangelist. alexandria, egypt and antioch, syria quickly became the leading centers of christianity. diocletian's reign marked the transition from the classical roman to the late antiquebyzantine era in egypt, when a great number of egyptian christians were persecuted. the new testament had by then been translated into egyptian. after the council of chalcedon in ad , a distinct egyptian coptic church was firmly established. sasanian egypt known in middle persian sources as agiptus refers to the brief rule of egypt and parts of libya by the sasanian empire, which lasted from to , until the sasanian rebel shahrbaraz made an alliance with the byzantine emperor heraclius and had control over egypt returned to him. the byzantines were able to regain control of the country after a brief persian invasion early in the th century, until –, when egypt was invaded and conquered by the arab islamic empire. the final loss of egypt was of incalculable significance to the byzantine empire, which had relied on egypt for many agricultural and manufactured goods. when they defeated the byzantine armies in egypt, the arabs brought sunni islam to the country. early in this period, egyptians began to blend their new faith with their christian traditions as well as other indigenous beliefs and practices, leading to various sufi orders that have flourished to this day. these earlier rites had survived the period of coptic christianity. muslim rulers nominated by the islamic caliphate remained in control of egypt for the next six centuries, with cairo as the seat of the caliphate under the fatimids. with the end of the kurdish ayyubid dynasty, the mamluks, a turcocircassian military caste, took control about ad . by the late th century, egypt linked the red sea, india, malaya, and east indies. the greek and coptic languages and cultures went into a steep decline in favor of arabic culture though coptic managed to last as a spoken language until the th century and remains a liturgical language today. the mamluks continued to govern the country until the conquest of egypt by the ottoman turks in , after which it became a province of the ottoman empire. the midthcentury black death killed about of the population of egypt. fter the th century, the ottoman invasion pushed the egyptian system into decline. the defensive militarization damaged its civil society and economic institutions. the weakening of the economic system combined with the effects of the plague left egypt vulnerable to foreign invasion. portuguese traders took over their trade. egypt suffered six famines between and . the famine cost it roughly onesixth of its population. the brief french invasion of egypt led by napoleon bonaparte began in . the campaign eventually led to the discovery of the rosetta stone, creating the field of egyptology. despite early victories and an initially successful expedition into syria, napoleon and his armée d'orient were eventually defeated and forced to withdraw, especially after suffering the defeat of the supporting french fleet at the battle of the nile.\""
      ],
      "application/vnd.google.colaboratory.intrinsic+json": {
       "type": "string"
      }
     },
     "metadata": {},
     "execution_count": 100
    }
   ]
  },
  {
   "cell_type": "code",
   "source": [
    "# Remove numbers\n",
    "def remove_numbers(text):\n",
    "    result = re.sub(r'\\d+', '', text)\n",
    "    return result\n",
    "text=remove_numbers(text)"
   ],
   "metadata": {
    "id": "BSL9yoFy2M8W",
    "pycharm": {
     "name": "#%%\n"
    }
   },
   "execution_count": 101,
   "outputs": []
  },
  {
   "cell_type": "code",
   "source": [
    "punc = '''!()-[]{};:\"\\<>/?@#$%^&*_~'''\n",
    "for p in text:\n",
    "    if p in punc:\n",
    "        text = text.replace(p, \"\")\n",
    "print(text)"
   ],
   "metadata": {
    "id": "ZudeUd_Z24cw",
    "colab": {
     "base_uri": "https://localhost:8080/"
    },
    "outputId": "981711a9-affe-4641-fad6-70db5c21a32b",
    "pycharm": {
     "name": "#%%\n"
    }
   },
   "execution_count": 102,
   "outputs": [
    {
     "output_type": "stream",
     "name": "stdout",
     "text": [
      "the history of egypt has been long and wealthy, due to the flow of the nile river with its fertile banks and delta, as well as the accomplishments of egypt's native inhabitants and outside influence. much of egypt's ancient history was a mystery until egyptian hieroglyphs were deciphered with the discovery and help of the rosetta stone. among the seven wonders of the ancient world is the great pyramid of giza. ancient egyptian civilization coalesced around because with the political unification of upper and lower egypt under the first king of the first dynasty, narmer. predominantly native egyptian rule lasted until the conquest by the achaemenid empire in the sixth century because. in because, macedonian ruler alexander the great conquered egypt as he toppled the achaemenids and established the shortlived macedonian empire, which gave rise to the hellenistic ptolemaic kingdom, founded in because by one of alexander's former generals, ptolemy i soter. the ptolemies had to fight native rebellions and were involved in foreign and civil wars that led to the decline of the kingdom and its final annexation by rome. the death of cleopatra ended the nominal independence of egypt, resulting in egypt's becoming one of the provinces of the roman empire. roman rule in egypt including byzantine lasted from because to ad, with a brief interlude of control by the sasanian empire between and , known as sasanian egypt. after the muslim conquest of egypt, parts of egypt became provinces of successive caliphates and other muslim dynasties rashidun caliphate , umayyad caliphate –, abbasid caliphate –, fatimid caliphate –, ayyubid sultanate –, and the mamluk sultanate –. in , ottoman sultan selim i captured cairo, absorbing egypt into the ottoman empire. egypt remained entirely ottoman until , except during french occupation from to . starting in , egypt became a nominally autonomous tributary state called the khedivate of egypt. however, khedivate egypt fell under british control in following the angloegyptian war. after the end of world war i and following the egyptian revolution of , the kingdom of egypt was established. while a de jure independent state, the united kingdom retained control over foreign affairs, defense, and other matters. british occupation lasted until , with the angloegyptian agreement of . the modern republic of egypt was founded in , and with the complete withdrawal of british forces from the suez canal in , president gamal abdel nasser president from to introduced many reforms and created the shortlived united arab republic with syria. his terms also saw the sixday war and the creation of the international nonaligned movement. his successor, anwar sadat president from to changed egypt's trajectory, departing from many of the political, and economic tenets of nasserism, reinstituting a multiparty system and launching the infitah economic policy. he led egypt in the yom kippur war of to regain egypt's sinai peninsula, which israel had occupied since the sixday war of . this later led to the egypt–israel peace treaty. recent egyptian history has been dominated by events following nearly thirty years of rule by the former president hosni mubarak. the egyptian revolution of deposed mubarak and resulted in the first democratically elected president in egyptian history, mohamed morsi. unrest after the revolution and related disputes led to the egyptian coup d'état, morsi's imprisonment and the election of abdel fattah alsisi as president in . there is evidence of petroglyphs along the nile terraces and in desert oases. in the th millennium because, a culture of huntergatherers and fishermen was replaced by a graingrinding culture. climate changes andor overgrazing around because began to desiccate the pastoral lands of egypt, forming the sahara. early tribal peoples migrated to the nile river, where they developed a settled agricultural economy and more centralized society. by about because, a neolithic culture rooted in the nile valley. during the neolithic era, several predynastic cultures developed independently in upper and lower egypt. the badari culture and the successor naqada series are generally regarded as precursors to dynastic egypt. the earliest known lower egyptian site, merimda, predates the badarian by about seven hundred years. contemporaneous lower egyptian communities coexisted with their southern counterparts for more than two thousand years, remaining culturally distinct, but maintaining frequent contact through trade. the earliest known evidence of egyptian hieroglyphic inscriptions appeared during the predynastic period on naqada iii pottery vessels, dated to about because. new kingdom, third intermediate period and late period main articles new kingdom of egypt, third intermediate period of egypt, and late period of ancient egypt the new kingdom c. – because began with the eighteenth dynasty, marking the rise of egypt as an international power that expanded during its greatest extension to an empire from syria to upper nubia. this period is noted for some of the most well known pharaohs, including hatshepsut, thutmose iii, akhenaten and his wife nefertiti, tutankhamun and ramesses ii. the first historically attested expression of monotheism came during this period as atenism, although somewho consider atenism to be a form of monolatry rather than of monotheism. frequent contacts with other nations brought new ideas to the new kingdom. the country was later ruled and invaded by libyans, nubians and assyrians, but native egyptians eventually drove them out and regained control of their country. in the sixth century because, the achaemenid empire conquered egypt. the entire twentyseventh dynasty of egypt, from because to because, save for petubastis iii and possibly psammetichus iv, was an entirely persianruled period, with the achaemenid kings being granted the title of pharaoh. amyrtaeus' successful rebellion ended the first achaemenid rule and inaugurated egypt's last significant phase of independence under native rulers. the thirtieth dynasty was the last native ruling dynasty during the pharaonic epoch. it fell to the persians again in because after the last native pharaoh, king nectanebo ii, was defeated in battle. the thirtyfirst dynasty of egypt, also known as the second egyptian satrapy, was effectively a shortliving province of the achaemenid empire between because to because. after an interval of independence, during which three indigenous dynasties reigned the th, th and th dynasty, artaxerxes iii – because reconquered the nile valley for a brief second period – because, which is called the thirtyfirst dynasty of egypt, thus starting another period of pharaohs of persian origin. a team led by johannes krause managed the first reliable sequencing of the genomes of mummified individuals in . whilst not conclusive, because of the nonexhaustive time frame and restricted location that the mummies represent, their study nevertheless showed that these ancient egyptians closely resembled ancient and modern near eastern populations, especially those in the levant, and had almost no dna from subsaharan africa. what is more, the genetics of the mummies remained remarkably consistent even as different powers—including nubians, greeks, and romans—conquered the empire. the ptolemaic kingdom was a powerful hellenistic state extending from southern syria in the east, to cyrene to the west, and south to the frontier with nubia. alexandria became the capital city and a center of greek culture and trade. to gain recognition by the native egyptian populace, they named themselves as the successors to the pharaohs. the later ptolemies took on egyptian traditions, had themselves portrayed on public monuments in egyptian style and dress, and participated in egyptian religious life. the last ruler from the ptolemaic dynasty was cleopatra, who committed suicide following the burial of her lover mark antony, who had died in her arms from a selfinflicted stab wound after augustus had captured alexandria and her mercenary forces had fled. the ptolemies faced rebellions of native egyptians, often caused by an unwanted regime, and were involved in foreign and civil wars that led to the decline of the kingdom and its annexation by rome. nevertheless, hellenistic culture continued to thrive in egypt well after the muslim conquest. the native egyptiancoptic culture continued to exist as well the coptic language itself was egypt's most widely spoken language until at least the th century. egypt quickly became the empire's breadbasket supplying the greater portion of the empire's grain in addition to flax, papyrus, glass and many other finished goods. the city of alexandria became a key trading outpost for the roman empire by some accounts, the most important for a time. shipping from egypt regularly reached india and ethiopia among other international destinations. it was also a leading perhaps the leading scientific and technological center of the empire. scholars such as ptolemy, hypatia, and heron broke new ground in astronomy, mathematics, and other disciplines. culturally, the city of alexandria at times rivaled rome in its importance. christianity reached egypt relatively early in the evangelist period of the first century traditionally credited to mark the evangelist. alexandria, egypt and antioch, syria quickly became the leading centers of christianity. diocletian's reign marked the transition from the classical roman to the late antiquebyzantine era in egypt, when a great number of egyptian christians were persecuted. the new testament had by then been translated into egyptian. after the council of chalcedon in ad , a distinct egyptian coptic church was firmly established. sasanian egypt known in middle persian sources as agiptus refers to the brief rule of egypt and parts of libya by the sasanian empire, which lasted from to , until the sasanian rebel shahrbaraz made an alliance with the byzantine emperor heraclius and had control over egypt returned to him. the byzantines were able to regain control of the country after a brief persian invasion early in the th century, until –, when egypt was invaded and conquered by the arab islamic empire. the final loss of egypt was of incalculable significance to the byzantine empire, which had relied on egypt for many agricultural and manufactured goods. when they defeated the byzantine armies in egypt, the arabs brought sunni islam to the country. early in this period, egyptians began to blend their new faith with their christian traditions as well as other indigenous beliefs and practices, leading to various sufi orders that have flourished to this day. these earlier rites had survived the period of coptic christianity. muslim rulers nominated by the islamic caliphate remained in control of egypt for the next six centuries, with cairo as the seat of the caliphate under the fatimids. with the end of the kurdish ayyubid dynasty, the mamluks, a turcocircassian military caste, took control about ad . by the late th century, egypt linked the red sea, india, malaya, and east indies. the greek and coptic languages and cultures went into a steep decline in favor of arabic culture though coptic managed to last as a spoken language until the th century and remains a liturgical language today. the mamluks continued to govern the country until the conquest of egypt by the ottoman turks in , after which it became a province of the ottoman empire. the midthcentury black death killed about of the population of egypt. fter the th century, the ottoman invasion pushed the egyptian system into decline. the defensive militarization damaged its civil society and economic institutions. the weakening of the economic system combined with the effects of the plague left egypt vulnerable to foreign invasion. portuguese traders took over their trade. egypt suffered six famines between and . the famine cost it roughly onesixth of its population. the brief french invasion of egypt led by napoleon bonaparte began in . the campaign eventually led to the discovery of the rosetta stone, creating the field of egyptology. despite early victories and an initially successful expedition into syria, napoleon and his armée d'orient were eventually defeated and forced to withdraw, especially after suffering the defeat of the supporting french fleet at the battle of the nile.\n"
     ]
    }
   ]
  },
  {
   "cell_type": "code",
   "source": [
    "# remove whitespace from text\n",
    "def remove_whitespace(text):\n",
    "    return  \" \".join(text.split())\n",
    "text= remove_whitespace(text)   "
   ],
   "metadata": {
    "id": "IQs9IS0B5FH1",
    "pycharm": {
     "name": "#%%\n"
    }
   },
   "execution_count": 103,
   "outputs": []
  },
  {
   "cell_type": "code",
   "source": [
    "text = re.sub(r\"[.]+\", \".\", text)\n",
    "text = re.sub(r\",+\", \",\", text)\n",
    "text = re.sub(r\"'+\", \"'\", text)\n",
    "text"
   ],
   "metadata": {
    "id": "KimlKseB5NPN",
    "colab": {
     "base_uri": "https://localhost:8080/",
     "height": 140
    },
    "outputId": "edf632d9-a782-415f-b3ab-a87e5ad35978",
    "pycharm": {
     "name": "#%%\n"
    }
   },
   "execution_count": 104,
   "outputs": [
    {
     "output_type": "execute_result",
     "data": {
      "text/plain": [
       "\"the history of egypt has been long and wealthy, due to the flow of the nile river with its fertile banks and delta, as well as the accomplishments of egypt's native inhabitants and outside influence. much of egypt's ancient history was a mystery until egyptian hieroglyphs were deciphered with the discovery and help of the rosetta stone. among the seven wonders of the ancient world is the great pyramid of giza. ancient egyptian civilization coalesced around because with the political unification of upper and lower egypt under the first king of the first dynasty, narmer. predominantly native egyptian rule lasted until the conquest by the achaemenid empire in the sixth century because. in because, macedonian ruler alexander the great conquered egypt as he toppled the achaemenids and established the shortlived macedonian empire, which gave rise to the hellenistic ptolemaic kingdom, founded in because by one of alexander's former generals, ptolemy i soter. the ptolemies had to fight native rebellions and were involved in foreign and civil wars that led to the decline of the kingdom and its final annexation by rome. the death of cleopatra ended the nominal independence of egypt, resulting in egypt's becoming one of the provinces of the roman empire. roman rule in egypt including byzantine lasted from because to ad, with a brief interlude of control by the sasanian empire between and , known as sasanian egypt. after the muslim conquest of egypt, parts of egypt became provinces of successive caliphates and other muslim dynasties rashidun caliphate , umayyad caliphate –, abbasid caliphate –, fatimid caliphate –, ayyubid sultanate –, and the mamluk sultanate –. in , ottoman sultan selim i captured cairo, absorbing egypt into the ottoman empire. egypt remained entirely ottoman until , except during french occupation from to . starting in , egypt became a nominally autonomous tributary state called the khedivate of egypt. however, khedivate egypt fell under british control in following the angloegyptian war. after the end of world war i and following the egyptian revolution of , the kingdom of egypt was established. while a de jure independent state, the united kingdom retained control over foreign affairs, defense, and other matters. british occupation lasted until , with the angloegyptian agreement of . the modern republic of egypt was founded in , and with the complete withdrawal of british forces from the suez canal in , president gamal abdel nasser president from to introduced many reforms and created the shortlived united arab republic with syria. his terms also saw the sixday war and the creation of the international nonaligned movement. his successor, anwar sadat president from to changed egypt's trajectory, departing from many of the political, and economic tenets of nasserism, reinstituting a multiparty system and launching the infitah economic policy. he led egypt in the yom kippur war of to regain egypt's sinai peninsula, which israel had occupied since the sixday war of . this later led to the egypt–israel peace treaty. recent egyptian history has been dominated by events following nearly thirty years of rule by the former president hosni mubarak. the egyptian revolution of deposed mubarak and resulted in the first democratically elected president in egyptian history, mohamed morsi. unrest after the revolution and related disputes led to the egyptian coup d'état, morsi's imprisonment and the election of abdel fattah alsisi as president in . there is evidence of petroglyphs along the nile terraces and in desert oases. in the th millennium because, a culture of huntergatherers and fishermen was replaced by a graingrinding culture. climate changes andor overgrazing around because began to desiccate the pastoral lands of egypt, forming the sahara. early tribal peoples migrated to the nile river, where they developed a settled agricultural economy and more centralized society. by about because, a neolithic culture rooted in the nile valley. during the neolithic era, several predynastic cultures developed independently in upper and lower egypt. the badari culture and the successor naqada series are generally regarded as precursors to dynastic egypt. the earliest known lower egyptian site, merimda, predates the badarian by about seven hundred years. contemporaneous lower egyptian communities coexisted with their southern counterparts for more than two thousand years, remaining culturally distinct, but maintaining frequent contact through trade. the earliest known evidence of egyptian hieroglyphic inscriptions appeared during the predynastic period on naqada iii pottery vessels, dated to about because. new kingdom, third intermediate period and late period main articles new kingdom of egypt, third intermediate period of egypt, and late period of ancient egypt the new kingdom c. – because began with the eighteenth dynasty, marking the rise of egypt as an international power that expanded during its greatest extension to an empire from syria to upper nubia. this period is noted for some of the most well known pharaohs, including hatshepsut, thutmose iii, akhenaten and his wife nefertiti, tutankhamun and ramesses ii. the first historically attested expression of monotheism came during this period as atenism, although somewho consider atenism to be a form of monolatry rather than of monotheism. frequent contacts with other nations brought new ideas to the new kingdom. the country was later ruled and invaded by libyans, nubians and assyrians, but native egyptians eventually drove them out and regained control of their country. in the sixth century because, the achaemenid empire conquered egypt. the entire twentyseventh dynasty of egypt, from because to because, save for petubastis iii and possibly psammetichus iv, was an entirely persianruled period, with the achaemenid kings being granted the title of pharaoh. amyrtaeus' successful rebellion ended the first achaemenid rule and inaugurated egypt's last significant phase of independence under native rulers. the thirtieth dynasty was the last native ruling dynasty during the pharaonic epoch. it fell to the persians again in because after the last native pharaoh, king nectanebo ii, was defeated in battle. the thirtyfirst dynasty of egypt, also known as the second egyptian satrapy, was effectively a shortliving province of the achaemenid empire between because to because. after an interval of independence, during which three indigenous dynasties reigned the th, th and th dynasty, artaxerxes iii – because reconquered the nile valley for a brief second period – because, which is called the thirtyfirst dynasty of egypt, thus starting another period of pharaohs of persian origin. a team led by johannes krause managed the first reliable sequencing of the genomes of mummified individuals in . whilst not conclusive, because of the nonexhaustive time frame and restricted location that the mummies represent, their study nevertheless showed that these ancient egyptians closely resembled ancient and modern near eastern populations, especially those in the levant, and had almost no dna from subsaharan africa. what is more, the genetics of the mummies remained remarkably consistent even as different powers—including nubians, greeks, and romans—conquered the empire. the ptolemaic kingdom was a powerful hellenistic state extending from southern syria in the east, to cyrene to the west, and south to the frontier with nubia. alexandria became the capital city and a center of greek culture and trade. to gain recognition by the native egyptian populace, they named themselves as the successors to the pharaohs. the later ptolemies took on egyptian traditions, had themselves portrayed on public monuments in egyptian style and dress, and participated in egyptian religious life. the last ruler from the ptolemaic dynasty was cleopatra, who committed suicide following the burial of her lover mark antony, who had died in her arms from a selfinflicted stab wound after augustus had captured alexandria and her mercenary forces had fled. the ptolemies faced rebellions of native egyptians, often caused by an unwanted regime, and were involved in foreign and civil wars that led to the decline of the kingdom and its annexation by rome. nevertheless, hellenistic culture continued to thrive in egypt well after the muslim conquest. the native egyptiancoptic culture continued to exist as well the coptic language itself was egypt's most widely spoken language until at least the th century. egypt quickly became the empire's breadbasket supplying the greater portion of the empire's grain in addition to flax, papyrus, glass and many other finished goods. the city of alexandria became a key trading outpost for the roman empire by some accounts, the most important for a time. shipping from egypt regularly reached india and ethiopia among other international destinations. it was also a leading perhaps the leading scientific and technological center of the empire. scholars such as ptolemy, hypatia, and heron broke new ground in astronomy, mathematics, and other disciplines. culturally, the city of alexandria at times rivaled rome in its importance. christianity reached egypt relatively early in the evangelist period of the first century traditionally credited to mark the evangelist. alexandria, egypt and antioch, syria quickly became the leading centers of christianity. diocletian's reign marked the transition from the classical roman to the late antiquebyzantine era in egypt, when a great number of egyptian christians were persecuted. the new testament had by then been translated into egyptian. after the council of chalcedon in ad , a distinct egyptian coptic church was firmly established. sasanian egypt known in middle persian sources as agiptus refers to the brief rule of egypt and parts of libya by the sasanian empire, which lasted from to , until the sasanian rebel shahrbaraz made an alliance with the byzantine emperor heraclius and had control over egypt returned to him. the byzantines were able to regain control of the country after a brief persian invasion early in the th century, until –, when egypt was invaded and conquered by the arab islamic empire. the final loss of egypt was of incalculable significance to the byzantine empire, which had relied on egypt for many agricultural and manufactured goods. when they defeated the byzantine armies in egypt, the arabs brought sunni islam to the country. early in this period, egyptians began to blend their new faith with their christian traditions as well as other indigenous beliefs and practices, leading to various sufi orders that have flourished to this day. these earlier rites had survived the period of coptic christianity. muslim rulers nominated by the islamic caliphate remained in control of egypt for the next six centuries, with cairo as the seat of the caliphate under the fatimids. with the end of the kurdish ayyubid dynasty, the mamluks, a turcocircassian military caste, took control about ad . by the late th century, egypt linked the red sea, india, malaya, and east indies. the greek and coptic languages and cultures went into a steep decline in favor of arabic culture though coptic managed to last as a spoken language until the th century and remains a liturgical language today. the mamluks continued to govern the country until the conquest of egypt by the ottoman turks in , after which it became a province of the ottoman empire. the midthcentury black death killed about of the population of egypt. fter the th century, the ottoman invasion pushed the egyptian system into decline. the defensive militarization damaged its civil society and economic institutions. the weakening of the economic system combined with the effects of the plague left egypt vulnerable to foreign invasion. portuguese traders took over their trade. egypt suffered six famines between and . the famine cost it roughly onesixth of its population. the brief french invasion of egypt led by napoleon bonaparte began in . the campaign eventually led to the discovery of the rosetta stone, creating the field of egyptology. despite early victories and an initially successful expedition into syria, napoleon and his armée d'orient were eventually defeated and forced to withdraw, especially after suffering the defeat of the supporting french fleet at the battle of the nile.\""
      ],
      "application/vnd.google.colaboratory.intrinsic+json": {
       "type": "string"
      }
     },
     "metadata": {},
     "execution_count": 104
    }
   ]
  },
  {
   "cell_type": "code",
   "source": [
    "text = re.sub(r'[\\u0600-\\u06FF]+',\"\" ,text)\n",
    "text"
   ],
   "metadata": {
    "id": "Pefmq3mn6Ffn",
    "colab": {
     "base_uri": "https://localhost:8080/",
     "height": 140
    },
    "outputId": "ece13c85-7b9d-4ff3-f891-16997c680f5b",
    "pycharm": {
     "name": "#%%\n"
    }
   },
   "execution_count": 105,
   "outputs": [
    {
     "output_type": "execute_result",
     "data": {
      "text/plain": [
       "\"the history of egypt has been long and wealthy, due to the flow of the nile river with its fertile banks and delta, as well as the accomplishments of egypt's native inhabitants and outside influence. much of egypt's ancient history was a mystery until egyptian hieroglyphs were deciphered with the discovery and help of the rosetta stone. among the seven wonders of the ancient world is the great pyramid of giza. ancient egyptian civilization coalesced around because with the political unification of upper and lower egypt under the first king of the first dynasty, narmer. predominantly native egyptian rule lasted until the conquest by the achaemenid empire in the sixth century because. in because, macedonian ruler alexander the great conquered egypt as he toppled the achaemenids and established the shortlived macedonian empire, which gave rise to the hellenistic ptolemaic kingdom, founded in because by one of alexander's former generals, ptolemy i soter. the ptolemies had to fight native rebellions and were involved in foreign and civil wars that led to the decline of the kingdom and its final annexation by rome. the death of cleopatra ended the nominal independence of egypt, resulting in egypt's becoming one of the provinces of the roman empire. roman rule in egypt including byzantine lasted from because to ad, with a brief interlude of control by the sasanian empire between and , known as sasanian egypt. after the muslim conquest of egypt, parts of egypt became provinces of successive caliphates and other muslim dynasties rashidun caliphate , umayyad caliphate –, abbasid caliphate –, fatimid caliphate –, ayyubid sultanate –, and the mamluk sultanate –. in , ottoman sultan selim i captured cairo, absorbing egypt into the ottoman empire. egypt remained entirely ottoman until , except during french occupation from to . starting in , egypt became a nominally autonomous tributary state called the khedivate of egypt. however, khedivate egypt fell under british control in following the angloegyptian war. after the end of world war i and following the egyptian revolution of , the kingdom of egypt was established. while a de jure independent state, the united kingdom retained control over foreign affairs, defense, and other matters. british occupation lasted until , with the angloegyptian agreement of . the modern republic of egypt was founded in , and with the complete withdrawal of british forces from the suez canal in , president gamal abdel nasser president from to introduced many reforms and created the shortlived united arab republic with syria. his terms also saw the sixday war and the creation of the international nonaligned movement. his successor, anwar sadat president from to changed egypt's trajectory, departing from many of the political, and economic tenets of nasserism, reinstituting a multiparty system and launching the infitah economic policy. he led egypt in the yom kippur war of to regain egypt's sinai peninsula, which israel had occupied since the sixday war of . this later led to the egypt–israel peace treaty. recent egyptian history has been dominated by events following nearly thirty years of rule by the former president hosni mubarak. the egyptian revolution of deposed mubarak and resulted in the first democratically elected president in egyptian history, mohamed morsi. unrest after the revolution and related disputes led to the egyptian coup d'état, morsi's imprisonment and the election of abdel fattah alsisi as president in . there is evidence of petroglyphs along the nile terraces and in desert oases. in the th millennium because, a culture of huntergatherers and fishermen was replaced by a graingrinding culture. climate changes andor overgrazing around because began to desiccate the pastoral lands of egypt, forming the sahara. early tribal peoples migrated to the nile river, where they developed a settled agricultural economy and more centralized society. by about because, a neolithic culture rooted in the nile valley. during the neolithic era, several predynastic cultures developed independently in upper and lower egypt. the badari culture and the successor naqada series are generally regarded as precursors to dynastic egypt. the earliest known lower egyptian site, merimda, predates the badarian by about seven hundred years. contemporaneous lower egyptian communities coexisted with their southern counterparts for more than two thousand years, remaining culturally distinct, but maintaining frequent contact through trade. the earliest known evidence of egyptian hieroglyphic inscriptions appeared during the predynastic period on naqada iii pottery vessels, dated to about because. new kingdom, third intermediate period and late period main articles new kingdom of egypt, third intermediate period of egypt, and late period of ancient egypt the new kingdom c. – because began with the eighteenth dynasty, marking the rise of egypt as an international power that expanded during its greatest extension to an empire from syria to upper nubia. this period is noted for some of the most well known pharaohs, including hatshepsut, thutmose iii, akhenaten and his wife nefertiti, tutankhamun and ramesses ii. the first historically attested expression of monotheism came during this period as atenism, although somewho consider atenism to be a form of monolatry rather than of monotheism. frequent contacts with other nations brought new ideas to the new kingdom. the country was later ruled and invaded by libyans, nubians and assyrians, but native egyptians eventually drove them out and regained control of their country. in the sixth century because, the achaemenid empire conquered egypt. the entire twentyseventh dynasty of egypt, from because to because, save for petubastis iii and possibly psammetichus iv, was an entirely persianruled period, with the achaemenid kings being granted the title of pharaoh. amyrtaeus' successful rebellion ended the first achaemenid rule and inaugurated egypt's last significant phase of independence under native rulers. the thirtieth dynasty was the last native ruling dynasty during the pharaonic epoch. it fell to the persians again in because after the last native pharaoh, king nectanebo ii, was defeated in battle. the thirtyfirst dynasty of egypt, also known as the second egyptian satrapy, was effectively a shortliving province of the achaemenid empire between because to because. after an interval of independence, during which three indigenous dynasties reigned the th, th and th dynasty, artaxerxes iii – because reconquered the nile valley for a brief second period – because, which is called the thirtyfirst dynasty of egypt, thus starting another period of pharaohs of persian origin. a team led by johannes krause managed the first reliable sequencing of the genomes of mummified individuals in . whilst not conclusive, because of the nonexhaustive time frame and restricted location that the mummies represent, their study nevertheless showed that these ancient egyptians closely resembled ancient and modern near eastern populations, especially those in the levant, and had almost no dna from subsaharan africa. what is more, the genetics of the mummies remained remarkably consistent even as different powers—including nubians, greeks, and romans—conquered the empire. the ptolemaic kingdom was a powerful hellenistic state extending from southern syria in the east, to cyrene to the west, and south to the frontier with nubia. alexandria became the capital city and a center of greek culture and trade. to gain recognition by the native egyptian populace, they named themselves as the successors to the pharaohs. the later ptolemies took on egyptian traditions, had themselves portrayed on public monuments in egyptian style and dress, and participated in egyptian religious life. the last ruler from the ptolemaic dynasty was cleopatra, who committed suicide following the burial of her lover mark antony, who had died in her arms from a selfinflicted stab wound after augustus had captured alexandria and her mercenary forces had fled. the ptolemies faced rebellions of native egyptians, often caused by an unwanted regime, and were involved in foreign and civil wars that led to the decline of the kingdom and its annexation by rome. nevertheless, hellenistic culture continued to thrive in egypt well after the muslim conquest. the native egyptiancoptic culture continued to exist as well the coptic language itself was egypt's most widely spoken language until at least the th century. egypt quickly became the empire's breadbasket supplying the greater portion of the empire's grain in addition to flax, papyrus, glass and many other finished goods. the city of alexandria became a key trading outpost for the roman empire by some accounts, the most important for a time. shipping from egypt regularly reached india and ethiopia among other international destinations. it was also a leading perhaps the leading scientific and technological center of the empire. scholars such as ptolemy, hypatia, and heron broke new ground in astronomy, mathematics, and other disciplines. culturally, the city of alexandria at times rivaled rome in its importance. christianity reached egypt relatively early in the evangelist period of the first century traditionally credited to mark the evangelist. alexandria, egypt and antioch, syria quickly became the leading centers of christianity. diocletian's reign marked the transition from the classical roman to the late antiquebyzantine era in egypt, when a great number of egyptian christians were persecuted. the new testament had by then been translated into egyptian. after the council of chalcedon in ad , a distinct egyptian coptic church was firmly established. sasanian egypt known in middle persian sources as agiptus refers to the brief rule of egypt and parts of libya by the sasanian empire, which lasted from to , until the sasanian rebel shahrbaraz made an alliance with the byzantine emperor heraclius and had control over egypt returned to him. the byzantines were able to regain control of the country after a brief persian invasion early in the th century, until –, when egypt was invaded and conquered by the arab islamic empire. the final loss of egypt was of incalculable significance to the byzantine empire, which had relied on egypt for many agricultural and manufactured goods. when they defeated the byzantine armies in egypt, the arabs brought sunni islam to the country. early in this period, egyptians began to blend their new faith with their christian traditions as well as other indigenous beliefs and practices, leading to various sufi orders that have flourished to this day. these earlier rites had survived the period of coptic christianity. muslim rulers nominated by the islamic caliphate remained in control of egypt for the next six centuries, with cairo as the seat of the caliphate under the fatimids. with the end of the kurdish ayyubid dynasty, the mamluks, a turcocircassian military caste, took control about ad . by the late th century, egypt linked the red sea, india, malaya, and east indies. the greek and coptic languages and cultures went into a steep decline in favor of arabic culture though coptic managed to last as a spoken language until the th century and remains a liturgical language today. the mamluks continued to govern the country until the conquest of egypt by the ottoman turks in , after which it became a province of the ottoman empire. the midthcentury black death killed about of the population of egypt. fter the th century, the ottoman invasion pushed the egyptian system into decline. the defensive militarization damaged its civil society and economic institutions. the weakening of the economic system combined with the effects of the plague left egypt vulnerable to foreign invasion. portuguese traders took over their trade. egypt suffered six famines between and . the famine cost it roughly onesixth of its population. the brief french invasion of egypt led by napoleon bonaparte began in . the campaign eventually led to the discovery of the rosetta stone, creating the field of egyptology. despite early victories and an initially successful expedition into syria, napoleon and his armée d'orient were eventually defeated and forced to withdraw, especially after suffering the defeat of the supporting french fleet at the battle of the nile.\""
      ],
      "application/vnd.google.colaboratory.intrinsic+json": {
       "type": "string"
      }
     },
     "metadata": {},
     "execution_count": 105
    }
   ]
  },
  {
   "cell_type": "code",
   "source": [
    "expanded_words = []   \n",
    "for word in text.split():\n",
    "  # using contractions.fix to expand the shortened words\n",
    "  expanded_words.append(contractions.fix(word))  \n",
    "   \n",
    "text = ' '.join(expanded_words)\n",
    "text"
   ],
   "metadata": {
    "id": "DXvu49uo6M8r",
    "colab": {
     "base_uri": "https://localhost:8080/",
     "height": 140
    },
    "outputId": "af00b48f-782d-496c-c7be-f648ee0d533f",
    "pycharm": {
     "name": "#%%\n"
    }
   },
   "execution_count": 106,
   "outputs": [
    {
     "output_type": "execute_result",
     "data": {
      "text/plain": [
       "\"the history of egypt has been long and wealthy, due to the flow of the nile river with its fertile banks and delta, as well as the accomplishments of egypt's native inhabitants and outside influence. much of egypt's ancient history was a mystery until egyptian hieroglyphs were deciphered with the discovery and help of the rosetta stone. among the seven wonders of the ancient world is the great pyramid of giza. ancient egyptian civilization coalesced around because with the political unification of upper and lower egypt under the first king of the first dynasty, narmer. predominantly native egyptian rule lasted until the conquest by the achaemenid empire in the sixth century because. in because, macedonian ruler alexander the great conquered egypt as he toppled the achaemenids and established the shortlived macedonian empire, which gave rise to the hellenistic ptolemaic kingdom, founded in because by one of alexander's former generals, ptolemy i soter. the ptolemies had to fight native rebellions and were involved in foreign and civil wars that led to the decline of the kingdom and its final annexation by rome. the death of cleopatra ended the nominal independence of egypt, resulting in egypt's becoming one of the provinces of the roman empire. roman rule in egypt including byzantine lasted from because to ad, with a brief interlude of control by the sasanian empire between and , known as sasanian egypt. after the muslim conquest of egypt, parts of egypt became provinces of successive caliphates and other muslim dynasties rashidun caliphate , umayyad caliphate –, abbasid caliphate –, fatimid caliphate –, ayyubid sultanate –, and the mamluk sultanate –. in , ottoman sultan selim i captured cairo, absorbing egypt into the ottoman empire. egypt remained entirely ottoman until , except during french occupation from to . starting in , egypt became a nominally autonomous tributary state called the khedivate of egypt. however, khedivate egypt fell under british control in following the angloegyptian war. after the end of world war i and following the egyptian revolution of , the kingdom of egypt was established. while a de jure independent state, the united kingdom retained control over foreign affairs, defense, and other matters. british occupation lasted until , with the angloegyptian agreement of . the modern republic of egypt was founded in , and with the complete withdrawal of british forces from the suez canal in , president gamal abdel nasser president from to introduced many reforms and created the shortlived united arab republic with syria. his terms also saw the sixday war and the creation of the international nonaligned movement. his successor, anwar sadat president from to changed egypt's trajectory, departing from many of the political, and economic tenets of nasserism, reinstituting a multiparty system and launching the infitah economic policy. he led egypt in the yom kippur war of to regain egypt's sinai peninsula, which israel had occupied since the sixday war of . this later led to the egypt–israel peace treaty. recent egyptian history has been dominated by events following nearly thirty years of rule by the former president hosni mubarak. the egyptian revolution of deposed mubarak and resulted in the first democratically elected president in egyptian history, mohamed morsi. unrest after the revolution and related disputes led to the egyptian coup d'état, morsi's imprisonment and the election of abdel fattah alsisi as president in . there is evidence of petroglyphs along the nile terraces and in desert oases. in the th millennium because, a culture of huntergatherers and fishermen was replaced by a graingrinding culture. climate changes andor overgrazing around because began to desiccate the pastoral lands of egypt, forming the sahara. early tribal peoples migrated to the nile river, where they developed a settled agricultural economy and more centralized society. by about because, a neolithic culture rooted in the nile valley. during the neolithic era, several predynastic cultures developed independently in upper and lower egypt. the badari culture and the successor naqada series are generally regarded as precursors to dynastic egypt. the earliest known lower egyptian site, merimda, predates the badarian by about seven hundred years. contemporaneous lower egyptian communities coexisted with their southern counterparts for more than two thousand years, remaining culturally distinct, but maintaining frequent contact through trade. the earliest known evidence of egyptian hieroglyphic inscriptions appeared during the predynastic period on naqada iii pottery vessels, dated to about because. new kingdom, third intermediate period and late period main articles new kingdom of egypt, third intermediate period of egypt, and late period of ancient egypt the new kingdom c. – because began with the eighteenth dynasty, marking the rise of egypt as an international power that expanded during its greatest extension to an empire from syria to upper nubia. this period is noted for some of the most well known pharaohs, including hatshepsut, thutmose iii, akhenaten and his wife nefertiti, tutankhamun and ramesses ii. the first historically attested expression of monotheism came during this period as atenism, although somewho consider atenism to be a form of monolatry rather than of monotheism. frequent contacts with other nations brought new ideas to the new kingdom. the country was later ruled and invaded by libyans, nubians and assyrians, but native egyptians eventually drove them out and regained control of their country. in the sixth century because, the achaemenid empire conquered egypt. the entire twentyseventh dynasty of egypt, from because to because, save for petubastis iii and possibly psammetichus iv, was an entirely persianruled period, with the achaemenid kings being granted the title of pharaoh. amyrtaeus' successful rebellion ended the first achaemenid rule and inaugurated egypt's last significant phase of independence under native rulers. the thirtieth dynasty was the last native ruling dynasty during the pharaonic epoch. it fell to the persians again in because after the last native pharaoh, king nectanebo ii, was defeated in battle. the thirtyfirst dynasty of egypt, also known as the second egyptian satrapy, was effectively a shortliving province of the achaemenid empire between because to because. after an interval of independence, during which three indigenous dynasties reigned the th, th and th dynasty, artaxerxes iii – because reconquered the nile valley for a brief second period – because, which is called the thirtyfirst dynasty of egypt, thus starting another period of pharaohs of persian origin. a team led by johannes krause managed the first reliable sequencing of the genomes of mummified individuals in . whilst not conclusive, because of the nonexhaustive time frame and restricted location that the mummies represent, their study nevertheless showed that these ancient egyptians closely resembled ancient and modern near eastern populations, especially those in the levant, and had almost no dna from subsaharan africa. what is more, the genetics of the mummies remained remarkably consistent even as different powers—including nubians, greeks, and romans—conquered the empire. the ptolemaic kingdom was a powerful hellenistic state extending from southern syria in the east, to cyrene to the west, and south to the frontier with nubia. alexandria became the capital city and a center of greek culture and trade. to gain recognition by the native egyptian populace, they named themselves as the successors to the pharaohs. the later ptolemies took on egyptian traditions, had themselves portrayed on public monuments in egyptian style and dress, and participated in egyptian religious life. the last ruler from the ptolemaic dynasty was cleopatra, who committed suicide following the burial of her lover mark antony, who had died in her arms from a selfinflicted stab wound after augustus had captured alexandria and her mercenary forces had fled. the ptolemies faced rebellions of native egyptians, often caused by an unwanted regime, and were involved in foreign and civil wars that led to the decline of the kingdom and its annexation by rome. nevertheless, hellenistic culture continued to thrive in egypt well after the muslim conquest. the native egyptiancoptic culture continued to exist as well the coptic language itself was egypt's most widely spoken language until at least the th century. egypt quickly became the empire's breadbasket supplying the greater portion of the empire's grain in addition to flax, papyrus, glass and many other finished goods. the city of alexandria became a key trading outpost for the roman empire by some accounts, the most important for a time. shipping from egypt regularly reached india and ethiopia among other international destinations. it was also a leading perhaps the leading scientific and technological center of the empire. scholars such as ptolemy, hypatia, and heron broke new ground in astronomy, mathematics, and other disciplines. culturally, the city of alexandria at times rivaled rome in its importance. christianity reached egypt relatively early in the evangelist period of the first century traditionally credited to mark the evangelist. alexandria, egypt and antioch, syria quickly became the leading centers of christianity. diocletian's reign marked the transition from the classical roman to the late antiquebyzantine era in egypt, when a great number of egyptian christians were persecuted. the new testament had by then been translated into egyptian. after the council of chalcedon in ad , a distinct egyptian coptic church was firmly established. sasanian egypt known in middle persian sources as agiptus refers to the brief rule of egypt and parts of libya by the sasanian empire, which lasted from to , until the sasanian rebel shahrbaraz made an alliance with the byzantine emperor heraclius and had control over egypt returned to him. the byzantines were able to regain control of the country after a brief persian invasion early in the th century, until –, when egypt was invaded and conquered by the arab islamic empire. the final loss of egypt was of incalculable significance to the byzantine empire, which had relied on egypt for many agricultural and manufactured goods. when they defeated the byzantine armies in egypt, the arabs brought sunni islam to the country. early in this period, egyptians began to blend their new faith with their christian traditions as well as other indigenous beliefs and practices, leading to various sufi orders that have flourished to this day. these earlier rites had survived the period of coptic christianity. muslim rulers nominated by the islamic caliphate remained in control of egypt for the next six centuries, with cairo as the seat of the caliphate under the fatimids. with the end of the kurdish ayyubid dynasty, the mamluks, a turcocircassian military caste, took control about ad . by the late th century, egypt linked the red sea, india, malaya, and east indies. the greek and coptic languages and cultures went into a steep decline in favor of arabic culture though coptic managed to last as a spoken language until the th century and remains a liturgical language today. the mamluks continued to govern the country until the conquest of egypt by the ottoman turks in , after which it became a province of the ottoman empire. the midthcentury black death killed about of the population of egypt. fter the th century, the ottoman invasion pushed the egyptian system into decline. the defensive militarization damaged its civil society and economic institutions. the weakening of the economic system combined with the effects of the plague left egypt vulnerable to foreign invasion. portuguese traders took over their trade. egypt suffered six famines between and . the famine cost it roughly onesixth of its population. the brief french invasion of egypt led by napoleon bonaparte began in . the campaign eventually led to the discovery of the rosetta stone, creating the field of egyptology. despite early victories and an initially successful expedition into syria, napoleon and his armée d'orient were eventually defeated and forced to withdraw, especially after suffering the defeat of the supporting french fleet at the battle of the nile.\""
      ],
      "application/vnd.google.colaboratory.intrinsic+json": {
       "type": "string"
      }
     },
     "metadata": {},
     "execution_count": 106
    }
   ]
  },
  {
   "cell_type": "markdown",
   "source": [
    "**Keyword Extraction Models**\n"
   ],
   "metadata": {
    "id": "NCMEXsTdCMqO",
    "pycharm": {
     "name": "#%% md\n"
    }
   }
  },
  {
   "cell_type": "markdown",
   "source": [
    "RAKE"
   ],
   "metadata": {
    "id": "I3GohywWCl3K",
    "pycharm": {
     "name": "#%% md\n"
    }
   }
  },
  {
   "cell_type": "code",
   "source": [
    "\n",
    "# from rake_nltk import Rake\n",
    "\n",
    "# # Uses stopwords for english from NLTK, and all puntuation characters by\n",
    "# # default\n",
    "# r = Rake()\n",
    "\n",
    "# # Extraction given the text.\n",
    "# r.extract_keywords_from_text(text)\n",
    "\n",
    "# # # Extraction given the list of strings where each string is a sentence.\n",
    "# # r.extract_keywords_from_sentences(<list of sentences>)\n",
    "\n",
    "# # To get keyword phrases ranked highest to lowest.\n",
    "# r.get_ranked_phrases()\n",
    "\n",
    "# # To get keyword phrases ranked highest to lowest with scores.\n",
    "# r.get_ranked_phrases_with_scores()\n"
   ],
   "metadata": {
    "id": "XEQgO7r290sp",
    "pycharm": {
     "name": "#%%\n"
    }
   },
   "execution_count": 107,
   "outputs": []
  },
  {
   "cell_type": "markdown",
   "source": [
    "PKE"
   ],
   "metadata": {
    "id": "6Kn5940sCdgU",
    "pycharm": {
     "name": "#%% md\n"
    }
   }
  },
  {
   "cell_type": "code",
   "source": [
    "\n",
    "# extractor = pke.unsupervised.TopicRank()\n",
    "\n",
    "# # load the content of the document, here document is expected to be a simple \n",
    "# # test string and preprocessing is carried out using spacy\n",
    "# extractor.load_document(input=text, language='en')\n",
    "\n",
    "# # keyphrase candidate selection, in the case of TopicRank: sequences of nouns\n",
    "# # and adjectives (i.e. `(Noun|Adj)*`)\n",
    "# extractor.candidate_selection()\n",
    "\n",
    "# # candidate weighting, in the case of TopicRank: using a random walk algorithm\n",
    "# extractor.candidate_weighting()\n",
    "\n",
    "# # N-best selection, keyphrases contains the 10 highest scored candidates as\n",
    "# # (keyphrase, score) tuples\n",
    "# keyphrases = extractor.get_n_best(n=10)\n"
   ],
   "metadata": {
    "id": "JyOZ4l9FA3wN",
    "pycharm": {
     "name": "#%%\n"
    }
   },
   "execution_count": 108,
   "outputs": []
  },
  {
   "cell_type": "code",
   "source": [
    "# keyphrases"
   ],
   "metadata": {
    "id": "LAhW7-edB_Td",
    "pycharm": {
     "name": "#%%\n"
    }
   },
   "execution_count": 109,
   "outputs": []
  },
  {
   "cell_type": "markdown",
   "source": [
    "YAKE"
   ],
   "metadata": {
    "id": "FCrVBVTgJlHG",
    "pycharm": {
     "name": "#%% md\n"
    }
   }
  },
  {
   "cell_type": "code",
   "source": [
    "\n",
    "# kw_extractor = yake.KeywordExtractor()\n",
    "# keywords = kw_extractor.extract_keywords(text)\n",
    "\n",
    "# language = \"en\"\n",
    "# max_ngram_size = 3\n",
    "# deduplication_threshold = 0.9\n",
    "# deduplication_algo = 'seqm'\n",
    "# windowSize = 1\n",
    "# numOfKeywords = 20\n",
    "\n",
    "# custom_kw_extractor = yake.KeywordExtractor(lan=language, n=max_ngram_size, dedupLim=deduplication_threshold, dedupFunc=deduplication_algo, windowsSize=windowSize, top=numOfKeywords, features=None)\n",
    "# keywords = custom_kw_extractor.extract_keywords(text)\n",
    "\n",
    "# for kw in keywords:\n",
    "#     print(kw) \n"
   ],
   "metadata": {
    "id": "kK6eXWrzDQK_",
    "pycharm": {
     "name": "#%%\n"
    }
   },
   "execution_count": 110,
   "outputs": []
  },
  {
   "cell_type": "markdown",
   "source": [
    "Keybert"
   ],
   "metadata": {
    "id": "OClC9ZLsJ1Li",
    "pycharm": {
     "name": "#%% md\n"
    }
   }
  },
  {
   "cell_type": "code",
   "source": [
    "# from keybert import KeyBERT\n",
    "# kw_model = KeyBERT()\n",
    "# keywords = kw_model.extract_keywords(text) \n",
    "# print(keywords)"
   ],
   "metadata": {
    "id": "BaARU-RyJBP_",
    "pycharm": {
     "name": "#%%\n"
    }
   },
   "execution_count": 111,
   "outputs": []
  },
  {
   "cell_type": "markdown",
   "source": [
    "**Key Extraction Models pke library**"
   ],
   "metadata": {
    "id": "nZ3yt7NCdee7",
    "pycharm": {
     "name": "#%% md\n"
    }
   }
  },
  {
   "cell_type": "code",
   "source": [
    "TopicRank = pke.unsupervised.TopicRank()\n",
    "TopicRank.load_document(input=text, language='en')\n",
    "TopicRank.candidate_selection()\n",
    "TopicRank.candidate_weighting()\n",
    "keyphrases1 = [item[0] for item in TopicRank.get_n_best(n=10)]\n",
    "keyphrases1"
   ],
   "metadata": {
    "id": "66IT55pyQ19N",
    "colab": {
     "base_uri": "https://localhost:8080/"
    },
    "outputId": "36d96f67-6638-473c-bf51-eaaebe11b14b",
    "pycharm": {
     "name": "#%%\n"
    }
   },
   "execution_count": 112,
   "outputs": [
    {
     "output_type": "execute_result",
     "data": {
      "text/plain": [
       "['egypt',\n",
       " 'egyptian hieroglyphs',\n",
       " 'shortlived macedonian empire',\n",
       " 'predynastic period',\n",
       " 'eighteenth dynasty',\n",
       " 'control',\n",
       " 'hellenistic ptolemaic kingdom',\n",
       " 'sixth century',\n",
       " 'culture',\n",
       " 'alexandria']"
      ]
     },
     "metadata": {},
     "execution_count": 112
    }
   ]
  },
  {
   "cell_type": "code",
   "source": [
    "TextRank = pke.unsupervised.TextRank()\n",
    "TextRank.load_document(input=text, language='en')\n",
    "TextRank.candidate_selection()\n",
    "TextRank.candidate_weighting()\n",
    "keyphrases2 = [item[0] for item in TextRank.get_n_best(n=10)]\n",
    "keyphrases2"
   ],
   "metadata": {
    "id": "IHohlMwBSC99",
    "colab": {
     "base_uri": "https://localhost:8080/"
    },
    "outputId": "8d92c2df-21af-4870-9494-794d831ca5c6",
    "pycharm": {
     "name": "#%%\n"
    }
   },
   "execution_count": 113,
   "outputs": [
    {
     "output_type": "execute_result",
     "data": {
      "text/plain": [
       "['native egyptian rule',\n",
       " 'native egyptian populace',\n",
       " 'ancient egyptian civilization',\n",
       " 'distinct egyptian coptic church',\n",
       " 'native egyptians',\n",
       " 'contemporaneous lower egyptian communities',\n",
       " 'lower egyptian site',\n",
       " 'second egyptian satrapy',\n",
       " 'ancient egyptians',\n",
       " 'egyptian religious life']"
      ]
     },
     "metadata": {},
     "execution_count": 113
    }
   ]
  },
  {
   "cell_type": "code",
   "source": [
    "SingleRank = pke.unsupervised.SingleRank()\n",
    "SingleRank.load_document(input=text, language='en')\n",
    "SingleRank.candidate_selection()\n",
    "SingleRank.candidate_weighting()\n",
    "keyphrases3 = [item[0] for item in SingleRank.get_n_best(n=10)]\n",
    "keyphrases3"
   ],
   "metadata": {
    "id": "6ffJJvXbSOlW",
    "colab": {
     "base_uri": "https://localhost:8080/"
    },
    "outputId": "4d0bba4e-c22d-4ac2-fdbd-83a6cd8251df",
    "pycharm": {
     "name": "#%%\n"
    }
   },
   "execution_count": 114,
   "outputs": [
    {
     "output_type": "execute_result",
     "data": {
      "text/plain": [
       "['ancient egypt',\n",
       " 'lower egypt',\n",
       " 'sasanian egypt',\n",
       " 'dynastic egypt',\n",
       " 'egypt vulnerable',\n",
       " 'egypt',\n",
       " 'late period main articles new kingdom',\n",
       " 'native egyptian rule',\n",
       " 'ancient egyptian civilization',\n",
       " 'native egyptian populace']"
      ]
     },
     "metadata": {},
     "execution_count": 114
    }
   ]
  },
  {
   "cell_type": "code",
   "source": [
    "TfIdf = pke.unsupervised.TfIdf()\n",
    "TfIdf.load_document(input=text, language='en')\n",
    "TfIdf.candidate_selection()\n",
    "TfIdf.candidate_weighting()\n",
    "keyphrases4 = [ item[0] for item in TfIdf.get_n_best(n=10)]\n",
    "keyphrases4"
   ],
   "metadata": {
    "id": "5eBQvbMGSkCT",
    "colab": {
     "base_uri": "https://localhost:8080/"
    },
    "outputId": "d66f4f21-7af3-4f0e-dbbf-ffbd70eae1c7",
    "pycharm": {
     "name": "#%%\n"
    }
   },
   "execution_count": 115,
   "outputs": [
    {
     "output_type": "stream",
     "name": "stderr",
     "text": [
      "WARNING:root:LoadFile._df_counts is hard coded to /usr/local/lib/python3.7/dist-packages/pke/models/df-semeval2010.tsv.gz\n"
     ]
    },
    {
     "output_type": "execute_result",
     "data": {
      "text/plain": [
       "['egypt',\n",
       " 'egyptian',\n",
       " 'dynasty',\n",
       " 'kingdom',\n",
       " 'century',\n",
       " 'culture',\n",
       " 'caliphates',\n",
       " 'nile',\n",
       " 'achaemenid',\n",
       " 'ottoman']"
      ]
     },
     "metadata": {},
     "execution_count": 115
    }
   ]
  },
  {
   "cell_type": "code",
   "source": [
    "final =[]\n",
    "for i in  keyphrases1,keyphrases2,keyphrases3,keyphrases4:\n",
    "  final=(keyphrases1+keyphrases2+keyphrases3+keyphrases4)\n",
    "final\n",
    "# df=pd.value_counts(np.array(final))\n",
    "# numbers=[x for x in df if x >= 2]\n",
    "# df['numbers']=numbers\n",
    "# df['words']=np.array(final)\n",
    "dict_all_phrases_count = {x:final.count(x) for x in final}\n",
    "dict_all_phrases_count\n",
    "filtered_keys = []\n",
    "for key,value in dict_all_phrases_count.items() :\n",
    "    if value > 1 :\n",
    "       filtered_keys.append(key)\n",
    "filtered_keys"
   ],
   "metadata": {
    "id": "n6SMJszNZ4vi",
    "colab": {
     "base_uri": "https://localhost:8080/"
    },
    "outputId": "a5af6a4c-892d-42b6-84b7-230d97a769ae",
    "pycharm": {
     "name": "#%%\n"
    }
   },
   "execution_count": 116,
   "outputs": [
    {
     "output_type": "execute_result",
     "data": {
      "text/plain": [
       "['egypt',\n",
       " 'culture',\n",
       " 'native egyptian rule',\n",
       " 'native egyptian populace',\n",
       " 'ancient egyptian civilization']"
      ]
     },
     "metadata": {},
     "execution_count": 116
    }
   ]
  },
  {
   "cell_type": "code",
   "source": [
    "\n",
    "\n",
    "def tokenize_sentences(text):\n",
    "    sentences = [sent_tokenize(text)]\n",
    "    sentences = [y for x in sentences for y in x]\n",
    "    # Remove any short sentences less than 20 letters.\n",
    "    sentences = [sentence.strip() for sentence in sentences if len(sentence) > 20]\n",
    "    return sentences\n",
    "\n",
    "def get_sentences_for_keyword(keywords, sentences):\n",
    "    keyword_processor = KeywordProcessor()\n",
    "    keyword_sentences = {}\n",
    "    for word in keywords:\n",
    "        keyword_sentences[word] = []\n",
    "        keyword_processor.add_keyword(word)\n",
    "    for sentence in sentences:\n",
    "        keywords_found = keyword_processor.extract_keywords(sentence)\n",
    "        for key in keywords_found:\n",
    "            keyword_sentences[key].append(sentence)\n",
    "\n",
    "    for key in keyword_sentences.keys():\n",
    "        values = keyword_sentences[key]\n",
    "        values = sorted(values, key=len, reverse=True)\n",
    "        keyword_sentences[key] = values\n",
    "    return keyword_sentences\n",
    "\n",
    "sentences = tokenize_sentences(text)\n",
    "keyword_sentence_mapping = get_sentences_for_keyword(filtered_keys, sentences)\n",
    "print(keyword_sentence_mapping)"
   ],
   "metadata": {
    "id": "is19jgm-udZt",
    "colab": {
     "base_uri": "https://localhost:8080/"
    },
    "outputId": "57400dfc-b1f8-4076-92a8-a1d3c24505bf",
    "pycharm": {
     "name": "#%%\n"
    }
   },
   "execution_count": 117,
   "outputs": [
    {
     "output_type": "stream",
     "name": "stdout",
     "text": [
      "{'egypt': ['new kingdom, third intermediate period and late period main articles new kingdom of egypt, third intermediate period of egypt, and late period of ancient egypt the new kingdom c. – because began with the eighteenth dynasty, marking the rise of egypt as an international power that expanded during its greatest extension to an empire from syria to upper nubia.', 'new kingdom, third intermediate period and late period main articles new kingdom of egypt, third intermediate period of egypt, and late period of ancient egypt the new kingdom c. – because began with the eighteenth dynasty, marking the rise of egypt as an international power that expanded during its greatest extension to an empire from syria to upper nubia.', 'new kingdom, third intermediate period and late period main articles new kingdom of egypt, third intermediate period of egypt, and late period of ancient egypt the new kingdom c. – because began with the eighteenth dynasty, marking the rise of egypt as an international power that expanded during its greatest extension to an empire from syria to upper nubia.', 'new kingdom, third intermediate period and late period main articles new kingdom of egypt, third intermediate period of egypt, and late period of ancient egypt the new kingdom c. – because began with the eighteenth dynasty, marking the rise of egypt as an international power that expanded during its greatest extension to an empire from syria to upper nubia.', 'after an interval of independence, during which three indigenous dynasties reigned the th, th and th dynasty, artaxerxes iii – because reconquered the nile valley for a brief second period – because, which is called the thirtyfirst dynasty of egypt, thus starting another period of pharaohs of persian origin.', 'sasanian egypt known in middle persian sources as agiptus refers to the brief rule of egypt and parts of libya by the sasanian empire, which lasted from to , until the sasanian rebel shahrbaraz made an alliance with the byzantine emperor heraclius and had control over egypt returned to him.', 'sasanian egypt known in middle persian sources as agiptus refers to the brief rule of egypt and parts of libya by the sasanian empire, which lasted from to , until the sasanian rebel shahrbaraz made an alliance with the byzantine emperor heraclius and had control over egypt returned to him.', 'sasanian egypt known in middle persian sources as agiptus refers to the brief rule of egypt and parts of libya by the sasanian empire, which lasted from to , until the sasanian rebel shahrbaraz made an alliance with the byzantine emperor heraclius and had control over egypt returned to him.', \"in because, macedonian ruler alexander the great conquered egypt as he toppled the achaemenids and established the shortlived macedonian empire, which gave rise to the hellenistic ptolemaic kingdom, founded in because by one of alexander's former generals, ptolemy i soter.\", 'after the muslim conquest of egypt, parts of egypt became provinces of successive caliphates and other muslim dynasties rashidun caliphate , umayyad caliphate –, abbasid caliphate –, fatimid caliphate –, ayyubid sultanate –, and the mamluk sultanate –.', 'after the muslim conquest of egypt, parts of egypt became provinces of successive caliphates and other muslim dynasties rashidun caliphate , umayyad caliphate –, abbasid caliphate –, fatimid caliphate –, ayyubid sultanate –, and the mamluk sultanate –.', 'the modern republic of egypt was founded in , and with the complete withdrawal of british forces from the suez canal in , president gamal abdel nasser president from to introduced many reforms and created the shortlived united arab republic with syria.', \"his successor, anwar sadat president from to changed egypt's trajectory, departing from many of the political, and economic tenets of nasserism, reinstituting a multiparty system and launching the infitah economic policy.\", 'the entire twentyseventh dynasty of egypt, from because to because, save for petubastis iii and possibly psammetichus iv, was an entirely persianruled period, with the achaemenid kings being granted the title of pharaoh.', \"the history of egypt has been long and wealthy, due to the flow of the nile river with its fertile banks and delta, as well as the accomplishments of egypt's native inhabitants and outside influence.\", \"the history of egypt has been long and wealthy, due to the flow of the nile river with its fertile banks and delta, as well as the accomplishments of egypt's native inhabitants and outside influence.\", 'the byzantines were able to regain control of the country after a brief persian invasion early in the th century, until –, when egypt was invaded and conquered by the arab islamic empire.', 'the thirtyfirst dynasty of egypt, also known as the second egyptian satrapy, was effectively a shortliving province of the achaemenid empire between because to because.', \"diocletian's reign marked the transition from the classical roman to the late antiquebyzantine era in egypt, when a great number of egyptian christians were persecuted.\", 'muslim rulers nominated by the islamic caliphate remained in control of egypt for the next six centuries, with cairo as the seat of the caliphate under the fatimids.', \"egypt quickly became the empire's breadbasket supplying the greater portion of the empire's grain in addition to flax, papyrus, glass and many other finished goods.\", 'roman rule in egypt including byzantine lasted from because to ad, with a brief interlude of control by the sasanian empire between and , known as sasanian egypt.', 'roman rule in egypt including byzantine lasted from because to ad, with a brief interlude of control by the sasanian empire between and , known as sasanian egypt.', 'ancient egyptian civilization coalesced around because with the political unification of upper and lower egypt under the first king of the first dynasty, narmer.', \"the native egyptiancoptic culture continued to exist as well the coptic language itself was egypt's most widely spoken language until at least the th century.\", 'the final loss of egypt was of incalculable significance to the byzantine empire, which had relied on egypt for many agricultural and manufactured goods.', 'the final loss of egypt was of incalculable significance to the byzantine empire, which had relied on egypt for many agricultural and manufactured goods.', 'the mamluks continued to govern the country until the conquest of egypt by the ottoman turks in , after which it became a province of the ottoman empire.', \"amyrtaeus' successful rebellion ended the first achaemenid rule and inaugurated egypt's last significant phase of independence under native rulers.\", \"much of egypt's ancient history was a mystery until egyptian hieroglyphs were deciphered with the discovery and help of the rosetta stone.\", 'christianity reached egypt relatively early in the evangelist period of the first century traditionally credited to mark the evangelist.', \"the death of cleopatra ended the nominal independence of egypt, resulting in egypt's becoming one of the provinces of the roman empire.\", \"the death of cleopatra ended the nominal independence of egypt, resulting in egypt's becoming one of the provinces of the roman empire.\", \"he led egypt in the yom kippur war of to regain egypt's sinai peninsula, which israel had occupied since the sixday war of .\", \"he led egypt in the yom kippur war of to regain egypt's sinai peninsula, which israel had occupied since the sixday war of .\", 'the weakening of the economic system combined with the effects of the plague left egypt vulnerable to foreign invasion.', 'climate changes andor overgrazing around because began to desiccate the pastoral lands of egypt, forming the sahara.', 'after the end of world war i and following the egyptian revolution of , the kingdom of egypt was established.', 'the badari culture and the successor naqada series are generally regarded as precursors to dynastic egypt.', 'during the neolithic era, several predynastic cultures developed independently in upper and lower egypt.', 'starting in , egypt became a nominally autonomous tributary state called the khedivate of egypt.', 'starting in , egypt became a nominally autonomous tributary state called the khedivate of egypt.', 'shipping from egypt regularly reached india and ethiopia among other international destinations.', 'when they defeated the byzantine armies in egypt, the arabs brought sunni islam to the country.', 'nevertheless, hellenistic culture continued to thrive in egypt well after the muslim conquest.', 'alexandria, egypt and antioch, syria quickly became the leading centers of christianity.', 'however, khedivate egypt fell under british control in following the angloegyptian war.', 'in , ottoman sultan selim i captured cairo, absorbing egypt into the ottoman empire.', 'egypt remained entirely ottoman until , except during french occupation from to .', 'by the late th century, egypt linked the red sea, india, malaya, and east indies.', 'the brief french invasion of egypt led by napoleon bonaparte began in .', 'the midthcentury black death killed about of the population of egypt.', 'in the sixth century because, the achaemenid empire conquered egypt.', 'this later led to the egypt–israel peace treaty.', 'egypt suffered six famines between and .'], 'culture': ['the greek and coptic languages and cultures went into a steep decline in favor of arabic culture though coptic managed to last as a spoken language until the th century and remains a liturgical language today.', \"the native egyptiancoptic culture continued to exist as well the coptic language itself was egypt's most widely spoken language until at least the th century.\", 'in the th millennium because, a culture of huntergatherers and fishermen was replaced by a graingrinding culture.', 'in the th millennium because, a culture of huntergatherers and fishermen was replaced by a graingrinding culture.', 'the badari culture and the successor naqada series are generally regarded as precursors to dynastic egypt.', 'nevertheless, hellenistic culture continued to thrive in egypt well after the muslim conquest.', 'alexandria became the capital city and a center of greek culture and trade.', 'by about because, a neolithic culture rooted in the nile valley.'], 'native egyptian rule': ['predominantly native egyptian rule lasted until the conquest by the achaemenid empire in the sixth century because.'], 'native egyptian populace': ['to gain recognition by the native egyptian populace, they named themselves as the successors to the pharaohs.'], 'ancient egyptian civilization': ['ancient egyptian civilization coalesced around because with the political unification of upper and lower egypt under the first king of the first dynasty, narmer.']}\n"
     ]
    }
   ]
  },
  {
   "cell_type": "markdown",
   "source": [
    "**T5 Question Generating Model**"
   ],
   "metadata": {
    "id": "iKBSSUK1eRB8",
    "pycharm": {
     "name": "#%% md\n"
    }
   }
  },
  {
   "cell_type": "code",
   "source": [
    "\n",
    "doc=[]\n",
    "for filtered_keys in keyword_sentence_mapping:\n",
    "  for sentences in keyword_sentence_mapping[filtered_keys]:\n",
    "    x={'content':sentences}\n",
    "    doc.append(x)\n",
    "print(doc)\n",
    "\n"
   ],
   "metadata": {
    "id": "tFRvty-jtt2i",
    "colab": {
     "base_uri": "https://localhost:8080/"
    },
    "outputId": "c8b5e34b-0a4b-49ad-b712-7c06d457544b",
    "pycharm": {
     "name": "#%%\n"
    }
   },
   "execution_count": 118,
   "outputs": [
    {
     "output_type": "stream",
     "name": "stdout",
     "text": [
      "[{'content': 'new kingdom, third intermediate period and late period main articles new kingdom of egypt, third intermediate period of egypt, and late period of ancient egypt the new kingdom c. – because began with the eighteenth dynasty, marking the rise of egypt as an international power that expanded during its greatest extension to an empire from syria to upper nubia.'}, {'content': 'new kingdom, third intermediate period and late period main articles new kingdom of egypt, third intermediate period of egypt, and late period of ancient egypt the new kingdom c. – because began with the eighteenth dynasty, marking the rise of egypt as an international power that expanded during its greatest extension to an empire from syria to upper nubia.'}, {'content': 'new kingdom, third intermediate period and late period main articles new kingdom of egypt, third intermediate period of egypt, and late period of ancient egypt the new kingdom c. – because began with the eighteenth dynasty, marking the rise of egypt as an international power that expanded during its greatest extension to an empire from syria to upper nubia.'}, {'content': 'new kingdom, third intermediate period and late period main articles new kingdom of egypt, third intermediate period of egypt, and late period of ancient egypt the new kingdom c. – because began with the eighteenth dynasty, marking the rise of egypt as an international power that expanded during its greatest extension to an empire from syria to upper nubia.'}, {'content': 'after an interval of independence, during which three indigenous dynasties reigned the th, th and th dynasty, artaxerxes iii – because reconquered the nile valley for a brief second period – because, which is called the thirtyfirst dynasty of egypt, thus starting another period of pharaohs of persian origin.'}, {'content': 'sasanian egypt known in middle persian sources as agiptus refers to the brief rule of egypt and parts of libya by the sasanian empire, which lasted from to , until the sasanian rebel shahrbaraz made an alliance with the byzantine emperor heraclius and had control over egypt returned to him.'}, {'content': 'sasanian egypt known in middle persian sources as agiptus refers to the brief rule of egypt and parts of libya by the sasanian empire, which lasted from to , until the sasanian rebel shahrbaraz made an alliance with the byzantine emperor heraclius and had control over egypt returned to him.'}, {'content': 'sasanian egypt known in middle persian sources as agiptus refers to the brief rule of egypt and parts of libya by the sasanian empire, which lasted from to , until the sasanian rebel shahrbaraz made an alliance with the byzantine emperor heraclius and had control over egypt returned to him.'}, {'content': \"in because, macedonian ruler alexander the great conquered egypt as he toppled the achaemenids and established the shortlived macedonian empire, which gave rise to the hellenistic ptolemaic kingdom, founded in because by one of alexander's former generals, ptolemy i soter.\"}, {'content': 'after the muslim conquest of egypt, parts of egypt became provinces of successive caliphates and other muslim dynasties rashidun caliphate , umayyad caliphate –, abbasid caliphate –, fatimid caliphate –, ayyubid sultanate –, and the mamluk sultanate –.'}, {'content': 'after the muslim conquest of egypt, parts of egypt became provinces of successive caliphates and other muslim dynasties rashidun caliphate , umayyad caliphate –, abbasid caliphate –, fatimid caliphate –, ayyubid sultanate –, and the mamluk sultanate –.'}, {'content': 'the modern republic of egypt was founded in , and with the complete withdrawal of british forces from the suez canal in , president gamal abdel nasser president from to introduced many reforms and created the shortlived united arab republic with syria.'}, {'content': \"his successor, anwar sadat president from to changed egypt's trajectory, departing from many of the political, and economic tenets of nasserism, reinstituting a multiparty system and launching the infitah economic policy.\"}, {'content': 'the entire twentyseventh dynasty of egypt, from because to because, save for petubastis iii and possibly psammetichus iv, was an entirely persianruled period, with the achaemenid kings being granted the title of pharaoh.'}, {'content': \"the history of egypt has been long and wealthy, due to the flow of the nile river with its fertile banks and delta, as well as the accomplishments of egypt's native inhabitants and outside influence.\"}, {'content': \"the history of egypt has been long and wealthy, due to the flow of the nile river with its fertile banks and delta, as well as the accomplishments of egypt's native inhabitants and outside influence.\"}, {'content': 'the byzantines were able to regain control of the country after a brief persian invasion early in the th century, until –, when egypt was invaded and conquered by the arab islamic empire.'}, {'content': 'the thirtyfirst dynasty of egypt, also known as the second egyptian satrapy, was effectively a shortliving province of the achaemenid empire between because to because.'}, {'content': \"diocletian's reign marked the transition from the classical roman to the late antiquebyzantine era in egypt, when a great number of egyptian christians were persecuted.\"}, {'content': 'muslim rulers nominated by the islamic caliphate remained in control of egypt for the next six centuries, with cairo as the seat of the caliphate under the fatimids.'}, {'content': \"egypt quickly became the empire's breadbasket supplying the greater portion of the empire's grain in addition to flax, papyrus, glass and many other finished goods.\"}, {'content': 'roman rule in egypt including byzantine lasted from because to ad, with a brief interlude of control by the sasanian empire between and , known as sasanian egypt.'}, {'content': 'roman rule in egypt including byzantine lasted from because to ad, with a brief interlude of control by the sasanian empire between and , known as sasanian egypt.'}, {'content': 'ancient egyptian civilization coalesced around because with the political unification of upper and lower egypt under the first king of the first dynasty, narmer.'}, {'content': \"the native egyptiancoptic culture continued to exist as well the coptic language itself was egypt's most widely spoken language until at least the th century.\"}, {'content': 'the final loss of egypt was of incalculable significance to the byzantine empire, which had relied on egypt for many agricultural and manufactured goods.'}, {'content': 'the final loss of egypt was of incalculable significance to the byzantine empire, which had relied on egypt for many agricultural and manufactured goods.'}, {'content': 'the mamluks continued to govern the country until the conquest of egypt by the ottoman turks in , after which it became a province of the ottoman empire.'}, {'content': \"amyrtaeus' successful rebellion ended the first achaemenid rule and inaugurated egypt's last significant phase of independence under native rulers.\"}, {'content': \"much of egypt's ancient history was a mystery until egyptian hieroglyphs were deciphered with the discovery and help of the rosetta stone.\"}, {'content': 'christianity reached egypt relatively early in the evangelist period of the first century traditionally credited to mark the evangelist.'}, {'content': \"the death of cleopatra ended the nominal independence of egypt, resulting in egypt's becoming one of the provinces of the roman empire.\"}, {'content': \"the death of cleopatra ended the nominal independence of egypt, resulting in egypt's becoming one of the provinces of the roman empire.\"}, {'content': \"he led egypt in the yom kippur war of to regain egypt's sinai peninsula, which israel had occupied since the sixday war of .\"}, {'content': \"he led egypt in the yom kippur war of to regain egypt's sinai peninsula, which israel had occupied since the sixday war of .\"}, {'content': 'the weakening of the economic system combined with the effects of the plague left egypt vulnerable to foreign invasion.'}, {'content': 'climate changes andor overgrazing around because began to desiccate the pastoral lands of egypt, forming the sahara.'}, {'content': 'after the end of world war i and following the egyptian revolution of , the kingdom of egypt was established.'}, {'content': 'the badari culture and the successor naqada series are generally regarded as precursors to dynastic egypt.'}, {'content': 'during the neolithic era, several predynastic cultures developed independently in upper and lower egypt.'}, {'content': 'starting in , egypt became a nominally autonomous tributary state called the khedivate of egypt.'}, {'content': 'starting in , egypt became a nominally autonomous tributary state called the khedivate of egypt.'}, {'content': 'shipping from egypt regularly reached india and ethiopia among other international destinations.'}, {'content': 'when they defeated the byzantine armies in egypt, the arabs brought sunni islam to the country.'}, {'content': 'nevertheless, hellenistic culture continued to thrive in egypt well after the muslim conquest.'}, {'content': 'alexandria, egypt and antioch, syria quickly became the leading centers of christianity.'}, {'content': 'however, khedivate egypt fell under british control in following the angloegyptian war.'}, {'content': 'in , ottoman sultan selim i captured cairo, absorbing egypt into the ottoman empire.'}, {'content': 'egypt remained entirely ottoman until , except during french occupation from to .'}, {'content': 'by the late th century, egypt linked the red sea, india, malaya, and east indies.'}, {'content': 'the brief french invasion of egypt led by napoleon bonaparte began in .'}, {'content': 'the midthcentury black death killed about of the population of egypt.'}, {'content': 'in the sixth century because, the achaemenid empire conquered egypt.'}, {'content': 'this later led to the egypt–israel peace treaty.'}, {'content': 'egypt suffered six famines between and .'}, {'content': 'the greek and coptic languages and cultures went into a steep decline in favor of arabic culture though coptic managed to last as a spoken language until the th century and remains a liturgical language today.'}, {'content': \"the native egyptiancoptic culture continued to exist as well the coptic language itself was egypt's most widely spoken language until at least the th century.\"}, {'content': 'in the th millennium because, a culture of huntergatherers and fishermen was replaced by a graingrinding culture.'}, {'content': 'in the th millennium because, a culture of huntergatherers and fishermen was replaced by a graingrinding culture.'}, {'content': 'the badari culture and the successor naqada series are generally regarded as precursors to dynastic egypt.'}, {'content': 'nevertheless, hellenistic culture continued to thrive in egypt well after the muslim conquest.'}, {'content': 'alexandria became the capital city and a center of greek culture and trade.'}, {'content': 'by about because, a neolithic culture rooted in the nile valley.'}, {'content': 'predominantly native egyptian rule lasted until the conquest by the achaemenid empire in the sixth century because.'}, {'content': 'to gain recognition by the native egyptian populace, they named themselves as the successors to the pharaohs.'}, {'content': 'ancient egyptian civilization coalesced around because with the political unification of upper and lower egypt under the first king of the first dynasty, narmer.'}]\n"
     ]
    }
   ]
  },
  {
   "cell_type": "code",
   "metadata": {
    "id": "aweZgxXBDsOQ",
    "colab": {
     "base_uri": "https://localhost:8080/"
    },
    "outputId": "87c6cdf9-0aa1-4418-b5cd-461861655616",
    "pycharm": {
     "name": "#%%\n"
    }
   },
   "source": [
    "# !pip install -U transformers==3.0.0"
   ],
   "execution_count": 119,
   "outputs": [
    {
     "output_type": "stream",
     "name": "stdout",
     "text": [
      "Looking in indexes: https://pypi.org/simple, https://us-python.pkg.dev/colab-wheels/public/simple/\n",
      "Collecting transformers==3.0.0\n",
      "  Using cached transformers-3.0.0-py3-none-any.whl (754 kB)\n",
      "Requirement already satisfied: requests in /usr/local/lib/python3.7/dist-packages (from transformers==3.0.0) (2.28.1)\n",
      "Requirement already satisfied: sacremoses in /usr/local/lib/python3.7/dist-packages (from transformers==3.0.0) (0.0.53)\n",
      "Collecting tokenizers==0.8.0-rc4\n",
      "  Using cached tokenizers-0.8.0rc4-cp37-cp37m-manylinux1_x86_64.whl (3.0 MB)\n",
      "Requirement already satisfied: packaging in /usr/local/lib/python3.7/dist-packages (from transformers==3.0.0) (21.3)\n",
      "Requirement already satisfied: numpy in /usr/local/lib/python3.7/dist-packages (from transformers==3.0.0) (1.21.6)\n",
      "Requirement already satisfied: tqdm>=4.27 in /usr/local/lib/python3.7/dist-packages (from transformers==3.0.0) (4.64.1)\n",
      "Requirement already satisfied: filelock in /usr/local/lib/python3.7/dist-packages (from transformers==3.0.0) (3.8.0)\n",
      "Requirement already satisfied: sentencepiece in /usr/local/lib/python3.7/dist-packages (from transformers==3.0.0) (0.1.95)\n",
      "Requirement already satisfied: regex!=2019.12.17 in /usr/local/lib/python3.7/dist-packages (from transformers==3.0.0) (2022.6.2)\n",
      "Requirement already satisfied: pyparsing!=3.0.5,>=2.0.2 in /usr/local/lib/python3.7/dist-packages (from packaging->transformers==3.0.0) (3.0.9)\n",
      "Requirement already satisfied: charset-normalizer<3,>=2 in /usr/local/lib/python3.7/dist-packages (from requests->transformers==3.0.0) (2.1.1)\n",
      "Requirement already satisfied: certifi>=2017.4.17 in /usr/local/lib/python3.7/dist-packages (from requests->transformers==3.0.0) (2022.9.24)\n",
      "Requirement already satisfied: idna<4,>=2.5 in /usr/local/lib/python3.7/dist-packages (from requests->transformers==3.0.0) (2.10)\n",
      "Requirement already satisfied: urllib3<1.27,>=1.21.1 in /usr/local/lib/python3.7/dist-packages (from requests->transformers==3.0.0) (1.26.12)\n",
      "Requirement already satisfied: joblib in /usr/local/lib/python3.7/dist-packages (from sacremoses->transformers==3.0.0) (1.2.0)\n",
      "Requirement already satisfied: six in /usr/local/lib/python3.7/dist-packages (from sacremoses->transformers==3.0.0) (1.15.0)\n",
      "Requirement already satisfied: click in /usr/local/lib/python3.7/dist-packages (from sacremoses->transformers==3.0.0) (7.1.2)\n",
      "Installing collected packages: tokenizers, transformers\n",
      "  Attempting uninstall: tokenizers\n",
      "    Found existing installation: tokenizers 0.12.1\n",
      "    Uninstalling tokenizers-0.12.1:\n",
      "      Successfully uninstalled tokenizers-0.12.1\n",
      "  Attempting uninstall: transformers\n",
      "    Found existing installation: transformers 4.22.2\n",
      "    Uninstalling transformers-4.22.2:\n",
      "      Successfully uninstalled transformers-4.22.2\n",
      "\u001B[31mERROR: pip's dependency resolver does not currently take into account all the packages that are installed. This behaviour is the source of the following dependency conflicts.\n",
      "sentence-transformers 2.2.2 requires transformers<5.0.0,>=4.6.0, but you have transformers 3.0.0 which is incompatible.\n",
      "flair 0.11.3 requires transformers>=4.0.0, but you have transformers 3.0.0 which is incompatible.\n",
      "farm-haystack 1.10.0rc0 requires transformers==4.21.2, but you have transformers 3.0.0 which is incompatible.\u001B[0m\u001B[31m\n",
      "\u001B[0mSuccessfully installed tokenizers-0.8.0rc4 transformers-3.0.0\n",
      "\u001B[33mWARNING: Running pip as the 'root' user can result in broken permissions and conflicting behaviour with the system package manager. It is recommended to use a virtual environment instead: https://pip.pypa.io/warnings/venv\u001B[0m\u001B[33m\n",
      "\u001B[0m"
     ]
    }
   ]
  },
  {
   "cell_type": "code",
   "metadata": {
    "id": "4FARi6xuQ4IZ",
    "colab": {
     "base_uri": "https://localhost:8080/"
    },
    "outputId": "407a528f-fca3-4947-c0d6-591e1a69569c",
    "pycharm": {
     "name": "#%%\n"
    }
   },
   "source": [
    "!python -m nltk.downloader punkt"
   ],
   "execution_count": 120,
   "outputs": [
    {
     "output_type": "stream",
     "name": "stdout",
     "text": [
      "/usr/lib/python3.7/runpy.py:125: RuntimeWarning: 'nltk.downloader' found in sys.modules after import of package 'nltk', but prior to execution of 'nltk.downloader'; this may result in unpredictable behaviour\n",
      "  warn(RuntimeWarning(msg))\n",
      "[nltk_data] Downloading package punkt to /root/nltk_data...\n",
      "[nltk_data]   Package punkt is already up-to-date!\n"
     ]
    }
   ]
  },
  {
   "cell_type": "code",
   "metadata": {
    "id": "QFldiKn8EIp5",
    "colab": {
     "base_uri": "https://localhost:8080/"
    },
    "outputId": "3b7b7f35-abb6-4edd-e1bf-09b442e41378",
    "pycharm": {
     "name": "#%%\n"
    }
   },
   "source": [
    "!git clone https://github.com/patil-suraj/question_generation.git"
   ],
   "execution_count": 121,
   "outputs": [
    {
     "output_type": "stream",
     "name": "stdout",
     "text": [
      "fatal: destination path 'question_generation' already exists and is not an empty directory.\n"
     ]
    }
   ]
  },
  {
   "cell_type": "code",
   "source": [
    "%cd question_generation"
   ],
   "metadata": {
    "id": "SCsWX1UAtJN4",
    "colab": {
     "base_uri": "https://localhost:8080/"
    },
    "outputId": "b0eca6d2-7e3d-4c7e-f20c-08074c8e6e11",
    "pycharm": {
     "name": "#%%\n"
    }
   },
   "execution_count": 122,
   "outputs": [
    {
     "output_type": "stream",
     "name": "stdout",
     "text": [
      "/content/question_generation/question_generator/question_generation\n"
     ]
    }
   ]
  },
  {
   "cell_type": "code",
   "metadata": {
    "id": "UxoSS2_WEMvx",
    "pycharm": {
     "name": "#%%\n"
    }
   },
   "source": [
    "from pipelines import pipeline"
   ],
   "execution_count": 123,
   "outputs": []
  },
  {
   "cell_type": "code",
   "metadata": {
    "id": "SFSZiIc0StHY",
    "pycharm": {
     "name": "#%%\n"
    }
   },
   "source": [
    "nlp = pipeline(\"question-generation\")"
   ],
   "execution_count": 124,
   "outputs": []
  },
  {
   "cell_type": "code",
   "source": [
    "text"
   ],
   "metadata": {
    "colab": {
     "base_uri": "https://localhost:8080/",
     "height": 140
    },
    "id": "TWj2zHEGtcas",
    "outputId": "d395bb4d-c9dc-4175-e429-c02728825c5d",
    "pycharm": {
     "name": "#%%\n"
    }
   },
   "execution_count": 125,
   "outputs": [
    {
     "output_type": "execute_result",
     "data": {
      "text/plain": [
       "\"the history of egypt has been long and wealthy, due to the flow of the nile river with its fertile banks and delta, as well as the accomplishments of egypt's native inhabitants and outside influence. much of egypt's ancient history was a mystery until egyptian hieroglyphs were deciphered with the discovery and help of the rosetta stone. among the seven wonders of the ancient world is the great pyramid of giza. ancient egyptian civilization coalesced around because with the political unification of upper and lower egypt under the first king of the first dynasty, narmer. predominantly native egyptian rule lasted until the conquest by the achaemenid empire in the sixth century because. in because, macedonian ruler alexander the great conquered egypt as he toppled the achaemenids and established the shortlived macedonian empire, which gave rise to the hellenistic ptolemaic kingdom, founded in because by one of alexander's former generals, ptolemy i soter. the ptolemies had to fight native rebellions and were involved in foreign and civil wars that led to the decline of the kingdom and its final annexation by rome. the death of cleopatra ended the nominal independence of egypt, resulting in egypt's becoming one of the provinces of the roman empire. roman rule in egypt including byzantine lasted from because to ad, with a brief interlude of control by the sasanian empire between and , known as sasanian egypt. after the muslim conquest of egypt, parts of egypt became provinces of successive caliphates and other muslim dynasties rashidun caliphate , umayyad caliphate –, abbasid caliphate –, fatimid caliphate –, ayyubid sultanate –, and the mamluk sultanate –. in , ottoman sultan selim i captured cairo, absorbing egypt into the ottoman empire. egypt remained entirely ottoman until , except during french occupation from to . starting in , egypt became a nominally autonomous tributary state called the khedivate of egypt. however, khedivate egypt fell under british control in following the angloegyptian war. after the end of world war i and following the egyptian revolution of , the kingdom of egypt was established. while a de jure independent state, the united kingdom retained control over foreign affairs, defense, and other matters. british occupation lasted until , with the angloegyptian agreement of . the modern republic of egypt was founded in , and with the complete withdrawal of british forces from the suez canal in , president gamal abdel nasser president from to introduced many reforms and created the shortlived united arab republic with syria. his terms also saw the sixday war and the creation of the international nonaligned movement. his successor, anwar sadat president from to changed egypt's trajectory, departing from many of the political, and economic tenets of nasserism, reinstituting a multiparty system and launching the infitah economic policy. he led egypt in the yom kippur war of to regain egypt's sinai peninsula, which israel had occupied since the sixday war of . this later led to the egypt–israel peace treaty. recent egyptian history has been dominated by events following nearly thirty years of rule by the former president hosni mubarak. the egyptian revolution of deposed mubarak and resulted in the first democratically elected president in egyptian history, mohamed morsi. unrest after the revolution and related disputes led to the egyptian coup d'état, morsi's imprisonment and the election of abdel fattah alsisi as president in . there is evidence of petroglyphs along the nile terraces and in desert oases. in the th millennium because, a culture of huntergatherers and fishermen was replaced by a graingrinding culture. climate changes andor overgrazing around because began to desiccate the pastoral lands of egypt, forming the sahara. early tribal peoples migrated to the nile river, where they developed a settled agricultural economy and more centralized society. by about because, a neolithic culture rooted in the nile valley. during the neolithic era, several predynastic cultures developed independently in upper and lower egypt. the badari culture and the successor naqada series are generally regarded as precursors to dynastic egypt. the earliest known lower egyptian site, merimda, predates the badarian by about seven hundred years. contemporaneous lower egyptian communities coexisted with their southern counterparts for more than two thousand years, remaining culturally distinct, but maintaining frequent contact through trade. the earliest known evidence of egyptian hieroglyphic inscriptions appeared during the predynastic period on naqada iii pottery vessels, dated to about because. new kingdom, third intermediate period and late period main articles new kingdom of egypt, third intermediate period of egypt, and late period of ancient egypt the new kingdom c. – because began with the eighteenth dynasty, marking the rise of egypt as an international power that expanded during its greatest extension to an empire from syria to upper nubia. this period is noted for some of the most well known pharaohs, including hatshepsut, thutmose iii, akhenaten and his wife nefertiti, tutankhamun and ramesses ii. the first historically attested expression of monotheism came during this period as atenism, although somewho consider atenism to be a form of monolatry rather than of monotheism. frequent contacts with other nations brought new ideas to the new kingdom. the country was later ruled and invaded by libyans, nubians and assyrians, but native egyptians eventually drove them out and regained control of their country. in the sixth century because, the achaemenid empire conquered egypt. the entire twentyseventh dynasty of egypt, from because to because, save for petubastis iii and possibly psammetichus iv, was an entirely persianruled period, with the achaemenid kings being granted the title of pharaoh. amyrtaeus' successful rebellion ended the first achaemenid rule and inaugurated egypt's last significant phase of independence under native rulers. the thirtieth dynasty was the last native ruling dynasty during the pharaonic epoch. it fell to the persians again in because after the last native pharaoh, king nectanebo ii, was defeated in battle. the thirtyfirst dynasty of egypt, also known as the second egyptian satrapy, was effectively a shortliving province of the achaemenid empire between because to because. after an interval of independence, during which three indigenous dynasties reigned the th, th and th dynasty, artaxerxes iii – because reconquered the nile valley for a brief second period – because, which is called the thirtyfirst dynasty of egypt, thus starting another period of pharaohs of persian origin. a team led by johannes krause managed the first reliable sequencing of the genomes of mummified individuals in . whilst not conclusive, because of the nonexhaustive time frame and restricted location that the mummies represent, their study nevertheless showed that these ancient egyptians closely resembled ancient and modern near eastern populations, especially those in the levant, and had almost no dna from subsaharan africa. what is more, the genetics of the mummies remained remarkably consistent even as different powers—including nubians, greeks, and romans—conquered the empire. the ptolemaic kingdom was a powerful hellenistic state extending from southern syria in the east, to cyrene to the west, and south to the frontier with nubia. alexandria became the capital city and a center of greek culture and trade. to gain recognition by the native egyptian populace, they named themselves as the successors to the pharaohs. the later ptolemies took on egyptian traditions, had themselves portrayed on public monuments in egyptian style and dress, and participated in egyptian religious life. the last ruler from the ptolemaic dynasty was cleopatra, who committed suicide following the burial of her lover mark antony, who had died in her arms from a selfinflicted stab wound after augustus had captured alexandria and her mercenary forces had fled. the ptolemies faced rebellions of native egyptians, often caused by an unwanted regime, and were involved in foreign and civil wars that led to the decline of the kingdom and its annexation by rome. nevertheless, hellenistic culture continued to thrive in egypt well after the muslim conquest. the native egyptiancoptic culture continued to exist as well the coptic language itself was egypt's most widely spoken language until at least the th century. egypt quickly became the empire's breadbasket supplying the greater portion of the empire's grain in addition to flax, papyrus, glass and many other finished goods. the city of alexandria became a key trading outpost for the roman empire by some accounts, the most important for a time. shipping from egypt regularly reached india and ethiopia among other international destinations. it was also a leading perhaps the leading scientific and technological center of the empire. scholars such as ptolemy, hypatia, and heron broke new ground in astronomy, mathematics, and other disciplines. culturally, the city of alexandria at times rivaled rome in its importance. christianity reached egypt relatively early in the evangelist period of the first century traditionally credited to mark the evangelist. alexandria, egypt and antioch, syria quickly became the leading centers of christianity. diocletian's reign marked the transition from the classical roman to the late antiquebyzantine era in egypt, when a great number of egyptian christians were persecuted. the new testament had by then been translated into egyptian. after the council of chalcedon in ad , a distinct egyptian coptic church was firmly established. sasanian egypt known in middle persian sources as agiptus refers to the brief rule of egypt and parts of libya by the sasanian empire, which lasted from to , until the sasanian rebel shahrbaraz made an alliance with the byzantine emperor heraclius and had control over egypt returned to him. the byzantines were able to regain control of the country after a brief persian invasion early in the th century, until –, when egypt was invaded and conquered by the arab islamic empire. the final loss of egypt was of incalculable significance to the byzantine empire, which had relied on egypt for many agricultural and manufactured goods. when they defeated the byzantine armies in egypt, the arabs brought sunni islam to the country. early in this period, egyptians began to blend their new faith with their christian traditions as well as other indigenous beliefs and practices, leading to various sufi orders that have flourished to this day. these earlier rites had survived the period of coptic christianity. muslim rulers nominated by the islamic caliphate remained in control of egypt for the next six centuries, with cairo as the seat of the caliphate under the fatimids. with the end of the kurdish ayyubid dynasty, the mamluks, a turcocircassian military caste, took control about ad . by the late th century, egypt linked the red sea, india, malaya, and east indies. the greek and coptic languages and cultures went into a steep decline in favor of arabic culture though coptic managed to last as a spoken language until the th century and remains a liturgical language today. the mamluks continued to govern the country until the conquest of egypt by the ottoman turks in , after which it became a province of the ottoman empire. the midthcentury black death killed about of the population of egypt. fter the th century, the ottoman invasion pushed the egyptian system into decline. the defensive militarization damaged its civil society and economic institutions. the weakening of the economic system combined with the effects of the plague left egypt vulnerable to foreign invasion. portuguese traders took over their trade. egypt suffered six famines between and . the famine cost it roughly onesixth of its population. the brief french invasion of egypt led by napoleon bonaparte began in . the campaign eventually led to the discovery of the rosetta stone, creating the field of egyptology. despite early victories and an initially successful expedition into syria, napoleon and his armée d'orient were eventually defeated and forced to withdraw, especially after suffering the defeat of the supporting french fleet at the battle of the nile.\""
      ],
      "application/vnd.google.colaboratory.intrinsic+json": {
       "type": "string"
      }
     },
     "metadata": {},
     "execution_count": 125
    }
   ]
  },
  {
   "cell_type": "code",
   "source": [
    "\n",
    "nlp(text)\n"
   ],
   "metadata": {
    "id": "m13ltmI4eQQB",
    "colab": {
     "base_uri": "https://localhost:8080/"
    },
    "outputId": "64e36dcf-6427-4530-bdcb-178a3269e08f",
    "pycharm": {
     "name": "#%%\n"
    }
   },
   "execution_count": 126,
   "outputs": [
    {
     "output_type": "stream",
     "name": "stderr",
     "text": [
      "/usr/local/lib/python3.7/dist-packages/transformers/modeling_utils.py:1500: UserWarning: __floordiv__ is deprecated, and its behavior will change in a future version of pytorch. It currently rounds toward 0 (like the 'trunc' function NOT 'floor'). This results in incorrect rounding for negative values. To keep the current behavior, use torch.div(a, b, rounding_mode='trunc'), or for actual floor division, use torch.div(a, b, rounding_mode='floor').\n",
      "  beam_id = beam_token_id // vocab_size\n"
     ]
    },
    {
     "output_type": "execute_result",
     "data": {
      "text/plain": [
       "[{'answer': 'rosetta stone',\n",
       "  'question': 'What did egyptian hieroglyphs be deciphered with?'},\n",
       " {'answer': 'the great pyramid of giza',\n",
       "  'question': 'What is one of the seven wonders of the ancient world?'},\n",
       " {'answer': 'narmer',\n",
       "  'question': 'Who was the first king of the first dynasty?'},\n",
       " {'answer': 'sixth century',\n",
       "  'question': 'When did the achaemenid empire conquer egypt?'},\n",
       " {'answer': 'macedonian ruler alexander the great conquered egypt',\n",
       "  'question': 'Who established the shortlived macedonian empire?'},\n",
       " {'answer': 'ptolemies',\n",
       "  'question': 'Who had to fight native rebellions and were involved in foreign and civil wars that led to the decline of the kingdom and its final annexation'},\n",
       " {'answer': 'death of cleopatra',\n",
       "  'question': 'What resulted in egypt becoming one of the provinces of the roman empire?'},\n",
       " {'answer': 'byzantine',\n",
       "  'question': 'What type of rule in egypt lasted from because to ad?'},\n",
       " {'answer': 'muslim conquest of egypt',\n",
       "  'question': 'After what conquest did parts of egypt become provinces of successive caliphates and other muslim dynasties'}]"
      ]
     },
     "metadata": {},
     "execution_count": 126
    }
   ]
  },
  {
   "cell_type": "code",
   "source": [
    "!git clone https://github.com/amontgomerie/question_generator\n",
    "%cd question_generator\n",
    "!pip install -r requirements.txt -qq\n",
    "!python run_qg.py --text_file articles/twitter_hack.txt"
   ],
   "metadata": {
    "id": "MuGrshi9xDW2",
    "colab": {
     "base_uri": "https://localhost:8080/"
    },
    "outputId": "d2890d4e-36ca-4c53-97ec-35ed31b8102d",
    "pycharm": {
     "name": "#%%\n"
    }
   },
   "execution_count": 127,
   "outputs": [
    {
     "output_type": "stream",
     "name": "stdout",
     "text": [
      "Cloning into 'question_generator'...\n",
      "remote: Enumerating objects: 252, done.\u001B[K\n",
      "remote: Counting objects: 100% (64/64), done.\u001B[K\n",
      "remote: Compressing objects: 100% (25/25), done.\u001B[K\n",
      "remote: Total 252 (delta 42), reused 40 (delta 39), pack-reused 188\u001B[K\n",
      "Receiving objects: 100% (252/252), 114.54 KiB | 19.09 MiB/s, done.\n",
      "Resolving deltas: 100% (129/129), done.\n",
      "/content/question_generation/question_generator/question_generation/question_generator\n",
      "\u001B[2K     \u001B[90m━━━━━━━━━━━━━━━━━━━━━━━━━━━━━━━━━━━━━━━━\u001B[0m \u001B[32m12.0/12.0 MB\u001B[0m \u001B[31m4.5 MB/s\u001B[0m eta \u001B[36m0:00:00\u001B[0m\n",
      "\u001B[?25h  Preparing metadata (setup.py) ... \u001B[?25l\u001B[?25hdone\n",
      "\u001B[31mERROR: Ignored the following versions that require a different python version: 1.22.0 Requires-Python >=3.8; 1.22.0rc1 Requires-Python >=3.8; 1.22.0rc2 Requires-Python >=3.8; 1.22.0rc3 Requires-Python >=3.8; 1.22.1 Requires-Python >=3.8; 1.22.2 Requires-Python >=3.8; 1.22.3 Requires-Python >=3.8; 1.22.4 Requires-Python >=3.8; 1.23.0 Requires-Python >=3.8; 1.23.0rc1 Requires-Python >=3.8; 1.23.0rc2 Requires-Python >=3.8; 1.23.0rc3 Requires-Python >=3.8; 1.23.1 Requires-Python >=3.8; 1.23.2 Requires-Python >=3.8; 1.23.3 Requires-Python >=3.8\u001B[0m\u001B[31m\n",
      "\u001B[0m\u001B[31mERROR: Could not find a version that satisfies the requirement numpy==1.22.0 (from versions: 1.3.0, 1.4.1, 1.5.0, 1.5.1, 1.6.0, 1.6.1, 1.6.2, 1.7.0, 1.7.1, 1.7.2, 1.8.0, 1.8.1, 1.8.2, 1.9.0, 1.9.1, 1.9.2, 1.9.3, 1.10.0.post2, 1.10.1, 1.10.2, 1.10.4, 1.11.0, 1.11.1, 1.11.2, 1.11.3, 1.12.0, 1.12.1, 1.13.0rc1, 1.13.0rc2, 1.13.0, 1.13.1, 1.13.3, 1.14.0rc1, 1.14.0, 1.14.1, 1.14.2, 1.14.3, 1.14.4, 1.14.5, 1.14.6, 1.15.0rc1, 1.15.0rc2, 1.15.0, 1.15.1, 1.15.2, 1.15.3, 1.15.4, 1.16.0rc1, 1.16.0rc2, 1.16.0, 1.16.1, 1.16.2, 1.16.3, 1.16.4, 1.16.5, 1.16.6, 1.17.0rc1, 1.17.0rc2, 1.17.0, 1.17.1, 1.17.2, 1.17.3, 1.17.4, 1.17.5, 1.18.0rc1, 1.18.0, 1.18.1, 1.18.2, 1.18.3, 1.18.4, 1.18.5, 1.19.0rc1, 1.19.0rc2, 1.19.0, 1.19.1, 1.19.2, 1.19.3, 1.19.4, 1.19.5, 1.20.0rc1, 1.20.0rc2, 1.20.0, 1.20.1, 1.20.2, 1.20.3, 1.21.0rc1, 1.21.0rc2, 1.21.0, 1.21.1, 1.21.2, 1.21.3, 1.21.4, 1.21.5, 1.21.6)\u001B[0m\u001B[31m\n",
      "\u001B[0m\u001B[31mERROR: No matching distribution found for numpy==1.22.0\u001B[0m\u001B[31m\n",
      "\u001B[0mGenerating questions...\n",
      "\n",
      "Evaluating QA pairs...\n",
      "\n",
      "1) Q: Who said this was the worst hack of a major social media platform yet?\n",
      "   A: Dmitri Alperovitch, who co-founded cyber-security company CrowdStrike, told Reuters news agency: \"This appears to be the worst hack of a major social media platform yet.\n",
      "\n",
      "2) Q: What did Twitter say about the hack?\n",
      "   A: Twitter said the hackers had targeted its employees \"with access to internal systems and tools\".\n",
      "\n",
      "3) Q: Who wrote to Twitter asking if he was vulnerable?\n",
      "   A: Republican Senator Josh Hawley has written to the company asking if President Trump's account had been vulnerable.\n",
      "\n",
      "4) Q: What did Twitter say about the hack?\n",
      "   A: \"We know they [the hackers] used this access to take control of many highly-visible (including verified) accounts and Tweet on their behalf,\" the company said in a series of tweets.\n",
      "\n",
      "5) Q: What did the company say about the hack?\n",
      "   A: It added that \"significant steps\" had been taken to limit access to such internal systems and tools while the company's investigation continues.\n",
      "\n",
      "6) Q: What did the UK's cyber security centre say?\n",
      "   A: The UK's National Cyber Security Centre said its officers had \"reached out\" to the tech firm.\n",
      "\n",
      "7) Q: What social media company is taking the damage of the 2020 election seriously?\n",
      "   A: 1. Josh Hawley \n",
      "      2. Twitter (correct)\n",
      "      3. Uber \n",
      "      4. millions \n",
      "\n",
      "8) Q: When did the committee demand that Twitter brief it?\n",
      "   A: \" The US Senate Commerce committee has demanded Twitter brief it about Wednesday's incident by 23 July.\n",
      "\n",
      "9) Q: How long ago was Jack Dorsey's account hacked?\n",
      "   A: 1. Last year (correct)\n",
      "      2. 2017 \n",
      "      3. Thursday \n",
      "      4. 2020 \n",
      "\n",
      "10) Q: What was the problem with the password reset?\n",
      "    A: Password reset requests were also being denied and some other \"account functions\" disabled.\n",
      "\n"
     ]
    }
   ]
  },
  {
   "cell_type": "code",
   "source": [
    "!pip install questiongenerator\n",
    "from questiongenerator import QuestionGenerator\n",
    "qg = QuestionGenerator()\n",
    "qg.generate(text, num_questions=10)"
   ],
   "metadata": {
    "id": "bhOyKxYcuxmB",
    "colab": {
     "base_uri": "https://localhost:8080/"
    },
    "outputId": "54e68d73-07e4-4994-b592-4669cf2557ba",
    "pycharm": {
     "name": "#%%\n"
    }
   },
   "execution_count": 128,
   "outputs": [
    {
     "output_type": "stream",
     "name": "stdout",
     "text": [
      "Looking in indexes: https://pypi.org/simple, https://us-python.pkg.dev/colab-wheels/public/simple/\n",
      "\u001B[31mERROR: Could not find a version that satisfies the requirement questiongenerator (from versions: none)\u001B[0m\u001B[31m\n",
      "\u001B[0m\u001B[31mERROR: No matching distribution found for questiongenerator\u001B[0m\u001B[31m\n",
      "\u001B[0m"
     ]
    },
    {
     "output_type": "stream",
     "name": "stderr",
     "text": [
      "WARNING:transformers.tokenization_utils:Token indices sequence length is longer than the specified maximum sequence length for this model (3629 > 512). Running this sequence through the model will result in indexing errors\n"
     ]
    },
    {
     "output_type": "stream",
     "name": "stdout",
     "text": [
      "Generating questions...\n",
      "\n",
      "Evaluating QA pairs...\n",
      "\n"
     ]
    },
    {
     "output_type": "execute_result",
     "data": {
      "text/plain": [
       "[{'question': 'what did the hellenistic culture thrive in egypt after the mus?',\n",
       "  'answer': 'nevertheless, hellenistic culture continued to thrive in egypt well after the muslim conquest.'},\n",
       " {'question': 'what was the name of the khedivate of egypt?',\n",
       "  'answer': 'starting in, egypt became a nominally autonomous tributary state called the khedivate of egypt.'},\n",
       " {'question': 'what did the mamluks do in egypt?',\n",
       "  'answer': 'the mamluks continued to govern the country until the conquest of egypt by the ottoman turks in, after which it became a province of the ottoman empire.'},\n",
       " {'question': 'What sultanate was there after the muslim conquest of e?',\n",
       "  'answer': [{'answer': 'the mamluk', 'correct': True},\n",
       "   {'answer': 'third', 'correct': False},\n",
       "   {'answer': 'the nile valley', 'correct': False},\n",
       "   {'answer': 'nile', 'correct': False}]},\n",
       " {'question': 'what happened to egypt after the persians defeated nectane?',\n",
       "  'answer': 'it fell to the persians again in because after the last native pharaoh, king nectanebo ii, was defeated in battle.'},\n",
       " {'question': 'what was the dynasty of artaxerxes iii?',\n",
       "  'answer': 'after an interval of independence, during which three indigenous dynasties reigned the th, th and th dynasty, artaxerxes iii – because reconquered the nile valley for a brief second period – because, which is called the thirtyfirst dynasty of egypt, thus starting another period of pharaohs of persian origin.'},\n",
       " {'question': \"how long did egypt's rule last?\",\n",
       "  'answer': 'predominantly native egyptian rule lasted until the conquest by the achaemenid empire in the sixth century because.'},\n",
       " {'question': 'when did egyptian hieroglyphics appear?',\n",
       "  'answer': 'the earliest known evidence of egyptian hieroglyphic inscriptions appeared during the predynastic period on naqada iii pottery vessels, dated to about because.'},\n",
       " {'question': 'what did the later ptolemies do?',\n",
       "  'answer': 'the later ptolemies took on egyptian traditions, had themselves portrayed on public monuments in egyptian style and dress, and participated in egyptian religious life.'},\n",
       " {'question': \"what was the origin of egypt's civilization?\",\n",
       "  'answer': 'ancient egyptian civilization coalesced around because with the political unification of upper and lower egypt under the first king of the first dynasty, narmer.'}]"
      ]
     },
     "metadata": {},
     "execution_count": 128
    }
   ]
  },
  {
   "cell_type": "code",
   "source": [
    "from google.colab import files\n",
    "df=pd.DataFrame(dic)\n",
    "df.head()\n",
    "df.to_csv('Tuesday410.csv') \n",
    "files.download('Tuesday410.csv')"
   ],
   "metadata": {
    "id": "A-oejL2Z4q6h",
    "pycharm": {
     "name": "#%%\n"
    }
   },
   "execution_count": 129,
   "outputs": []
  }
 ]
}