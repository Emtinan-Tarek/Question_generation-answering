{
 "nbformat": 4,
 "nbformat_minor": 0,
 "metadata": {
  "colab": {
   "provenance": [],
   "collapsed_sections": []
  },
  "kernelspec": {
   "name": "python3",
   "display_name": "Python 3"
  },
  "language_info": {
   "name": "python"
  },
  "accelerator": "GPU"
 },
 "cells": [
  {
   "cell_type": "code",
   "source": [
    "%%bash\n",
    "\n",
    "nvidia-smi"
   ],
   "metadata": {
    "colab": {
     "base_uri": "https://localhost:8080/"
    },
    "id": "N05mJNvAjouF",
    "outputId": "3518ddbf-2cad-44ea-d2f7-46d2ca12aa82",
    "pycharm": {
     "name": "#%%\n"
    }
   },
   "execution_count": 24,
   "outputs": [
    {
     "output_type": "stream",
     "name": "stdout",
     "text": [
      "Fri Oct  7 00:19:54 2022       \n",
      "+-----------------------------------------------------------------------------+\n",
      "| NVIDIA-SMI 460.32.03    Driver Version: 460.32.03    CUDA Version: 11.2     |\n",
      "|-------------------------------+----------------------+----------------------+\n",
      "| GPU  Name        Persistence-M| Bus-Id        Disp.A | Volatile Uncorr. ECC |\n",
      "| Fan  Temp  Perf  Pwr:Usage/Cap|         Memory-Usage | GPU-Util  Compute M. |\n",
      "|                               |                      |               MIG M. |\n",
      "|===============================+======================+======================|\n",
      "|   0  Tesla T4            Off  | 00000000:00:04.0 Off |                    0 |\n",
      "| N/A   49C    P0    27W /  70W |   1826MiB / 15109MiB |      0%      Default |\n",
      "|                               |                      |                  N/A |\n",
      "+-------------------------------+----------------------+----------------------+\n",
      "                                                                               \n",
      "+-----------------------------------------------------------------------------+\n",
      "| Processes:                                                                  |\n",
      "|  GPU   GI   CI        PID   Type   Process name                  GPU Memory |\n",
      "|        ID   ID                                                   Usage      |\n",
      "|=============================================================================|\n",
      "+-----------------------------------------------------------------------------+\n"
     ]
    }
   ]
  },
  {
   "cell_type": "code",
   "execution_count": 25,
   "metadata": {
    "id": "x9Cvm75twJhf",
    "colab": {
     "base_uri": "https://localhost:8080/"
    },
    "outputId": "6251fdda-092d-40c9-f1a8-a1479abc1ce1",
    "pycharm": {
     "name": "#%%\n"
    }
   },
   "outputs": [
    {
     "output_type": "stream",
     "name": "stdout",
     "text": [
      "Looking in indexes: https://pypi.org/simple, https://us-python.pkg.dev/colab-wheels/public/simple/\n",
      "Requirement already satisfied: pip in /usr/local/lib/python3.7/dist-packages (22.2.2)\n",
      "\u001B[33mWARNING: Running pip as the 'root' user can result in broken permissions and conflicting behaviour with the system package manager. It is recommended to use a virtual environment instead: https://pip.pypa.io/warnings/venv\u001B[0m\u001B[33m\n",
      "\u001B[0mLooking in indexes: https://pypi.org/simple, https://us-python.pkg.dev/colab-wheels/public/simple/\n",
      "Collecting farm-haystack[colab]\n",
      "  Cloning https://github.com/deepset-ai/haystack.git to /tmp/pip-install-1idrwh09/farm-haystack_0352c049e1fa4d8cbc08fc2cbad88364\n",
      "  Running command git clone --filter=blob:none --quiet https://github.com/deepset-ai/haystack.git /tmp/pip-install-1idrwh09/farm-haystack_0352c049e1fa4d8cbc08fc2cbad88364\n",
      "  Resolved https://github.com/deepset-ai/haystack.git to commit b84a6b17165dbf10665794b5decdefa113300749\n",
      "  Installing build dependencies ... \u001B[?25l\u001B[?25hdone\n",
      "  Getting requirements to build wheel ... \u001B[?25l\u001B[?25hdone\n",
      "  Preparing metadata (pyproject.toml) ... \u001B[?25l\u001B[?25hdone\n",
      "Requirement already satisfied: nltk in /usr/local/lib/python3.7/dist-packages (from farm-haystack[colab]) (3.7)\n",
      "Requirement already satisfied: elastic-apm in /usr/local/lib/python3.7/dist-packages (from farm-haystack[colab]) (6.12.0)\n",
      "Requirement already satisfied: more-itertools in /usr/local/lib/python3.7/dist-packages (from farm-haystack[colab]) (8.14.0)\n",
      "Requirement already satisfied: tqdm in /usr/local/lib/python3.7/dist-packages (from farm-haystack[colab]) (4.64.1)\n",
      "Requirement already satisfied: posthog in /usr/local/lib/python3.7/dist-packages (from farm-haystack[colab]) (2.1.2)\n",
      "Requirement already satisfied: torch<1.13,>1.9 in /usr/local/lib/python3.7/dist-packages (from farm-haystack[colab]) (1.12.1+cu113)\n",
      "Requirement already satisfied: huggingface-hub>=0.5.0 in /usr/local/lib/python3.7/dist-packages (from farm-haystack[colab]) (0.10.0)\n",
      "Requirement already satisfied: mmh3 in /usr/local/lib/python3.7/dist-packages (from farm-haystack[colab]) (3.0.0)\n",
      "Requirement already satisfied: jsonschema in /usr/local/lib/python3.7/dist-packages (from farm-haystack[colab]) (4.3.3)\n",
      "Requirement already satisfied: python-docx in /usr/local/lib/python3.7/dist-packages (from farm-haystack[colab]) (0.8.11)\n",
      "Requirement already satisfied: requests in /usr/local/lib/python3.7/dist-packages (from farm-haystack[colab]) (2.28.1)\n",
      "Requirement already satisfied: elasticsearch<7.11,>=7.7 in /usr/local/lib/python3.7/dist-packages (from farm-haystack[colab]) (7.10.1)\n",
      "Requirement already satisfied: dill in /usr/local/lib/python3.7/dist-packages (from farm-haystack[colab]) (0.3.5.1)\n",
      "Requirement already satisfied: networkx in /usr/local/lib/python3.7/dist-packages (from farm-haystack[colab]) (2.6.3)\n",
      "Requirement already satisfied: sentence-transformers>=2.2.0 in /usr/local/lib/python3.7/dist-packages (from farm-haystack[colab]) (2.2.2)\n",
      "Requirement already satisfied: importlib-metadata in /usr/local/lib/python3.7/dist-packages (from farm-haystack[colab]) (4.13.0)\n",
      "Requirement already satisfied: pandas in /usr/local/lib/python3.7/dist-packages (from farm-haystack[colab]) (1.3.5)\n",
      "Requirement already satisfied: scikit-learn>=1.0.0 in /usr/local/lib/python3.7/dist-packages (from farm-haystack[colab]) (1.0.2)\n",
      "Requirement already satisfied: langdetect in /usr/local/lib/python3.7/dist-packages (from farm-haystack[colab]) (1.0.9)\n",
      "Requirement already satisfied: quantulum3 in /usr/local/lib/python3.7/dist-packages (from farm-haystack[colab]) (0.7.10)\n",
      "Requirement already satisfied: scipy>=1.3.2 in /usr/local/lib/python3.7/dist-packages (from farm-haystack[colab]) (1.7.3)\n",
      "Requirement already satisfied: pydantic in /usr/local/lib/python3.7/dist-packages (from farm-haystack[colab]) (1.9.2)\n",
      "Requirement already satisfied: mlflow in /usr/local/lib/python3.7/dist-packages (from farm-haystack[colab]) (1.29.0)\n",
      "Requirement already satisfied: seqeval in /usr/local/lib/python3.7/dist-packages (from farm-haystack[colab]) (1.2.2)\n",
      "Requirement already satisfied: tika in /usr/local/lib/python3.7/dist-packages (from farm-haystack[colab]) (1.24)\n",
      "Requirement already satisfied: rapidfuzz<2.8.0,>=2.0.15 in /usr/local/lib/python3.7/dist-packages (from farm-haystack[colab]) (2.7.0)\n",
      "Requirement already satisfied: transformers==4.21.2 in /usr/local/lib/python3.7/dist-packages (from farm-haystack[colab]) (4.21.2)\n",
      "Requirement already satisfied: azure-ai-formrecognizer>=3.2.0b2 in /usr/local/lib/python3.7/dist-packages (from farm-haystack[colab]) (3.2.0)\n",
      "Requirement already satisfied: grpcio==1.47.0 in /usr/local/lib/python3.7/dist-packages (from farm-haystack[colab]) (1.47.0)\n",
      "Requirement already satisfied: six>=1.5.2 in /usr/local/lib/python3.7/dist-packages (from grpcio==1.47.0->farm-haystack[colab]) (1.15.0)\n",
      "Requirement already satisfied: regex!=2019.12.17 in /usr/local/lib/python3.7/dist-packages (from transformers==4.21.2->farm-haystack[colab]) (2022.6.2)\n",
      "Requirement already satisfied: tokenizers!=0.11.3,<0.13,>=0.11.1 in /usr/local/lib/python3.7/dist-packages (from transformers==4.21.2->farm-haystack[colab]) (0.12.1)\n",
      "Requirement already satisfied: filelock in /usr/local/lib/python3.7/dist-packages (from transformers==4.21.2->farm-haystack[colab]) (3.8.0)\n",
      "Requirement already satisfied: numpy>=1.17 in /usr/local/lib/python3.7/dist-packages (from transformers==4.21.2->farm-haystack[colab]) (1.21.6)\n",
      "Requirement already satisfied: packaging>=20.0 in /usr/local/lib/python3.7/dist-packages (from transformers==4.21.2->farm-haystack[colab]) (21.3)\n",
      "Requirement already satisfied: pyyaml>=5.1 in /usr/local/lib/python3.7/dist-packages (from transformers==4.21.2->farm-haystack[colab]) (6.0)\n",
      "Requirement already satisfied: azure-common~=1.1 in /usr/local/lib/python3.7/dist-packages (from azure-ai-formrecognizer>=3.2.0b2->farm-haystack[colab]) (1.1.28)\n",
      "Requirement already satisfied: azure-core<2.0.0,>=1.23.0 in /usr/local/lib/python3.7/dist-packages (from azure-ai-formrecognizer>=3.2.0b2->farm-haystack[colab]) (1.26.0)\n",
      "Requirement already satisfied: msrest>=0.6.21 in /usr/local/lib/python3.7/dist-packages (from azure-ai-formrecognizer>=3.2.0b2->farm-haystack[colab]) (0.7.1)\n",
      "Requirement already satisfied: typing-extensions>=4.0.1 in /usr/local/lib/python3.7/dist-packages (from azure-ai-formrecognizer>=3.2.0b2->farm-haystack[colab]) (4.1.1)\n",
      "Requirement already satisfied: urllib3<2,>=1.21.1 in /usr/local/lib/python3.7/dist-packages (from elasticsearch<7.11,>=7.7->farm-haystack[colab]) (1.26.12)\n",
      "Requirement already satisfied: certifi in /usr/local/lib/python3.7/dist-packages (from elasticsearch<7.11,>=7.7->farm-haystack[colab]) (2022.9.24)\n",
      "Requirement already satisfied: jarowinkler<2.0.0,>=1.2.0 in /usr/local/lib/python3.7/dist-packages (from rapidfuzz<2.8.0,>=2.0.15->farm-haystack[colab]) (1.2.3)\n",
      "Requirement already satisfied: charset-normalizer<3,>=2 in /usr/local/lib/python3.7/dist-packages (from requests->farm-haystack[colab]) (2.1.1)\n",
      "Requirement already satisfied: idna<4,>=2.5 in /usr/local/lib/python3.7/dist-packages (from requests->farm-haystack[colab]) (2.10)\n",
      "Requirement already satisfied: threadpoolctl>=2.0.0 in /usr/local/lib/python3.7/dist-packages (from scikit-learn>=1.0.0->farm-haystack[colab]) (3.1.0)\n",
      "Requirement already satisfied: joblib>=0.11 in /usr/local/lib/python3.7/dist-packages (from scikit-learn>=1.0.0->farm-haystack[colab]) (1.2.0)\n",
      "Requirement already satisfied: torchvision in /usr/local/lib/python3.7/dist-packages (from sentence-transformers>=2.2.0->farm-haystack[colab]) (0.13.1+cu113)\n",
      "Requirement already satisfied: sentencepiece in /usr/local/lib/python3.7/dist-packages (from sentence-transformers>=2.2.0->farm-haystack[colab]) (0.1.97)\n",
      "Requirement already satisfied: zipp>=0.5 in /usr/local/lib/python3.7/dist-packages (from importlib-metadata->farm-haystack[colab]) (3.8.1)\n",
      "Requirement already satisfied: pyrsistent!=0.17.0,!=0.17.1,!=0.17.2,>=0.14.0 in /usr/local/lib/python3.7/dist-packages (from jsonschema->farm-haystack[colab]) (0.18.1)\n",
      "Requirement already satisfied: importlib-resources>=1.4.0 in /usr/local/lib/python3.7/dist-packages (from jsonschema->farm-haystack[colab]) (5.9.0)\n",
      "Requirement already satisfied: attrs>=17.4.0 in /usr/local/lib/python3.7/dist-packages (from jsonschema->farm-haystack[colab]) (22.1.0)\n",
      "Requirement already satisfied: querystring-parser<2 in /usr/local/lib/python3.7/dist-packages (from mlflow->farm-haystack[colab]) (1.2.4)\n",
      "Requirement already satisfied: alembic<2 in /usr/local/lib/python3.7/dist-packages (from mlflow->farm-haystack[colab]) (1.8.1)\n",
      "Requirement already satisfied: cloudpickle<3 in /usr/local/lib/python3.7/dist-packages (from mlflow->farm-haystack[colab]) (1.5.0)\n",
      "Requirement already satisfied: sqlparse<1,>=0.4.0 in /usr/local/lib/python3.7/dist-packages (from mlflow->farm-haystack[colab]) (0.4.3)\n",
      "Requirement already satisfied: click<9,>=7.0 in /usr/local/lib/python3.7/dist-packages (from mlflow->farm-haystack[colab]) (7.1.2)\n",
      "Requirement already satisfied: pytz<2023 in /usr/local/lib/python3.7/dist-packages (from mlflow->farm-haystack[colab]) (2022.4)\n",
      "Requirement already satisfied: protobuf<5,>=3.12.0 in /usr/local/lib/python3.7/dist-packages (from mlflow->farm-haystack[colab]) (3.17.3)\n",
      "Requirement already satisfied: Flask<3 in /usr/local/lib/python3.7/dist-packages (from mlflow->farm-haystack[colab]) (1.1.4)\n",
      "Requirement already satisfied: prometheus-flask-exporter<1 in /usr/local/lib/python3.7/dist-packages (from mlflow->farm-haystack[colab]) (0.20.3)\n",
      "Requirement already satisfied: entrypoints<1 in /usr/local/lib/python3.7/dist-packages (from mlflow->farm-haystack[colab]) (0.4)\n",
      "Requirement already satisfied: gunicorn<21 in /usr/local/lib/python3.7/dist-packages (from mlflow->farm-haystack[colab]) (20.1.0)\n",
      "Requirement already satisfied: databricks-cli<1,>=0.8.7 in /usr/local/lib/python3.7/dist-packages (from mlflow->farm-haystack[colab]) (0.17.3)\n",
      "Requirement already satisfied: sqlalchemy<2,>=1.4.0 in /usr/local/lib/python3.7/dist-packages (from mlflow->farm-haystack[colab]) (1.4.41)\n",
      "Requirement already satisfied: docker<7,>=4.0.0 in /usr/local/lib/python3.7/dist-packages (from mlflow->farm-haystack[colab]) (6.0.0)\n",
      "Requirement already satisfied: gitpython<4,>=2.1.0 in /usr/local/lib/python3.7/dist-packages (from mlflow->farm-haystack[colab]) (3.1.27)\n",
      "Requirement already satisfied: python-dateutil>=2.7.3 in /usr/local/lib/python3.7/dist-packages (from pandas->farm-haystack[colab]) (2.8.2)\n",
      "Requirement already satisfied: monotonic>=1.5 in /usr/local/lib/python3.7/dist-packages (from posthog->farm-haystack[colab]) (1.6)\n",
      "Requirement already satisfied: backoff<2.0.0,>=1.10.0 in /usr/local/lib/python3.7/dist-packages (from posthog->farm-haystack[colab]) (1.11.1)\n",
      "Requirement already satisfied: lxml>=2.3.2 in /usr/local/lib/python3.7/dist-packages (from python-docx->farm-haystack[colab]) (4.9.1)\n",
      "Requirement already satisfied: num2words in /usr/local/lib/python3.7/dist-packages (from quantulum3->farm-haystack[colab]) (0.5.12)\n",
      "Requirement already satisfied: inflect in /usr/local/lib/python3.7/dist-packages (from quantulum3->farm-haystack[colab]) (2.1.0)\n",
      "Requirement already satisfied: setuptools in /usr/local/lib/python3.7/dist-packages (from tika->farm-haystack[colab]) (57.4.0)\n",
      "Requirement already satisfied: Mako in /usr/local/lib/python3.7/dist-packages (from alembic<2->mlflow->farm-haystack[colab]) (1.2.3)\n",
      "Requirement already satisfied: oauthlib>=3.1.0 in /usr/local/lib/python3.7/dist-packages (from databricks-cli<1,>=0.8.7->mlflow->farm-haystack[colab]) (3.2.1)\n",
      "Requirement already satisfied: tabulate>=0.7.7 in /usr/local/lib/python3.7/dist-packages (from databricks-cli<1,>=0.8.7->mlflow->farm-haystack[colab]) (0.8.10)\n",
      "Requirement already satisfied: pyjwt>=1.7.0 in /usr/local/lib/python3.7/dist-packages (from databricks-cli<1,>=0.8.7->mlflow->farm-haystack[colab]) (2.5.0)\n",
      "Requirement already satisfied: websocket-client>=0.32.0 in /usr/local/lib/python3.7/dist-packages (from docker<7,>=4.0.0->mlflow->farm-haystack[colab]) (1.4.1)\n",
      "Requirement already satisfied: Werkzeug<2.0,>=0.15 in /usr/local/lib/python3.7/dist-packages (from Flask<3->mlflow->farm-haystack[colab]) (1.0.1)\n",
      "Requirement already satisfied: itsdangerous<2.0,>=0.24 in /usr/local/lib/python3.7/dist-packages (from Flask<3->mlflow->farm-haystack[colab]) (1.1.0)\n",
      "Requirement already satisfied: Jinja2<3.0,>=2.10.1 in /usr/local/lib/python3.7/dist-packages (from Flask<3->mlflow->farm-haystack[colab]) (2.11.3)\n",
      "Requirement already satisfied: gitdb<5,>=4.0.1 in /usr/local/lib/python3.7/dist-packages (from gitpython<4,>=2.1.0->mlflow->farm-haystack[colab]) (4.0.9)\n",
      "Requirement already satisfied: requests-oauthlib>=0.5.0 in /usr/local/lib/python3.7/dist-packages (from msrest>=0.6.21->azure-ai-formrecognizer>=3.2.0b2->farm-haystack[colab]) (1.3.1)\n",
      "Requirement already satisfied: isodate>=0.6.0 in /usr/local/lib/python3.7/dist-packages (from msrest>=0.6.21->azure-ai-formrecognizer>=3.2.0b2->farm-haystack[colab]) (0.6.1)\n",
      "Requirement already satisfied: pyparsing!=3.0.5,>=2.0.2 in /usr/local/lib/python3.7/dist-packages (from packaging>=20.0->transformers==4.21.2->farm-haystack[colab]) (3.0.9)\n",
      "Requirement already satisfied: prometheus-client in /usr/local/lib/python3.7/dist-packages (from prometheus-flask-exporter<1->mlflow->farm-haystack[colab]) (0.14.1)\n",
      "Requirement already satisfied: greenlet!=0.4.17 in /usr/local/lib/python3.7/dist-packages (from sqlalchemy<2,>=1.4.0->mlflow->farm-haystack[colab]) (1.1.3)\n",
      "Requirement already satisfied: docopt>=0.6.2 in /usr/local/lib/python3.7/dist-packages (from num2words->quantulum3->farm-haystack[colab]) (0.6.2)\n",
      "Requirement already satisfied: pillow!=8.3.*,>=5.3.0 in /usr/local/lib/python3.7/dist-packages (from torchvision->sentence-transformers>=2.2.0->farm-haystack[colab]) (7.1.2)\n",
      "Requirement already satisfied: smmap<6,>=3.0.1 in /usr/local/lib/python3.7/dist-packages (from gitdb<5,>=4.0.1->gitpython<4,>=2.1.0->mlflow->farm-haystack[colab]) (5.0.0)\n",
      "Requirement already satisfied: MarkupSafe>=0.23 in /usr/local/lib/python3.7/dist-packages (from Jinja2<3.0,>=2.10.1->Flask<3->mlflow->farm-haystack[colab]) (2.0.1)\n",
      "\u001B[33mWARNING: Running pip as the 'root' user can result in broken permissions and conflicting behaviour with the system package manager. It is recommended to use a virtual environment instead: https://pip.pypa.io/warnings/venv\u001B[0m\u001B[33m\n",
      "\u001B[0m"
     ]
    }
   ],
   "source": [
    "!pip install --upgrade pip\n",
    "!pip install git+https://github.com/deepset-ai/haystack.git#egg=farm-haystack[colab]"
   ]
  },
  {
   "cell_type": "code",
   "source": [
    "import logging\n",
    "\n",
    "logging.basicConfig(format=\"%(levelname)s - %(name)s -  %(message)s\", level=logging.WARNING)\n",
    "logging.getLogger(\"haystack\").setLevel(logging.INFO)"
   ],
   "metadata": {
    "id": "7BIkCqIl2Wtg",
    "pycharm": {
     "name": "#%%\n"
    }
   },
   "execution_count": 26,
   "outputs": []
  },
  {
   "cell_type": "code",
   "source": [
    "from haystack.document_stores import InMemoryDocumentStore\n",
    "\n",
    "document_store = InMemoryDocumentStore()"
   ],
   "metadata": {
    "colab": {
     "base_uri": "https://localhost:8080/"
    },
    "id": "-dJo1RcJX6Vm",
    "outputId": "9f5c2423-35a2-4ce5-800c-edd713710d3f",
    "pycharm": {
     "name": "#%%\n"
    }
   },
   "execution_count": 27,
   "outputs": [
    {
     "output_type": "stream",
     "name": "stderr",
     "text": [
      "INFO:haystack.modeling.utils:Using devices: CUDA:0 - Number of GPUs: 1\n"
     ]
    }
   ]
  },
  {
   "cell_type": "code",
   "source": [
    "from haystack.utils import clean_wiki_text, convert_files_to_docs, fetch_archive_from_http\n",
    "\n",
    "\n",
    "# Let's first get some documents that we want to query\n",
    "# Here: 517 Wikipedia articles for Game of Thrones\n",
    "doc_dir = \"data/tutorial3\"\n",
    "s3_url = \"https://s3.eu-central-1.amazonaws.com/deepset.ai-farm-qa/datasets/documents/wiki_gameofthrones_txt3.zip\"\n",
    "fetch_archive_from_http(url=s3_url, output_dir=doc_dir)\n",
    "\n",
    "# convert files to dicts containing documents that can be indexed to our datastore\n",
    "# You can optionally supply a cleaning function that is applied to each doc (e.g. to remove footers)\n",
    "# It must take a str as input, and return a str.\n",
    "docs = convert_files_to_docs(dir_path=doc_dir, clean_func=clean_wiki_text, split_paragraphs=True)\n",
    "\n",
    "# We now have a list of dictionaries that we can write to our document store.\n",
    "# If your texts come from a different source (e.g. a DB), you can of course skip convert_files_to_dicts() and create the dictionaries yourself.\n",
    "# The default format here is: {\"name\": \"<some-document-name>\", \"content\": \"<the-actual-text>\"}\n",
    "\n",
    "# Let's have a look at the first 3 entries:\n",
    "print(docs[:3])\n",
    "\n",
    "# Now, let's write the docs to our DB.\n",
    "document_store.write_documents(docs)"
   ],
   "metadata": {
    "id": "rq4a1vtt7fvg",
    "colab": {
     "base_uri": "https://localhost:8080/"
    },
    "outputId": "b024e572-1996-4b1c-db1e-89aacf479fdb",
    "pycharm": {
     "name": "#%%\n"
    }
   },
   "execution_count": 28,
   "outputs": [
    {
     "output_type": "stream",
     "name": "stderr",
     "text": [
      "INFO:haystack.utils.import_utils:Found data stored in 'data/tutorial3'. Delete this first if you really want to fetch new data.\n",
      "INFO:haystack.utils.preprocessing:Converting data/tutorial3/198_A_Clash_of_Kings.txt\n",
      "INFO:haystack.utils.preprocessing:Converting data/tutorial3/340_Roose_Bolton.txt\n",
      "INFO:haystack.utils.preprocessing:Converting data/tutorial3/425_No_One__Game_of_Thrones_.txt\n",
      "INFO:haystack.utils.preprocessing:Converting data/tutorial3/228_Souad_Faress.txt\n",
      "INFO:haystack.utils.preprocessing:Converting data/tutorial3/469_Outline_of_A_Song_of_Ice_and_Fire_franchise.txt\n",
      "INFO:haystack.utils.preprocessing:Converting data/tutorial3/508_A_Game_of_Thrones__Second_Edition__card_game_.txt\n",
      "INFO:haystack.utils.preprocessing:Converting data/tutorial3/401_Power_Is_Power.txt\n",
      "INFO:haystack.utils.preprocessing:Converting data/tutorial3/232_Tommen_Baratheon.txt\n",
      "INFO:haystack.utils.preprocessing:Converting data/tutorial3/233_Myrcella_Baratheon.txt\n",
      "INFO:haystack.utils.preprocessing:Converting data/tutorial3/495_Hodor.txt\n",
      "INFO:haystack.utils.preprocessing:Converting data/tutorial3/3_The_Queen_s_Justice.txt\n",
      "INFO:haystack.utils.preprocessing:Converting data/tutorial3/273_High_Sparrow.txt\n",
      "INFO:haystack.utils.preprocessing:Converting data/tutorial3/514_Book_of_the_Stranger.txt\n",
      "INFO:haystack.utils.preprocessing:Converting data/tutorial3/317_The_Broken_Man.txt\n",
      "INFO:haystack.utils.preprocessing:Converting data/tutorial3/443_The_Kingsroad.txt\n",
      "INFO:haystack.utils.preprocessing:Converting data/tutorial3/127_The_Climb__Game_of_Thrones_.txt\n",
      "INFO:haystack.utils.preprocessing:Converting data/tutorial3/435_White_Walker.txt\n",
      "INFO:haystack.utils.preprocessing:Converting data/tutorial3/475_A_Game_of_Thrones__role-playing_game_.txt\n",
      "INFO:haystack.utils.preprocessing:Converting data/tutorial3/487_Ramsay_Bolton.txt\n",
      "INFO:haystack.utils.preprocessing:Converting data/tutorial3/210_The_Mountain_and_the_Viper.txt\n",
      "INFO:haystack.utils.preprocessing:Converting data/tutorial3/411_The_Iron_Throne__Game_of_Thrones_.txt\n",
      "INFO:haystack.utils.preprocessing:Converting data/tutorial3/77_Game_of_Thrones_Ascent.txt\n",
      "INFO:haystack.utils.preprocessing:Converting data/tutorial3/348_The_Winds_of_Winter.txt\n",
      "INFO:haystack.utils.preprocessing:Converting data/tutorial3/201_A_Game_of_Thrones__card_game_.txt\n",
      "INFO:haystack.utils.preprocessing:Converting data/tutorial3/262_Gilly__character_.txt\n",
      "INFO:haystack.utils.preprocessing:Converting data/tutorial3/85_Game_of_Thrones__Seven_Kingdoms.txt\n",
      "INFO:haystack.utils.preprocessing:Converting data/tutorial3/229_Game_of_Thrones.txt\n",
      "INFO:haystack.utils.preprocessing:Converting data/tutorial3/53_The_Lion_and_the_Rose.txt\n",
      "INFO:haystack.utils.preprocessing:Converting data/tutorial3/134_Game_of_Thrones__Season_6__soundtrack_.txt\n",
      "INFO:haystack.utils.preprocessing:Converting data/tutorial3/456_Works_based_on_A_Song_of_Ice_and_Fire.txt\n",
      "INFO:haystack.utils.preprocessing:Converting data/tutorial3/51_Iron_Throne__A_Song_of_Ice_and_Fire_.txt\n",
      "INFO:haystack.utils.preprocessing:Converting data/tutorial3/24_Game_of_Thrones__Season_1__soundtrack_.txt\n",
      "INFO:haystack.utils.preprocessing:Converting data/tutorial3/513_Oathbreaker__Game_of_Thrones_.txt\n",
      "INFO:haystack.utils.preprocessing:Converting data/tutorial3/402_A_Knight_of_the_Seven_Kingdoms__Game_of_Thrones_.txt\n",
      "INFO:haystack.utils.preprocessing:Converting data/tutorial3/120_And_Now_His_Watch_Is_Ended.txt\n",
      "INFO:haystack.utils.preprocessing:Converting data/tutorial3/69_The_Red_Woman.txt\n",
      "INFO:haystack.utils.preprocessing:Converting data/tutorial3/135_Game_of_Thrones__Season_7__soundtrack_.txt\n",
      "INFO:haystack.utils.preprocessing:Converting data/tutorial3/7_The_Spoils_of_War__Game_of_Thrones_.txt\n",
      "INFO:haystack.utils.preprocessing:Converting data/tutorial3/33_David_Benioff.txt\n",
      "INFO:haystack.utils.preprocessing:Converting data/tutorial3/208_Robb_Stark.txt\n",
      "INFO:haystack.utils.preprocessing:Converting data/tutorial3/79_Thronecast.txt\n",
      "INFO:haystack.utils.preprocessing:Converting data/tutorial3/407_The_Long_Night__Game_of_Thrones_.txt\n",
      "INFO:haystack.utils.preprocessing:Converting data/tutorial3/369_Samwell_Tarly.txt\n",
      "INFO:haystack.utils.preprocessing:Converting data/tutorial3/9_Game_of_Thrones_Tapestry.txt\n",
      "INFO:haystack.utils.preprocessing:Converting data/tutorial3/378_A_Game_of_Thrones__board_game_.txt\n",
      "INFO:haystack.utils.preprocessing:Converting data/tutorial3/55_Breaker_of_Chains.txt\n",
      "INFO:haystack.utils.preprocessing:Converting data/tutorial3/218_Olenna_Tyrell.txt\n",
      "INFO:haystack.utils.preprocessing:Converting data/tutorial3/136_Game_of_Thrones__Season_8__soundtrack_.txt\n",
      "INFO:haystack.utils.preprocessing:Converting data/tutorial3/28_Jorah_Mormont.txt\n",
      "INFO:haystack.utils.preprocessing:Converting data/tutorial3/341_Ned_Stark.txt\n",
      "INFO:haystack.utils.preprocessing:Converting data/tutorial3/101_Titties_and_Dragons.txt\n",
      "INFO:haystack.utils.preprocessing:Converting data/tutorial3/488_Brienne_of_Tarth.txt\n",
      "INFO:haystack.utils.preprocessing:Converting data/tutorial3/439_Melisandre.txt\n",
      "INFO:haystack.utils.preprocessing:Converting data/tutorial3/52_Catch_the_Throne.txt\n",
      "INFO:haystack.utils.preprocessing:Converting data/tutorial3/23_Game_of_Thrones_Live_Concert_Experience.txt\n",
      "INFO:haystack.utils.preprocessing:Converting data/tutorial3/310_Mother_s_Mercy.txt\n",
      "INFO:haystack.utils.preprocessing:Converting data/tutorial3/481_Sandor_Clegane.txt\n",
      "INFO:haystack.utils.preprocessing:Converting data/tutorial3/54_Two_Swords__Game_of_Thrones_.txt\n",
      "INFO:haystack.utils.preprocessing:Converting data/tutorial3/12_Fire.txt\n",
      "INFO:haystack.utils.preprocessing:Converting data/tutorial3/131_Mhysa.txt\n",
      "INFO:haystack.utils.preprocessing:Converting data/tutorial3/515_The_Door__Game_of_Thrones_.txt\n",
      "INFO:haystack.utils.preprocessing:Converting data/tutorial3/207_Jon_Snow__character_.txt\n",
      "INFO:haystack.utils.preprocessing:Converting data/tutorial3/461_The_Winds_of_Winter__Game_of_Thrones_.txt\n",
      "INFO:haystack.utils.preprocessing:Converting data/tutorial3/20_Light_of_the_Seven.txt\n",
      "INFO:haystack.utils.preprocessing:Converting data/tutorial3/356_Tales_of_Dunk_and_Egg.txt\n",
      "INFO:haystack.utils.preprocessing:Converting data/tutorial3/119_Walk_of_Punishment.txt\n",
      "INFO:haystack.utils.preprocessing:Converting data/tutorial3/202_A_Feast_for_Crows.txt\n",
      "INFO:haystack.utils.preprocessing:Converting data/tutorial3/332_Sansa_Stark.txt\n",
      "INFO:haystack.utils.preprocessing:Converting data/tutorial3/160_Viserys_Targaryen.txt\n",
      "INFO:haystack.utils.preprocessing:Converting data/tutorial3/133_Game_of_Thrones__Season_5__soundtrack_.txt\n",
      "INFO:haystack.utils.preprocessing:Converting data/tutorial3/75_Blackwater__Game_of_Thrones_.txt\n",
      "INFO:haystack.utils.preprocessing:Converting data/tutorial3/511_After_the_Thrones.txt\n",
      "INFO:haystack.utils.preprocessing:Converting data/tutorial3/84_List_of_awards_and_nominations_received_by_Game_of_Thrones.txt\n",
      "INFO:haystack.utils.preprocessing:Converting data/tutorial3/365_A_Song_of_Ice_and_Fire_Roleplaying.txt\n",
      "INFO:haystack.utils.preprocessing:Converting data/tutorial3/399_For_the_Throne__Music_Inspired_by_the_HBO_Series_Game_of_Thrones.txt\n",
      "INFO:haystack.utils.preprocessing:Converting data/tutorial3/477_A_Dance_with_Dragons.txt\n",
      "INFO:haystack.utils.preprocessing:Converting data/tutorial3/195_World_of_A_Song_of_Ice_and_Fire.txt\n",
      "INFO:haystack.utils.preprocessing:Converting data/tutorial3/474_Bronn__character_.txt\n",
      "INFO:haystack.utils.preprocessing:Converting data/tutorial3/400_Winterfell__Game_of_Thrones_episode_.txt\n",
      "INFO:haystack.utils.preprocessing:Converting data/tutorial3/121_The_Bear_and_the_Maiden_Fair.txt\n",
      "INFO:haystack.utils.preprocessing:Converting data/tutorial3/43_Arya_Stark.txt\n",
      "INFO:haystack.utils.preprocessing:Converting data/tutorial3/334_Rickon_Stark.txt\n",
      "INFO:haystack.utils.preprocessing:Converting data/tutorial3/346_Ygritte.txt\n",
      "INFO:haystack.utils.preprocessing:Converting data/tutorial3/373_Tywin_Lannister.txt\n",
      "INFO:haystack.utils.preprocessing:Converting data/tutorial3/57_The_Laws_of_Gods_and_Men.txt\n",
      "INFO:haystack.utils.preprocessing:Converting data/tutorial3/299_Rani_Mahal__TV_series_.txt\n",
      "INFO:haystack.utils.preprocessing:Converting data/tutorial3/330_Oberyn_Martell.txt\n",
      "INFO:haystack.utils.preprocessing:Converting data/tutorial3/504_List_of_A_Song_of_Ice_and_Fire_video_games.txt\n",
      "INFO:haystack.utils.preprocessing:Converting data/tutorial3/1_Dragonstone__Game_of_Thrones_episode_.txt\n",
      "INFO:haystack.utils.preprocessing:Converting data/tutorial3/379_Davos_Seaworth.txt\n",
      "INFO:haystack.utils.preprocessing:Converting data/tutorial3/80_A_Song_of_Ice_and_Fire_fandom.txt\n",
      "INFO:haystack.utils.preprocessing:Converting data/tutorial3/27_Game_of_Thrones__Season_4__soundtrack_.txt\n",
      "INFO:haystack.utils.preprocessing:Converting data/tutorial3/191_Gendry.txt\n",
      "INFO:haystack.utils.preprocessing:Converting data/tutorial3/145_Elio_M._García_Jr._and_Linda_Antonsson.txt\n",
      "INFO:haystack.utils.preprocessing:Converting data/tutorial3/130_Game_of_Thrones_title_sequence.txt\n",
      "INFO:haystack.utils.preprocessing:Converting data/tutorial3/40_Stannis_Baratheon.txt\n",
      "INFO:haystack.utils.preprocessing:Converting data/tutorial3/86_Game_of_Thrones__season_4_.txt\n",
      "INFO:haystack.utils.preprocessing:Converting data/tutorial3/501_Khal_Drogo.txt\n",
      "INFO:haystack.utils.preprocessing:Converting data/tutorial3/485_Oathkeeper.txt\n",
      "INFO:haystack.utils.preprocessing:Converting data/tutorial3/371_Cersei_Lannister.txt\n",
      "INFO:haystack.utils.preprocessing:Converting data/tutorial3/445_The_Wolf_and_the_Lion.txt\n",
      "INFO:haystack.utils.preprocessing:Converting data/tutorial3/394_Game_of_Thrones__2014_video_game_.txt\n",
      "INFO:haystack.utils.preprocessing:Converting data/tutorial3/349_List_of_Game_of_Thrones_characters.txt\n",
      "INFO:haystack.utils.preprocessing:Converting data/tutorial3/211_The_Watchers_on_the_Wall.txt\n",
      "INFO:haystack.utils.preprocessing:Converting data/tutorial3/410_The_Bells__Game_of_Thrones_.txt\n",
      "INFO:haystack.utils.preprocessing:Converting data/tutorial3/217_The_Rogue_Prince.txt\n",
      "INFO:haystack.utils.preprocessing:Converting data/tutorial3/329_Robert_Baratheon.txt\n",
      "INFO:haystack.utils.preprocessing:Converting data/tutorial3/99_A_Song_of_Ass_and_Fire.txt\n",
      "INFO:haystack.utils.preprocessing:Converting data/tutorial3/359_Kill_the_Boy.txt\n",
      "INFO:haystack.utils.preprocessing:Converting data/tutorial3/213_Valyrian_languages.txt\n",
      "INFO:haystack.utils.preprocessing:Converting data/tutorial3/343_Catelyn_Stark.txt\n",
      "INFO:haystack.utils.preprocessing:Converting data/tutorial3/480_Varys.txt\n",
      "INFO:haystack.utils.preprocessing:Converting data/tutorial3/209_Mockingbird__Game_of_Thrones_.txt\n",
      "INFO:haystack.utils.preprocessing:Converting data/tutorial3/39_Renly_Baratheon.txt\n",
      "INFO:haystack.utils.preprocessing:Converting data/tutorial3/22_The_Rains_of_Castamere__song_.txt\n",
      "INFO:haystack.utils.preprocessing:Converting data/tutorial3/367_Gregor_Clegane.txt\n",
      "INFO:haystack.utils.preprocessing:Converting data/tutorial3/408_The_Last_of_the_Starks.txt\n",
      "INFO:haystack.utils.preprocessing:Converting data/tutorial3/347_Game_of_Thrones__season_2_.txt\n",
      "INFO:haystack.utils.preprocessing:Converting data/tutorial3/360_List_of_Game_of_Thrones_episodes.txt\n",
      "INFO:haystack.utils.preprocessing:Converting data/tutorial3/199_A_Storm_of_Swords.txt\n",
      "INFO:haystack.utils.preprocessing:Converting data/tutorial3/118_Dark_Wings__Dark_Words.txt\n",
      "INFO:haystack.utils.preprocessing:Converting data/tutorial3/67_Unbowed__Unbent__Unbroken.txt\n",
      "INFO:haystack.utils.preprocessing:Converting data/tutorial3/424_Night_King.txt\n",
      "INFO:haystack.utils.preprocessing:Converting data/tutorial3/450_Baelor.txt\n",
      "INFO:haystack.utils.preprocessing:Converting data/tutorial3/482_Petyr_Baelish.txt\n",
      "INFO:haystack.utils.preprocessing:Converting data/tutorial3/454_Music_of_Game_of_Thrones.txt\n",
      "INFO:haystack.utils.preprocessing:Converting data/tutorial3/368_Jaime_Lannister.txt\n",
      "INFO:haystack.utils.preprocessing:Converting data/tutorial3/506_Game_of_Thrones_Theme.txt\n",
      "INFO:haystack.utils.preprocessing:Converting data/tutorial3/197_A_Game_of_Thrones.txt\n",
      "INFO:haystack.utils.preprocessing:Converting data/tutorial3/358_A_Game_of_Thrones__Genesis.txt\n",
      "INFO:haystack.utils.preprocessing:Converting data/tutorial3/56_First_of_His_Name.txt\n",
      "INFO:haystack.utils.preprocessing:Converting data/tutorial3/11_The_Dragon_and_the_Wolf.txt\n",
      "INFO:haystack.utils.preprocessing:Converting data/tutorial3/311_Game_of_Thrones__season_7_.txt\n",
      "INFO:haystack.utils.preprocessing:Converting data/tutorial3/460_Battle_of_the_Bastards.txt\n",
      "INFO:haystack.utils.preprocessing:Converting data/tutorial3/78_The_Rains_of_Castamere.txt\n",
      "INFO:haystack.utils.preprocessing:Converting data/tutorial3/395_Game_of_Thrones__season_5_.txt\n",
      "INFO:haystack.utils.preprocessing:Converting data/tutorial3/512_Home__Game_of_Thrones_.txt\n",
      "INFO:haystack.utils.preprocessing:Converting data/tutorial3/26_Game_of_Thrones__Season_3__soundtrack_.txt\n",
      "INFO:haystack.utils.preprocessing:Converting data/tutorial3/214_Dothraki_language.txt\n",
      "INFO:haystack.utils.preprocessing:Converting data/tutorial3/146_The_Sons_of_the_Dragon.txt\n",
      "INFO:haystack.utils.preprocessing:Converting data/tutorial3/148_Game_of_Thrones__Winter_Is_Coming.txt\n",
      "INFO:haystack.utils.preprocessing:Converting data/tutorial3/193_Lord_Snow.txt\n",
      "INFO:haystack.utils.preprocessing:Converting data/tutorial3/126_Kissed_by_Fire.txt\n",
      "INFO:haystack.utils.preprocessing:Converting data/tutorial3/25_Game_of_Thrones__Season_2__soundtrack_.txt\n",
      "INFO:haystack.utils.preprocessing:Converting data/tutorial3/8_Eastwatch.txt\n",
      "INFO:haystack.utils.preprocessing:Converting data/tutorial3/98_Black_Friday__South_Park_.txt\n",
      "INFO:haystack.utils.preprocessing:Converting data/tutorial3/212_The_Children__Game_of_Thrones_.txt\n",
      "INFO:haystack.utils.preprocessing:Converting data/tutorial3/73_A_Man_Without_Honor.txt\n",
      "INFO:haystack.utils.preprocessing:Converting data/tutorial3/263_Tormund_Giantsbane.txt\n",
      "INFO:haystack.utils.preprocessing:Converting data/tutorial3/37_Joffrey_Baratheon.txt\n",
      "INFO:haystack.utils.preprocessing:Converting data/tutorial3/74_The_Prince_of_Winterfell.txt\n",
      "INFO:haystack.utils.preprocessing:Converting data/tutorial3/44_Daenerys_Targaryen.txt\n",
      "INFO:haystack.utils.preprocessing:Converting data/tutorial3/151_Ellaria_Sand.txt\n",
      "INFO:haystack.utils.preprocessing:Converting data/tutorial3/446_A_Golden_Crown.txt\n",
      "INFO:haystack.utils.preprocessing:Converting data/tutorial3/452_Fire_and_Blood__Game_of_Thrones_.txt\n",
      "INFO:haystack.utils.preprocessing:Converting data/tutorial3/396_Game_of_Thrones__season_6_.txt\n",
      "INFO:haystack.utils.preprocessing:Converting data/tutorial3/420_Blood_of_My_Blood.txt\n",
      "INFO:haystack.utils.preprocessing:Converting data/tutorial3/87_Valar_Dohaeris.txt\n",
      "INFO:haystack.utils.preprocessing:Converting data/tutorial3/453_Game_of_Thrones__2012_video_game_.txt\n",
      "INFO:haystack.utils.preprocessing:Converting data/tutorial3/444_Cripples__Bastards__and_Broken_Things.txt\n",
      "INFO:haystack.utils.preprocessing:Converting data/tutorial3/447_You_Win_or_You_Die.txt\n",
      "INFO:haystack.utils.preprocessing:Converting data/tutorial3/154_Margaery_Tyrell.txt\n",
      "INFO:haystack.utils.preprocessing:Converting data/tutorial3/30_List_of_A_Song_of_Ice_and_Fire_characters.txt\n",
      "INFO:haystack.utils.preprocessing:Converting data/tutorial3/10_Beyond_the_Wall__Game_of_Thrones_.txt\n",
      "INFO:haystack.utils.preprocessing:Converting data/tutorial3/97_Tyrion_Lannister.txt\n",
      "INFO:haystack.utils.preprocessing:Converting data/tutorial3/304_Hardhome.txt\n",
      "INFO:haystack.utils.preprocessing:Converting data/tutorial3/442_Game_of_Thrones__season_1_.txt\n",
      "INFO:haystack.utils.preprocessing:Converting data/tutorial3/0_Game_of_Thrones__season_8_.txt\n",
      "INFO:haystack.utils.preprocessing:Converting data/tutorial3/194_A_Song_of_Ice_and_Fire.txt\n",
      "INFO:haystack.utils.preprocessing:Converting data/tutorial3/403_Jenny_of_Oldstones.txt\n",
      "INFO:haystack.utils.preprocessing:Converting data/tutorial3/362_Winter_Is_Coming.txt\n",
      "INFO:haystack.utils.preprocessing:Converting data/tutorial3/2_Stormborn.txt\n",
      "INFO:haystack.utils.preprocessing:Converting data/tutorial3/224_The_Night_Lands.txt\n",
      "INFO:haystack.utils.preprocessing:Converting data/tutorial3/449_The_Pointy_End.txt\n",
      "INFO:haystack.utils.preprocessing:Converting data/tutorial3/21_The_Bear_and_the_Maiden_Fair__song_.txt\n",
      "INFO:haystack.utils.preprocessing:Converting data/tutorial3/331_Bran_Stark.txt\n",
      "INFO:haystack.utils.preprocessing:Converting data/tutorial3/76_Valar_Morghulis.txt\n",
      "INFO:haystack.utils.preprocessing:Converting data/tutorial3/342_Theon_Greyjoy.txt\n",
      "INFO:haystack.utils.preprocessing:Converting data/tutorial3/68_The_Gift__Game_of_Thrones_.txt\n",
      "INFO:haystack.utils.preprocessing:Converting data/tutorial3/102_The_Princess_and_the_Queen.txt\n",
      "INFO:haystack.utils.preprocessing:Converting data/tutorial3/306_The_Dance_of_Dragons.txt\n",
      "INFO:haystack.utils.preprocessing:Converting data/tutorial3/129_Second_Sons.txt\n",
      "INFO:haystack.utils.preprocessing:Converting data/tutorial3/345_A_Game_of_Thrones__comics_.txt\n",
      "INFO:haystack.document_stores.base:Duplicate Documents: Document with id '9e9a3181b6bc168b4a25429b641e8c86' already exists in index 'document'\n",
      "INFO:haystack.document_stores.base:Duplicate Documents: Document with id '9e9a3181b6bc168b4a25429b641e8c86' already exists in index 'document'\n",
      "INFO:haystack.document_stores.base:Duplicate Documents: Document with id '7ed12f389f7f085bb30c7d00abd26f81' already exists in index 'document'\n",
      "INFO:haystack.document_stores.base:Duplicate Documents: Document with id '7ed12f389f7f085bb30c7d00abd26f81' already exists in index 'document'\n",
      "INFO:haystack.document_stores.base:Duplicate Documents: Document with id '9e9a3181b6bc168b4a25429b641e8c86' already exists in index 'document'\n",
      "INFO:haystack.document_stores.base:Duplicate Documents: Document with id '1906b2acc6c764b69e619e5eb2fa646f' already exists in index 'document'\n",
      "INFO:haystack.document_stores.base:Duplicate Documents: Document with id '1906b2acc6c764b69e619e5eb2fa646f' already exists in index 'document'\n",
      "INFO:haystack.document_stores.base:Duplicate Documents: Document with id '9e9a3181b6bc168b4a25429b641e8c86' already exists in index 'document'\n",
      "INFO:haystack.document_stores.base:Duplicate Documents: Document with id '9e9a3181b6bc168b4a25429b641e8c86' already exists in index 'document'\n",
      "INFO:haystack.document_stores.base:Duplicate Documents: Document with id '1906b2acc6c764b69e619e5eb2fa646f' already exists in index 'document'\n",
      "INFO:haystack.document_stores.base:Duplicate Documents: Document with id '9e9a3181b6bc168b4a25429b641e8c86' already exists in index 'document'\n",
      "INFO:haystack.document_stores.base:Duplicate Documents: Document with id 'bbcb394a991cab6a7f8c18e5a294452f' already exists in index 'document'\n",
      "INFO:haystack.document_stores.base:Duplicate Documents: Document with id 'c8b51f62e0fccac8361c4464cc2c8f70' already exists in index 'document'\n",
      "INFO:haystack.document_stores.base:Duplicate Documents: Document with id '9e9a3181b6bc168b4a25429b641e8c86' already exists in index 'document'\n",
      "INFO:haystack.document_stores.base:Duplicate Documents: Document with id '9e9a3181b6bc168b4a25429b641e8c86' already exists in index 'document'\n",
      "INFO:haystack.document_stores.base:Duplicate Documents: Document with id '9e9a3181b6bc168b4a25429b641e8c86' already exists in index 'document'\n",
      "INFO:haystack.document_stores.base:Duplicate Documents: Document with id '7ed12f389f7f085bb30c7d00abd26f81' already exists in index 'document'\n",
      "INFO:haystack.document_stores.base:Duplicate Documents: Document with id '7ed12f389f7f085bb30c7d00abd26f81' already exists in index 'document'\n",
      "INFO:haystack.document_stores.base:Duplicate Documents: Document with id '7ed12f389f7f085bb30c7d00abd26f81' already exists in index 'document'\n",
      "INFO:haystack.document_stores.base:Duplicate Documents: Document with id '7ed12f389f7f085bb30c7d00abd26f81' already exists in index 'document'\n",
      "INFO:haystack.document_stores.base:Duplicate Documents: Document with id '9e9a3181b6bc168b4a25429b641e8c86' already exists in index 'document'\n",
      "INFO:haystack.document_stores.base:Duplicate Documents: Document with id '9e9a3181b6bc168b4a25429b641e8c86' already exists in index 'document'\n",
      "INFO:haystack.document_stores.base:Duplicate Documents: Document with id '356a0eb6f7957594eb516e6122a5cbe7' already exists in index 'document'\n",
      "INFO:haystack.document_stores.base:Duplicate Documents: Document with id '7ed12f389f7f085bb30c7d00abd26f81' already exists in index 'document'\n",
      "INFO:haystack.document_stores.base:Duplicate Documents: Document with id '9e9a3181b6bc168b4a25429b641e8c86' already exists in index 'document'\n",
      "INFO:haystack.document_stores.base:Duplicate Documents: Document with id 'c8b51f62e0fccac8361c4464cc2c8f70' already exists in index 'document'\n",
      "INFO:haystack.document_stores.base:Duplicate Documents: Document with id '1906b2acc6c764b69e619e5eb2fa646f' already exists in index 'document'\n",
      "INFO:haystack.document_stores.base:Duplicate Documents: Document with id 'c8b51f62e0fccac8361c4464cc2c8f70' already exists in index 'document'\n",
      "INFO:haystack.document_stores.base:Duplicate Documents: Document with id '9e9a3181b6bc168b4a25429b641e8c86' already exists in index 'document'\n",
      "INFO:haystack.document_stores.base:Duplicate Documents: Document with id '9e9a3181b6bc168b4a25429b641e8c86' already exists in index 'document'\n",
      "INFO:haystack.document_stores.base:Duplicate Documents: Document with id '9e9a3181b6bc168b4a25429b641e8c86' already exists in index 'document'\n",
      "INFO:haystack.document_stores.base:Duplicate Documents: Document with id '7ed12f389f7f085bb30c7d00abd26f81' already exists in index 'document'\n",
      "INFO:haystack.document_stores.base:Duplicate Documents: Document with id 'b53667a464df31878e75c82ca2c9268f' already exists in index 'document'\n",
      "INFO:haystack.document_stores.base:Duplicate Documents: Document with id '7ed12f389f7f085bb30c7d00abd26f81' already exists in index 'document'\n",
      "INFO:haystack.document_stores.base:Duplicate Documents: Document with id '7ed12f389f7f085bb30c7d00abd26f81' already exists in index 'document'\n",
      "INFO:haystack.document_stores.base:Duplicate Documents: Document with id 'c8b51f62e0fccac8361c4464cc2c8f70' already exists in index 'document'\n",
      "INFO:haystack.document_stores.base:Duplicate Documents: Document with id '7ed12f389f7f085bb30c7d00abd26f81' already exists in index 'document'\n",
      "INFO:haystack.document_stores.base:Duplicate Documents: Document with id 'c8b51f62e0fccac8361c4464cc2c8f70' already exists in index 'document'\n",
      "INFO:haystack.document_stores.base:Duplicate Documents: Document with id '7ed12f389f7f085bb30c7d00abd26f81' already exists in index 'document'\n",
      "INFO:haystack.document_stores.base:Duplicate Documents: Document with id '9e9a3181b6bc168b4a25429b641e8c86' already exists in index 'document'\n",
      "INFO:haystack.document_stores.base:Duplicate Documents: Document with id 'c8b51f62e0fccac8361c4464cc2c8f70' already exists in index 'document'\n",
      "INFO:haystack.document_stores.base:Duplicate Documents: Document with id '9e9a3181b6bc168b4a25429b641e8c86' already exists in index 'document'\n",
      "INFO:haystack.document_stores.base:Duplicate Documents: Document with id '9e9a3181b6bc168b4a25429b641e8c86' already exists in index 'document'\n",
      "INFO:haystack.document_stores.base:Duplicate Documents: Document with id '9e9a3181b6bc168b4a25429b641e8c86' already exists in index 'document'\n",
      "INFO:haystack.document_stores.base:Duplicate Documents: Document with id 'c8b51f62e0fccac8361c4464cc2c8f70' already exists in index 'document'\n",
      "INFO:haystack.document_stores.base:Duplicate Documents: Document with id '9e9a3181b6bc168b4a25429b641e8c86' already exists in index 'document'\n",
      "INFO:haystack.document_stores.base:Duplicate Documents: Document with id '356a0eb6f7957594eb516e6122a5cbe7' already exists in index 'document'\n",
      "INFO:haystack.document_stores.base:Duplicate Documents: Document with id '7ed12f389f7f085bb30c7d00abd26f81' already exists in index 'document'\n",
      "INFO:haystack.document_stores.base:Duplicate Documents: Document with id '3df21acc4c6427e99cc71a01f56667a6' already exists in index 'document'\n",
      "INFO:haystack.document_stores.base:Duplicate Documents: Document with id 'c8b51f62e0fccac8361c4464cc2c8f70' already exists in index 'document'\n",
      "INFO:haystack.document_stores.base:Duplicate Documents: Document with id '817c9fdc70cdd9a74075ff1a32503409' already exists in index 'document'\n",
      "INFO:haystack.document_stores.base:Duplicate Documents: Document with id '7ed12f389f7f085bb30c7d00abd26f81' already exists in index 'document'\n",
      "INFO:haystack.document_stores.base:Duplicate Documents: Document with id '9e9a3181b6bc168b4a25429b641e8c86' already exists in index 'document'\n",
      "INFO:haystack.document_stores.base:Duplicate Documents: Document with id '9e9a3181b6bc168b4a25429b641e8c86' already exists in index 'document'\n",
      "INFO:haystack.document_stores.base:Duplicate Documents: Document with id '9e9a3181b6bc168b4a25429b641e8c86' already exists in index 'document'\n",
      "INFO:haystack.document_stores.base:Duplicate Documents: Document with id '7ed12f389f7f085bb30c7d00abd26f81' already exists in index 'document'\n",
      "INFO:haystack.document_stores.base:Duplicate Documents: Document with id '7ed12f389f7f085bb30c7d00abd26f81' already exists in index 'document'\n",
      "INFO:haystack.document_stores.base:Duplicate Documents: Document with id 'c8b51f62e0fccac8361c4464cc2c8f70' already exists in index 'document'\n",
      "INFO:haystack.document_stores.base:Duplicate Documents: Document with id '9e9a3181b6bc168b4a25429b641e8c86' already exists in index 'document'\n",
      "INFO:haystack.document_stores.base:Duplicate Documents: Document with id 'c8b51f62e0fccac8361c4464cc2c8f70' already exists in index 'document'\n",
      "INFO:haystack.document_stores.base:Duplicate Documents: Document with id 'c8b51f62e0fccac8361c4464cc2c8f70' already exists in index 'document'\n",
      "INFO:haystack.document_stores.base:Duplicate Documents: Document with id 'c8b51f62e0fccac8361c4464cc2c8f70' already exists in index 'document'\n",
      "INFO:haystack.document_stores.base:Duplicate Documents: Document with id 'c8b51f62e0fccac8361c4464cc2c8f70' already exists in index 'document'\n",
      "INFO:haystack.document_stores.base:Duplicate Documents: Document with id '9e9a3181b6bc168b4a25429b641e8c86' already exists in index 'document'\n",
      "INFO:haystack.document_stores.base:Duplicate Documents: Document with id '9e9a3181b6bc168b4a25429b641e8c86' already exists in index 'document'\n",
      "INFO:haystack.document_stores.base:Duplicate Documents: Document with id 'c8b51f62e0fccac8361c4464cc2c8f70' already exists in index 'document'\n",
      "INFO:haystack.document_stores.base:Duplicate Documents: Document with id '7ed12f389f7f085bb30c7d00abd26f81' already exists in index 'document'\n",
      "INFO:haystack.document_stores.base:Duplicate Documents: Document with id '9e9a3181b6bc168b4a25429b641e8c86' already exists in index 'document'\n",
      "INFO:haystack.document_stores.base:Duplicate Documents: Document with id 'c8b51f62e0fccac8361c4464cc2c8f70' already exists in index 'document'\n",
      "INFO:haystack.document_stores.base:Duplicate Documents: Document with id '7ed12f389f7f085bb30c7d00abd26f81' already exists in index 'document'\n",
      "INFO:haystack.document_stores.base:Duplicate Documents: Document with id '7ed12f389f7f085bb30c7d00abd26f81' already exists in index 'document'\n",
      "INFO:haystack.document_stores.base:Duplicate Documents: Document with id '6c707fba969f19cd663ffd942f0fd20a' already exists in index 'document'\n",
      "INFO:haystack.document_stores.base:Duplicate Documents: Document with id 'b8566e1914164a36b30f649be0cde065' already exists in index 'document'\n",
      "INFO:haystack.document_stores.base:Duplicate Documents: Document with id '7ed12f389f7f085bb30c7d00abd26f81' already exists in index 'document'\n",
      "INFO:haystack.document_stores.base:Duplicate Documents: Document with id '1906b2acc6c764b69e619e5eb2fa646f' already exists in index 'document'\n",
      "INFO:haystack.document_stores.base:Duplicate Documents: Document with id 'c8b51f62e0fccac8361c4464cc2c8f70' already exists in index 'document'\n",
      "INFO:haystack.document_stores.base:Duplicate Documents: Document with id '9e9a3181b6bc168b4a25429b641e8c86' already exists in index 'document'\n",
      "INFO:haystack.document_stores.base:Duplicate Documents: Document with id '9e9a3181b6bc168b4a25429b641e8c86' already exists in index 'document'\n",
      "INFO:haystack.document_stores.base:Duplicate Documents: Document with id '9e9a3181b6bc168b4a25429b641e8c86' already exists in index 'document'\n",
      "INFO:haystack.document_stores.base:Duplicate Documents: Document with id '994b9df41876668d9a5cae9510915a24' already exists in index 'document'\n",
      "INFO:haystack.document_stores.base:Duplicate Documents: Document with id '1906b2acc6c764b69e619e5eb2fa646f' already exists in index 'document'\n",
      "INFO:haystack.document_stores.base:Duplicate Documents: Document with id '9e9a3181b6bc168b4a25429b641e8c86' already exists in index 'document'\n",
      "INFO:haystack.document_stores.base:Duplicate Documents: Document with id 'c8b51f62e0fccac8361c4464cc2c8f70' already exists in index 'document'\n",
      "INFO:haystack.document_stores.base:Duplicate Documents: Document with id '9e9a3181b6bc168b4a25429b641e8c86' already exists in index 'document'\n",
      "INFO:haystack.document_stores.base:Duplicate Documents: Document with id 'c8b51f62e0fccac8361c4464cc2c8f70' already exists in index 'document'\n",
      "INFO:haystack.document_stores.base:Duplicate Documents: Document with id '7ed12f389f7f085bb30c7d00abd26f81' already exists in index 'document'\n",
      "INFO:haystack.document_stores.base:Duplicate Documents: Document with id '1906b2acc6c764b69e619e5eb2fa646f' already exists in index 'document'\n",
      "INFO:haystack.document_stores.base:Duplicate Documents: Document with id 'c8b51f62e0fccac8361c4464cc2c8f70' already exists in index 'document'\n",
      "INFO:haystack.document_stores.base:Duplicate Documents: Document with id '7ed12f389f7f085bb30c7d00abd26f81' already exists in index 'document'\n",
      "INFO:haystack.document_stores.base:Duplicate Documents: Document with id 'c8b51f62e0fccac8361c4464cc2c8f70' already exists in index 'document'\n",
      "INFO:haystack.document_stores.base:Duplicate Documents: Document with id '994b9df41876668d9a5cae9510915a24' already exists in index 'document'\n",
      "INFO:haystack.document_stores.base:Duplicate Documents: Document with id '9e9a3181b6bc168b4a25429b641e8c86' already exists in index 'document'\n",
      "INFO:haystack.document_stores.base:Duplicate Documents: Document with id '7ed12f389f7f085bb30c7d00abd26f81' already exists in index 'document'\n",
      "INFO:haystack.document_stores.base:Duplicate Documents: Document with id '7ed12f389f7f085bb30c7d00abd26f81' already exists in index 'document'\n",
      "INFO:haystack.document_stores.base:Duplicate Documents: Document with id '7ed12f389f7f085bb30c7d00abd26f81' already exists in index 'document'\n",
      "INFO:haystack.document_stores.base:Duplicate Documents: Document with id '356a0eb6f7957594eb516e6122a5cbe7' already exists in index 'document'\n",
      "INFO:haystack.document_stores.base:Duplicate Documents: Document with id '9e9a3181b6bc168b4a25429b641e8c86' already exists in index 'document'\n",
      "INFO:haystack.document_stores.base:Duplicate Documents: Document with id '9e9a3181b6bc168b4a25429b641e8c86' already exists in index 'document'\n",
      "INFO:haystack.document_stores.base:Duplicate Documents: Document with id '9e9a3181b6bc168b4a25429b641e8c86' already exists in index 'document'\n",
      "INFO:haystack.document_stores.base:Duplicate Documents: Document with id '9e9a3181b6bc168b4a25429b641e8c86' already exists in index 'document'\n",
      "INFO:haystack.document_stores.base:Duplicate Documents: Document with id '5d79fbf801011475553a09ab068f02e2' already exists in index 'document'\n"
     ]
    },
    {
     "output_type": "stream",
     "name": "stdout",
     "text": [
      "[<Document: {'content': \"'''''A Clash of Kings''''' is the second novel in ''A Song of Ice and Fire'', an epic fantasy series by American author George R. R. Martin expected to consist of seven volumes. It was first published on 16 November 1998 in the United Kingdom, although the first United States edition did not follow until February 2, 1999 Like its predecessor, ''A Game of Thrones'', it won the Locus Award (in 1999) for Best Novel and was nominated for the Nebula Award (also in 1999) for best novel. In May 2005 Meisha Merlin released a limited edition of the novel, fully illustrated by John Howe.\\nThe novel has been adapted for television by HBO as the second season of the TV series ''Game of Thrones''.\\n''A Clash of Kings'' is also the name of the first expansion to the ''Game of Thrones'' board game.\", 'content_type': 'text', 'score': None, 'meta': {'name': '198_A_Clash_of_Kings.txt'}, 'embedding': None, 'id': '93db7b2efade3240851b5e6fffb1eb07'}>, <Document: {'content': \"\\n== Plot summary ==\\n''A Clash of Kings'' depicts the Seven Kingdoms of Westeros in civil war, while the Night's Watch mounts a reconnaissance to investigate the mysterious people known as wildlings. Meanwhile, Daenerys Targaryen continues her plan to reconquer the Seven Kingdoms.\", 'content_type': 'text', 'score': None, 'meta': {'name': '198_A_Clash_of_Kings.txt'}, 'embedding': None, 'id': '4978baa48af84825156d4e2893b1fe3f'}>, <Document: {'content': '\\n===In the Seven Kingdoms===\\nWith King Robert Baratheon dead, his purported son Joffrey and his brothers Renly and Stannis all claim the throne of the Seven Kingdoms. Two regions attempt to secede from the realm: Robb Stark is declared \"King in the North\" while Balon Greyjoy declares himself king of the Iron Islands. The war among these contenders is dubbed the War of the Five Kings.\\nStannis Baratheon, claiming the throne as Robert\\'s eldest brother and therefore heir, is supported by Melisandre, a foreign priestess who believes Stannis to be the reincarnation of Azor Ahai, a messianic figure of her faith. Renly Baratheon has married Margaery Tyrell, the daughter of the wealthy Lord Mace Tyrell, who is supporting Renly\\'s attempt to usurp the throne. Robb sends his mother Catelyn Stark to meet with Renly and Stannis to discuss an alliance against Joffrey\\'s family, the Lannisters, but she is unable to reach an agreement with them. Melisandre uses magic to send a shadow to assassinate Renly; after witnessing Renly\\'s death, Catelyn and Renly\\'s bodyguard Brienne of Tarth flee the scene. Having lost Renly, some of his followers shift their support to Stannis.\\nTyrion Lannister, Joffrey\\'s uncle, arrives at King\\'s Landing as acting Hand of the King, the senior adviser to Joffrey\\'s reign. Whilst jockeying for power against Joffrey\\'s mother, the Queen Regent Cersei, Tyrion improves the defenses of the city. Learning of Renly\\'s death, and knowing that the Tyrells will not support Stannis, Tyrion sends the crown\\'s treasurer Petyr “Littlefinger” Baelish to negotiate a marriage alliance between Margaery and Joffrey. Riots break out in the city due to Joffrey\\'s cruelty and food shortages caused by the ongoing war.\\nRobb wins several victories against the Lannisters while Robb\\'s younger brother Bran rules the Northern stronghold of Winterfell in his absence. Robb sends his friend Theon Greyjoy, Balon Greyjoy\\'s son, who grew up as a hostage in Winterfell, to negotiate an alliance between the North and the Iron Islands. Theon betrays Robb and attacks Winterfell, taking the castle and capturing Bran and his younger brother Rickon. When Bran and Rickon escape, Theon fakes their deaths. Believing this ruse, Stark supporters besiege the castle, including a force from the Starks\\' sometime ally House Bolton. However, the Bolton soldiers turn against the Stark and Greyjoy forces alike, burn Winterfell, slaughter its inhabitants, and take Theon prisoner.\\nRobb\\'s sister Arya is taken north posing as a new recruit for the Night\\'s Watch. The recruits are attacked by Lannister forces, and the survivors are taken to the gigantic castle of Harrenhal, which is controlled by Joffrey\\'s grandfather Tywin Lannister, and put to work as servants. For saving his life during the attack, a mysterious man named Jaqen H\\'ghar promises to repay Arya by killing three men of her choice. Arya leverages this offer to help Northern forces retake control of Harrenhal. Jaqen gives Arya a mysterious iron coin and tells her to find him in the foreign city of Braavos if she should ever desire to learn his secrets. Arya soon escapes the castle.\\nStannis\\' army launches assaults on King\\'s Landing by both land and sea in a battle in Blackwater Bay. Under Tyrion\\'s command, the Lannister forces use \"wildfire\" (similar to Greek fire) to ignite the bay, and raise a massive chain across its mouth to prevent Stannis\\' fleet from retreating. Tywin leads his army and the Tyrell forces to the defense of King\\'s Landing, and Stannis\\'s forces are defeated. During the battle, Tyrion is attacked and injured by a knight of Joffrey\\'s Kingsguard; by the time Tyrion regains consciousness after the battle, Tywin has assumed the post of Hand of the King.', 'content_type': 'text', 'score': None, 'meta': {'name': '198_A_Clash_of_Kings.txt'}, 'embedding': None, 'id': 'a37c3ffd3e39cbd85f5e764264a11eb9'}>]\n"
     ]
    },
    {
     "output_type": "stream",
     "name": "stderr",
     "text": [
      "INFO:haystack.document_stores.base:Duplicate Documents: Document with id '5d79fbf801011475553a09ab068f02e2' already exists in index 'document'\n",
      "INFO:haystack.document_stores.base:Duplicate Documents: Document with id '9e9a3181b6bc168b4a25429b641e8c86' already exists in index 'document'\n",
      "INFO:haystack.document_stores.base:Duplicate Documents: Document with id '817c9fdc70cdd9a74075ff1a32503409' already exists in index 'document'\n",
      "INFO:haystack.document_stores.base:Duplicate Documents: Document with id '4fe5d3396a52edff7367d6137a7ea654' already exists in index 'document'\n",
      "INFO:haystack.document_stores.base:Duplicate Documents: Document with id '7ed12f389f7f085bb30c7d00abd26f81' already exists in index 'document'\n",
      "INFO:haystack.document_stores.base:Duplicate Documents: Document with id '7ed12f389f7f085bb30c7d00abd26f81' already exists in index 'document'\n",
      "INFO:haystack.document_stores.base:Duplicate Documents: Document with id '9e9a3181b6bc168b4a25429b641e8c86' already exists in index 'document'\n",
      "INFO:haystack.document_stores.base:Duplicate Documents: Document with id '1906b2acc6c764b69e619e5eb2fa646f' already exists in index 'document'\n",
      "INFO:haystack.document_stores.base:Duplicate Documents: Document with id '7ed12f389f7f085bb30c7d00abd26f81' already exists in index 'document'\n",
      "INFO:haystack.document_stores.base:Duplicate Documents: Document with id '9e9a3181b6bc168b4a25429b641e8c86' already exists in index 'document'\n",
      "INFO:haystack.document_stores.base:Duplicate Documents: Document with id '9e9a3181b6bc168b4a25429b641e8c86' already exists in index 'document'\n",
      "INFO:haystack.document_stores.base:Duplicate Documents: Document with id '7ed12f389f7f085bb30c7d00abd26f81' already exists in index 'document'\n",
      "INFO:haystack.document_stores.base:Duplicate Documents: Document with id '7ed12f389f7f085bb30c7d00abd26f81' already exists in index 'document'\n",
      "INFO:haystack.document_stores.base:Duplicate Documents: Document with id '6b61a45485d568ee7607061f918379c2' already exists in index 'document'\n",
      "INFO:haystack.document_stores.base:Duplicate Documents: Document with id '7ed12f389f7f085bb30c7d00abd26f81' already exists in index 'document'\n",
      "INFO:haystack.document_stores.base:Duplicate Documents: Document with id '1906b2acc6c764b69e619e5eb2fa646f' already exists in index 'document'\n",
      "INFO:haystack.document_stores.base:Duplicate Documents: Document with id '1906b2acc6c764b69e619e5eb2fa646f' already exists in index 'document'\n",
      "INFO:haystack.document_stores.base:Duplicate Documents: Document with id '5d79fbf801011475553a09ab068f02e2' already exists in index 'document'\n",
      "INFO:haystack.document_stores.base:Duplicate Documents: Document with id 'e089ba67cf8dba3efa466028c05de19f' already exists in index 'document'\n",
      "INFO:haystack.document_stores.base:Duplicate Documents: Document with id '1906b2acc6c764b69e619e5eb2fa646f' already exists in index 'document'\n",
      "INFO:haystack.document_stores.base:Duplicate Documents: Document with id '9e9a3181b6bc168b4a25429b641e8c86' already exists in index 'document'\n",
      "INFO:haystack.document_stores.base:Duplicate Documents: Document with id '1906b2acc6c764b69e619e5eb2fa646f' already exists in index 'document'\n",
      "INFO:haystack.document_stores.base:Duplicate Documents: Document with id '7ed12f389f7f085bb30c7d00abd26f81' already exists in index 'document'\n",
      "INFO:haystack.document_stores.base:Duplicate Documents: Document with id 'd3488ca3ea1ce433c8bce82b4b06909a' already exists in index 'document'\n",
      "INFO:haystack.document_stores.base:Duplicate Documents: Document with id '9e9a3181b6bc168b4a25429b641e8c86' already exists in index 'document'\n",
      "INFO:haystack.document_stores.base:Duplicate Documents: Document with id '9e9a3181b6bc168b4a25429b641e8c86' already exists in index 'document'\n",
      "INFO:haystack.document_stores.base:Duplicate Documents: Document with id '5d79fbf801011475553a09ab068f02e2' already exists in index 'document'\n",
      "INFO:haystack.document_stores.base:Duplicate Documents: Document with id '9e9a3181b6bc168b4a25429b641e8c86' already exists in index 'document'\n",
      "INFO:haystack.document_stores.base:Duplicate Documents: Document with id '9e9a3181b6bc168b4a25429b641e8c86' already exists in index 'document'\n",
      "INFO:haystack.document_stores.base:Duplicate Documents: Document with id '9e9a3181b6bc168b4a25429b641e8c86' already exists in index 'document'\n",
      "INFO:haystack.document_stores.base:Duplicate Documents: Document with id '9e9a3181b6bc168b4a25429b641e8c86' already exists in index 'document'\n",
      "INFO:haystack.document_stores.base:Duplicate Documents: Document with id '7ed12f389f7f085bb30c7d00abd26f81' already exists in index 'document'\n",
      "INFO:haystack.document_stores.base:Duplicate Documents: Document with id 'c8b51f62e0fccac8361c4464cc2c8f70' already exists in index 'document'\n",
      "INFO:haystack.document_stores.base:Duplicate Documents: Document with id 'c8b51f62e0fccac8361c4464cc2c8f70' already exists in index 'document'\n",
      "INFO:haystack.document_stores.base:Duplicate Documents: Document with id '9e9a3181b6bc168b4a25429b641e8c86' already exists in index 'document'\n",
      "INFO:haystack.document_stores.base:Duplicate Documents: Document with id '619d203987121dd9c5c5e12e8e1fb153' already exists in index 'document'\n",
      "INFO:haystack.document_stores.base:Duplicate Documents: Document with id '7ed12f389f7f085bb30c7d00abd26f81' already exists in index 'document'\n",
      "INFO:haystack.document_stores.base:Duplicate Documents: Document with id '9e9a3181b6bc168b4a25429b641e8c86' already exists in index 'document'\n",
      "INFO:haystack.document_stores.base:Duplicate Documents: Document with id '9e9a3181b6bc168b4a25429b641e8c86' already exists in index 'document'\n"
     ]
    }
   ]
  },
  {
   "cell_type": "markdown",
   "source": [],
   "metadata": {
    "id": "eaeYiIXmZOJ5",
    "pycharm": {
     "name": "#%% md\n"
    }
   }
  },
  {
   "cell_type": "code",
   "source": [
    "# An in-memory TfidfRetriever based on Pandas dataframes\n",
    "from haystack.nodes import TfidfRetriever\n",
    "\n",
    "retriever = TfidfRetriever(document_store=document_store)"
   ],
   "metadata": {
    "colab": {
     "base_uri": "https://localhost:8080/"
    },
    "id": "tvHuGd65caRY",
    "outputId": "f0323d11-e393-401e-f9b7-aa5795d5298e",
    "pycharm": {
     "name": "#%%\n"
    }
   },
   "execution_count": 29,
   "outputs": [
    {
     "output_type": "stream",
     "name": "stderr",
     "text": [
      "INFO:haystack.nodes.retriever.sparse:Found 2357 candidate paragraphs from 2357 docs in DB\n"
     ]
    }
   ]
  },
  {
   "cell_type": "code",
   "source": [
    "\n",
    "from haystack.nodes import FARMReader\n",
    "\n",
    "\n",
    "# Load a  local model or any of the QA models on\n",
    "# Hugging Face's model hub (https://huggingface.co/models)\n",
    "reader = FARMReader(model_name_or_path=\"deepset/roberta-base-squad2\", use_gpu=True)"
   ],
   "metadata": {
    "colab": {
     "base_uri": "https://localhost:8080/"
    },
    "id": "wLgIjllKcs6K",
    "outputId": "cfd103da-b256-45f7-8486-76a42c1b0d4c",
    "pycharm": {
     "name": "#%%\n"
    }
   },
   "execution_count": 30,
   "outputs": [
    {
     "output_type": "stream",
     "name": "stderr",
     "text": [
      "INFO:haystack.modeling.utils:Using devices: CUDA:0 - Number of GPUs: 1\n",
      "INFO:haystack.modeling.utils:Using devices: CUDA:0 - Number of GPUs: 1\n",
      "INFO:haystack.modeling.model.language_model: * LOADING MODEL: 'deepset/roberta-base-squad2' (Roberta)\n",
      "INFO:haystack.modeling.model.language_model:Auto-detected model language: english\n",
      "INFO:haystack.modeling.model.language_model:Loaded 'deepset/roberta-base-squad2' (Roberta model) from model hub.\n",
      "INFO:haystack.modeling.utils:Using devices: CUDA:0 - Number of GPUs: 1\n"
     ]
    }
   ]
  },
  {
   "cell_type": "code",
   "source": [
    "from haystack.pipelines import ExtractiveQAPipeline\n",
    "\n",
    "pipe = ExtractiveQAPipeline(reader, retriever)"
   ],
   "metadata": {
    "id": "i_CGF7qvczri",
    "pycharm": {
     "name": "#%%\n"
    }
   },
   "execution_count": 31,
   "outputs": []
  },
  {
   "cell_type": "code",
   "source": [
    "# You can configure how many candidates the reader and retriever shall return\n",
    "# The higher top_k for retriever, the better (but also the slower) your answers.\n",
    "prediction = pipe.run(\n",
    "    query=\"Who is the father of Arya Stark?\", params={\"Retriever\": {\"top_k\": 10}, \"Reader\": {\"top_k\": 5}}\n",
    ")"
   ],
   "metadata": {
    "colab": {
     "base_uri": "https://localhost:8080/"
    },
    "id": "wkTXgOecc9IF",
    "outputId": "bf3f8f1b-e761-4632-b711-fc62a36a357d",
    "pycharm": {
     "name": "#%%\n"
    }
   },
   "execution_count": 32,
   "outputs": [
    {
     "output_type": "stream",
     "name": "stderr",
     "text": [
      "Inferencing Samples: 100%|██████████| 1/1 [00:02<00:00,  2.88s/ Batches]\n"
     ]
    }
   ]
  },
  {
   "cell_type": "code",
   "source": [
    "from pprint import pprint\n",
    "\n",
    "pprint(prediction)\n"
   ],
   "metadata": {
    "colab": {
     "base_uri": "https://localhost:8080/"
    },
    "id": "MU18-ekEmjq7",
    "outputId": "7c29ccfe-9746-46c3-8d20-352d4ead668e",
    "pycharm": {
     "name": "#%%\n"
    }
   },
   "execution_count": 33,
   "outputs": [
    {
     "output_type": "stream",
     "name": "stdout",
     "text": [
      "{'answers': [<Answer {'answer': 'Eddard', 'type': 'extractive', 'score': 0.9919580221176147, 'context': \"s Nymeria after a legendary warrior queen. She travels with her father, Eddard, to King's Landing when he is made Hand of the King. Before she leaves,\", 'offsets_in_document': [{'start': 147, 'end': 153}], 'offsets_in_context': [{'start': 72, 'end': 78}], 'document_id': 'ba2a8e87ddd95e380bec55983ee7d55f', 'meta': {'name': '43_Arya_Stark.txt'}}>,\n",
      "             <Answer {'answer': 'Ned', 'type': 'extractive', 'score': 0.9767245054244995, 'context': \"\\n====Season 1====\\nArya accompanies her father Ned and her sister Sansa to King's Landing. Before their departure, Arya's half-brother Jon Snow gifts A\", 'offsets_in_document': [{'start': 46, 'end': 49}], 'offsets_in_context': [{'start': 46, 'end': 49}], 'document_id': '180c2a6b36369712b361a80842e79356', 'meta': {'name': '43_Arya_Stark.txt'}}>,\n",
      "             <Answer {'answer': 'Robert Baratheon', 'type': 'extractive', 'score': 0.9408853054046631, 'context': 'hen Gendry gives it to Arya, he tells her he is the bastard son of Robert Baratheon. Aware of their chances of dying in the upcoming battle and Arya w', 'offsets_in_document': [{'start': 358, 'end': 374}], 'offsets_in_context': [{'start': 67, 'end': 83}], 'document_id': '7170114dfceb7ede0002a57d1df96505', 'meta': {'name': '43_Arya_Stark.txt'}}>,\n",
      "             <Answer {'answer': 'Eddard and Catelyn Stark', 'type': 'extractive', 'score': 0.9058837890625, 'context': \"tark ===\\nArya Stark is the third child and younger daughter of Eddard and Catelyn Stark. She serves as a POV character for 33 chapters throughout ''A \", 'offsets_in_document': [{'start': 74, 'end': 98}], 'offsets_in_context': [{'start': 63, 'end': 87}], 'document_id': '965789c741c68963042e85b6e7b89757', 'meta': {'name': '30_List_of_A_Song_of_Ice_and_Fire_characters.txt'}}>,\n",
      "             <Answer {'answer': 'Lord Eddard Stark', 'type': 'extractive', 'score': 0.8930397033691406, 'context': 'ark daughters.\\nDuring the Tourney of the Hand to honour her father Lord Eddard Stark, Sansa Stark is enchanted by the knights performing in the event.', 'offsets_in_document': [{'start': 659, 'end': 676}], 'offsets_in_context': [{'start': 67, 'end': 84}], 'document_id': 'd1f36ec7170e4c46cde65787fe125dfe', 'meta': {'name': '332_Sansa_Stark.txt'}}>],\n",
      " 'documents': [<Document: {'content': \"\\n===Arya Stark===\\n'''Arya Stark''' portrayed by Maisie Williams. Arya Stark of House Stark is the younger daughter and third child of Lord Eddard and Catelyn Stark of Winterfell. Ever the tomboy, Arya would rather be training to use weapons than sewing with a needle. She names her direwolf Nymeria, after a legendary warrior queen.\", 'content_type': 'text', 'score': None, 'meta': {'name': '349_List_of_Game_of_Thrones_characters.txt'}, 'embedding': None, 'id': '623e446a1b048d81130a29e262152cd5'}>,\n",
      "               <Document: {'content': \"\\n====Season 8====\\nArya reunites with Jon, Gendry, and the Hound, who have all journeyed to Winterfell with Daenerys Targaryen's forces to make a stand against the approaching White Walkers. Arya asks Gendry, who is forging dragonglass into weapons, to make her a special dragonglass staff. When Gendry gives it to Arya, he tells her he is the bastard son of Robert Baratheon. Aware of their chances of dying in the upcoming battle and Arya wanting to experience sex, Arya and Gendry sleep together. Later that night, Arya hears the signal alerting her that the White Walkers' army has arrived.\\nArya fights in the battle against the dead with Sandor Clegane and Beric Dondarrion. Beric sacrifices himself to allow Arya and the Hound to escape the wights. A battered Arya sprints through the corridors of Winterfell and encounters Melisandre, who suggests to Arya that she is meant to kill the Night King. In the Godswood, just as the Night King is about to kill Bran, Arya sneaks up and stabs the Night King with the Valyrian steel dagger Bran gave her. Upon killing the Night King, the White Walkers and wights are all destroyed. \\nIn the aftermath of the battle, Arya is proposed to by Gendry, who had just been legitimised as a Baratheon by Daenerys. Arya declines, as she does not want the life of a lady. Sansa and Arya tell Jon they don't trust Daenerys, but Jon defends her. Arya learns that Jon is the son of her aunt, Lyanna Stark, and Rhaegar Targaryen after Jon swears her and Sansa to secrecy about his true parentage.\\nArya journeys south to King's Landing with the Hound to kill Cersei. The two infiltrate the Red Keep with the civilians Cersei is using to deter Daenerys' attack. Despite the city's surrender to Daenerys, she begins laying waste to the populace atop of Drogon. In his mission for revenge against his brother, the Mountain, the Hound seeks out the Mountain but urges Arya to leave and give up her quest for revenge to avoid a life consumed by it. Arya thanks the Hound, calling him by his name for the first time. She tries and fails to save the smallfolk, narrowly avoiding being incinerated in Daenerys' attack on the city, but survives. In the aftermath, Arya is reunited with Jon and warns him that he and the Starks are not safe from Daenerys. Jon tries but is unable to dissuade Daenerys from further destruction and ultimately assassinates her. He is imprisoned. Weeks later, Arya joins the other lords and ladies of Westeros in a council to decide who shall lead the Seven Kingdoms. Bran is chosen as king, though Arya abstains from voting as Sansa declares the North's independence. Arya, Sansa, and Bran bid Jon farewell as he is exiled. \\nArya reveals that she is leaving Westeros to see what lies west of the continent. She embarks on her voyage aboard a Stark ship.\", 'content_type': 'text', 'score': None, 'meta': {'name': '43_Arya_Stark.txt'}, 'embedding': None, 'id': '7170114dfceb7ede0002a57d1df96505'}>,\n",
      "               <Document: {'content': '\\n====Season 1====\\nArya accompanies her father Ned and her sister Sansa to King\\'s Landing. Before their departure, Arya\\'s half-brother Jon Snow gifts Arya a sword which she dubs \"Needle\". On the Kingsroad, Arya is sparring with a butcher\\'s boy, Mycah, when Sansa\\'s betrothed Prince Joffrey Baratheon attacks Mycah, prompting Arya\\'s direwolf Nymeria to bite Joffrey. Arya shoos Nymeria away so she is not killed, but is furious when Sansa later refuses to support her version of events. Mycah is later killed by Joffrey\\'s bodyguard Sandor \"The Hound\" Clegane, earning him Arya\\'s hatred. Ned arranges for Arya to have sword lessons with the Braavosi Syrio Forel, who later defends her from Ser Meryn Trant after Joffrey ascends to the throne and kills the Stark household. Arya flees the Red Keep, accidentally killing a stable boy in her escape, hiding out as a beggar in the streets of King\\'s Landing. Ned is eventually taken to the Great Sept of Baelor to face judgment; he spots Arya in the crowd, and alerts the Night\\'s Watch recruiter Yoren to her presence. Yoren prevents Arya from witnessing Ned\\'s execution and has her pose as a boy, \"Arry\", to avoid detection as she joins Yoren\\'s recruits traveling north to Castle Black.', 'content_type': 'text', 'score': None, 'meta': {'name': '43_Arya_Stark.txt'}, 'embedding': None, 'id': '180c2a6b36369712b361a80842e79356'}>,\n",
      "               <Document: {'content': '\\n===\\'\\'A Game of Thrones\\'\\'===\\nSansa Stark begins the novel by being betrothed to Crown Prince Joffrey Baratheon, believing Joffrey to be a gallant prince. While Joffrey and Sansa are walking through the woods, Joffrey notices Arya sparring with the butcher\\'s boy, Mycah. A fight breaks out and Joffrey is attacked by Nymeria (Arya\\'s direwolf) after Joffrey threatens to hurt Arya. Sansa lies to King Robert about the circumstances of the fight in order to protect both Joffrey and her sister Arya.  Since Arya ran off with her wolf to save it, Sansa\\'s wolf is killed instead, estranging the Stark daughters.\\nDuring the Tourney of the Hand to honour her father Lord Eddard Stark, Sansa Stark is enchanted by the knights performing in the event.  At the request of his mother, Queen Cersei Lannister, Joffrey spends a portion of the tourney with Sansa, but near the end he commands his guard Sandor Clegane, better known as The Hound, to take her back to her quarters. Sandor explains how his older brother, Gregor, aka \"Mountain that Rides\" pushed his face into a brazier of hot coals, for playing with one of his wooden toys.\\nAfter Eddard discovers the truth of Joffrey\\'s paternity, he tells Sansa that they will be heading back to Winterfell. Sansa is devastated and wishes to stay in King\\'s Landing, so she runs off to inform Queen Cersei of her father\\'s plans, unwittingly providing Cersei with the information needed to arrest her father. After Robert dies, Sansa begs Joffrey to show mercy on her father and he agrees, if Ned will swear an oath of loyalty, but executes him anyway, in front of Sansa.  Sansa is now effectively a hostage in King\\'s Landing and finally sees Joffrey\\'s true nature, after he forces her to look at the tarred head of her now-deceased father.', 'content_type': 'text', 'score': None, 'meta': {'name': '332_Sansa_Stark.txt'}, 'embedding': None, 'id': 'd1f36ec7170e4c46cde65787fe125dfe'}>,\n",
      "               <Document: {'content': '\\n===In Braavos===\\nLady Crane returns to her chambers to find a wounded Arya hiding inside, and helps stitch her wounds. She tells Arya that, thanks to her warning, she mutilated her would-be killer Bianca\\'s face before kicking her out of the acting company. She then offers to have Arya join them, but she refuses, saying that she intends to travel west of Westeros to see the edge of the world. As Arya recovers, the Waif arrives and kills Lady Crane, intending to kill Arya as well. Arya flees through the streets of Braavos, but during the chase, Arya\\'s wounds reopen and she limps back to her hideout with the Waif in pursuit. As the Waif closes in, Arya extinguishes the candle lighting the room; having trained while blinded for several weeks, Arya has the upper hand.\\nAt the House of Black and White, Jaqen follows a bloodtrail to the Hall of Faces, where he finds the Waif\\'s face before being held at sword-point by Arya. Jaqen congratulates Arya for finally becoming No One. However, she rejects the title, asserting her identity as Arya Stark before turning and leaving, announcing that she is \"going home.\" Jaqen proudly watches on as she leaves.', 'content_type': 'text', 'score': None, 'meta': {'name': '425_No_One__Game_of_Thrones_.txt'}, 'embedding': None, 'id': '4544f93ec64313e603729e14d0f75f47'}>,\n",
      "               <Document: {'content': \"\\n== Characters ==\\nThe tale is told through the eyes of 9 recurring POV characters plus one prologue POV character:\\n* Prologue: Maester Cressen, maester at Dragonstone\\n* Tyrion Lannister, youngest son of Lord Tywin Lannister, a dwarf and a brother to Queen Cersei, and the acting Hand of the King\\n* Lady Catelyn Stark, of House Tully, widow of Eddard Stark, Lord of Winterfell\\n* Ser Davos Seaworth, a smuggler turned knight in the service of King Stannis Baratheon, often called the Onion Knight\\n* Sansa Stark, eldest daughter of Eddard Stark and Catelyn Stark, held captive by Queen Cersei at King's Landing\\n* Arya Stark, youngest daughter of Eddard Stark and Catelyn Stark, missing and presumed dead\\n* Bran Stark, second son of Eddard Stark and Catelyn Stark and heir to Winterfell and the King in the North\\n* Jon Snow, bastard son of Eddard Stark, and a man of the Night's Watch\\n* Theon Greyjoy, heir to the Seastone Chair and former ward of Lord Eddard Stark\\n* Queen Daenerys Targaryen, the Unburnt and Mother of Dragons, of the Targaryen dynasty\", 'content_type': 'text', 'score': None, 'meta': {'name': '198_A_Clash_of_Kings.txt'}, 'embedding': None, 'id': '7d99e8285308088d31ce4fda71e01942'}>,\n",
      "               <Document: {'content': '\\n==== \\'\\'A Game of Thrones\\'\\' ====\\nArya adopts a direwolf cub, which she names Nymeria after a legendary warrior queen. She travels with her father, Eddard, to King\\'s Landing when he is made Hand of the King. Before she leaves, her half-brother Jon Snow has a smallsword made for her as a parting gift, which she names \"Needle\" after her least favorite ladylike activity.\\nWhile taking a walk together, Prince Joffrey and her sister Sansa happen upon Arya and her friend, the low-born butcher apprentice Mycah, sparring in the woods with broomsticks.  Arya defends Mycah from Joffrey\\'s torments and her direwolf Nymeria helps Arya fight off Joffrey, wounding his arm in the process.  Knowing that Nymeria will likely be killed in retribution, Arya chases her wolf away; but Sansa\\'s direwolf Lady is killed in Nymeria\\'s stead and Mycah is hunted down and killed by Sandor Clegane, Joffrey\\'s bodyguard.\\nIn King\\'s Landing, her father discovers Arya\\'s possession of Needle, but instead of confiscating it he arranges for fencing lessons under the Braavosi swordmaster Syrio Forel, who teaches her the style of fighting known as \"water dancing\".  After her father\\'s arrest, Syrio is killed protecting her and Arya narrowly escapes capture.  She later witnesses the public execution of her father before falling under the protection of the Night\\'s Watch recruiter Yoren.', 'content_type': 'text', 'score': None, 'meta': {'name': '43_Arya_Stark.txt'}, 'embedding': None, 'id': 'ba2a8e87ddd95e380bec55983ee7d55f'}>,\n",
      "               <Document: {'content': \"\\n====Season 7====\\nTaking the face of Walder Frey, Arya gathers the men of House Frey for a feast before killing them all with poisoned wine. Arya then journeys south, intending to travel to King's Landing to assassinate Cersei (now Queen of the Seven Kingdoms following the extinction of House Baratheon). However, Arya changes her mind after learning from Hot Pie that Jon has ousted House Bolton from Winterfell and has been crowned King in the North, and decides to return to her ancestral home. Along the way she encounters a wolf pack led by her long-lost direwolf Nymeria. Nymeria recognizes Arya, but she has grown feral and ignores Arya when she asks her to come North with her.\\nArriving at Winterfell, Arya finds that Jon has traveled to Dragonstone but is reunited with Sansa and Bran. Bran reveals his knowledge of Arya's kill list through greenseeing and presents her with a Valyrian steel dagger, which had been given to him by Littlefinger. Arya is also reunited with Brienne, who continues to serve the Starks, and manages to equal the female warrior during sparring despite her smaller size.\\nLittlefinger seeks to increase his influence on Sansa by driving a wedge between the Stark sisters. To this end, he allows Arya to witness him receiving a confidential message obtained from Maester Luwin's records. Arya breaks into Littlefinger's quarters to steal the message, which is a plea sent by Sansa following Ned's imprisonment to Robb imploring him to bend the knee to Joffrey. Outraged, Arya confronts Sansa and is unconvinced by her explanation that she did so to try and save Ned's life. Later, Arya catches Sansa looking at her collection of faces and threatens Sansa before leaving. Some time later, Sansa summons Arya to the great hall and begins an accusation of treason and murder; however, the accusation is directed towards Littlefinger, whose crimes have been discovered by Bran's greenseeing. Despite Littlefinger's pleas for mercy, Sansa sentences Littlefinger to death and Arya cuts his throat with the Valyrian steel dagger. The Stark sisters later resolve their differences, and acknowledge that the Starks must stay together to survive winter.\", 'content_type': 'text', 'score': None, 'meta': {'name': '43_Arya_Stark.txt'}, 'embedding': None, 'id': '258fc5f9015663050b4c78d5b47d14fa'}>,\n",
      "               <Document: {'content': \"\\n=== Arya Stark ===\\nArya Stark is the third child and younger daughter of Eddard and Catelyn Stark. She serves as a POV character for 33 chapters throughout ''A Game of Thrones'', ''A Clash of Kings'', ''A Storm of Swords'', ''A Feast for Crows'', and ''A Dance with Dragons''. So far she is the only character to appear in all 5 books as a POV character.\\nIn the HBO television adaptation, she is portrayed by Maisie Williams.\", 'content_type': 'text', 'score': None, 'meta': {'name': '30_List_of_A_Song_of_Ice_and_Fire_characters.txt'}, 'embedding': None, 'id': '965789c741c68963042e85b6e7b89757'}>,\n",
      "               <Document: {'content': '\\n===On the Kingsroad===\\nCity Watchmen search the caravan for Gendry but are turned away by Yoren. Gendry tells Arya Stark that he knows she is a girl, and she reveals she is actually Arya Stark after learning that her father met Gendry before he was executed.', 'content_type': 'text', 'score': None, 'meta': {'name': '224_The_Night_Lands.txt'}, 'embedding': None, 'id': 'a4d2cc51d351b785c6effddd3345bb39'}>],\n",
      " 'no_ans_gap': 11.688882827758789,\n",
      " 'node_id': 'Reader',\n",
      " 'params': {'Reader': {'top_k': 5}, 'Retriever': {'top_k': 10}},\n",
      " 'query': 'Who is the father of Arya Stark?',\n",
      " 'root_node': 'Query'}\n"
     ]
    }
   ]
  },
  {
   "cell_type": "code",
   "source": [
    "from haystack.utils import print_answers\n",
    "\n",
    "\n",
    "# Change `minimum` to `medium` or `all` to control the level of detail\n",
    "print_answers(prediction, details=\"medium\")"
   ],
   "metadata": {
    "colab": {
     "base_uri": "https://localhost:8080/"
    },
    "id": "YQmWECzHmnBI",
    "outputId": "0b1daf52-0ea7-4141-83d8-54c276e4fec7",
    "pycharm": {
     "name": "#%%\n"
    }
   },
   "execution_count": 34,
   "outputs": [
    {
     "output_type": "stream",
     "name": "stdout",
     "text": [
      "\n",
      "Query: Who is the father of Arya Stark?\n",
      "Answers:\n",
      "[   {   'answer': 'Eddard',\n",
      "        'context': 's Nymeria after a legendary warrior queen. She travels '\n",
      "                   \"with her father, Eddard, to King's Landing when he is made \"\n",
      "                   'Hand of the King. Before she leaves,',\n",
      "        'score': 0.9919580221176147},\n",
      "    {   'answer': 'Ned',\n",
      "        'context': '\\n'\n",
      "                   '====Season 1====\\n'\n",
      "                   'Arya accompanies her father Ned and her sister Sansa to '\n",
      "                   \"King's Landing. Before their departure, Arya's \"\n",
      "                   'half-brother Jon Snow gifts A',\n",
      "        'score': 0.9767245054244995},\n",
      "    {   'answer': 'Robert Baratheon',\n",
      "        'context': 'hen Gendry gives it to Arya, he tells her he is the '\n",
      "                   'bastard son of Robert Baratheon. Aware of their chances of '\n",
      "                   'dying in the upcoming battle and Arya w',\n",
      "        'score': 0.9408853054046631},\n",
      "    {   'answer': 'Eddard and Catelyn Stark',\n",
      "        'context': 'tark ===\\n'\n",
      "                   'Arya Stark is the third child and younger daughter of '\n",
      "                   'Eddard and Catelyn Stark. She serves as a POV character '\n",
      "                   \"for 33 chapters throughout ''A \",\n",
      "        'score': 0.9058837890625},\n",
      "    {   'answer': 'Lord Eddard Stark',\n",
      "        'context': 'ark daughters.\\n'\n",
      "                   'During the Tourney of the Hand to honour her father Lord '\n",
      "                   'Eddard Stark, Sansa Stark is enchanted by the knights '\n",
      "                   'performing in the event.',\n",
      "        'score': 0.8930397033691406}]\n"
     ]
    }
   ]
  },
  {
   "cell_type": "code",
   "source": [],
   "metadata": {
    "id": "XMjUdd5em3qr",
    "pycharm": {
     "name": "#%%\n"
    }
   },
   "execution_count": null,
   "outputs": []
  }
 ]
}